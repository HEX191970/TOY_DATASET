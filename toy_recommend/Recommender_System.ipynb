{
  "nbformat": 4,
  "nbformat_minor": 0,
  "metadata": {
    "colab": {
      "name": "Recommender System.ipynb",
      "provenance": [],
      "collapsed_sections": [],
      "machine_shape": "hm"
    },
    "kernelspec": {
      "name": "python3",
      "display_name": "Python 3"
    },
    "widgets": {
      "application/vnd.jupyter.widget-state+json": {
        "680525cfcd1a4f73af297ab91bae81a6": {
          "model_module": "@jupyter-widgets/controls",
          "model_name": "HBoxModel",
          "state": {
            "_view_name": "HBoxView",
            "_dom_classes": [],
            "_model_name": "HBoxModel",
            "_view_module": "@jupyter-widgets/controls",
            "_model_module_version": "1.5.0",
            "_view_count": null,
            "_view_module_version": "1.5.0",
            "box_style": "",
            "layout": "IPY_MODEL_c51da9dc33f34118ac51935810dc2345",
            "_model_module": "@jupyter-widgets/controls",
            "children": [
              "IPY_MODEL_adb5808c82ec4b5e9e30c404ab40a091",
              "IPY_MODEL_6462b2b9a8a0420eb0cdd08e20c7149e"
            ]
          }
        },
        "c51da9dc33f34118ac51935810dc2345": {
          "model_module": "@jupyter-widgets/base",
          "model_name": "LayoutModel",
          "state": {
            "_view_name": "LayoutView",
            "grid_template_rows": null,
            "right": null,
            "justify_content": null,
            "_view_module": "@jupyter-widgets/base",
            "overflow": null,
            "_model_module_version": "1.2.0",
            "_view_count": null,
            "flex_flow": null,
            "width": null,
            "min_width": null,
            "border": null,
            "align_items": null,
            "bottom": null,
            "_model_module": "@jupyter-widgets/base",
            "top": null,
            "grid_column": null,
            "overflow_y": null,
            "overflow_x": null,
            "grid_auto_flow": null,
            "grid_area": null,
            "grid_template_columns": null,
            "flex": null,
            "_model_name": "LayoutModel",
            "justify_items": null,
            "grid_row": null,
            "max_height": null,
            "align_content": null,
            "visibility": null,
            "align_self": null,
            "height": null,
            "min_height": null,
            "padding": null,
            "grid_auto_rows": null,
            "grid_gap": null,
            "max_width": null,
            "order": null,
            "_view_module_version": "1.2.0",
            "grid_template_areas": null,
            "object_position": null,
            "object_fit": null,
            "grid_auto_columns": null,
            "margin": null,
            "display": null,
            "left": null
          }
        },
        "adb5808c82ec4b5e9e30c404ab40a091": {
          "model_module": "@jupyter-widgets/controls",
          "model_name": "FloatProgressModel",
          "state": {
            "_view_name": "ProgressView",
            "style": "IPY_MODEL_b75f758142404a1085311073b111a6ab",
            "_dom_classes": [],
            "description": "100%",
            "_model_name": "FloatProgressModel",
            "bar_style": "success",
            "max": 15,
            "_view_module": "@jupyter-widgets/controls",
            "_model_module_version": "1.5.0",
            "value": 15,
            "_view_count": null,
            "_view_module_version": "1.5.0",
            "orientation": "horizontal",
            "min": 0,
            "description_tooltip": null,
            "_model_module": "@jupyter-widgets/controls",
            "layout": "IPY_MODEL_de5e77f18bc1446d8f62f4362e42dd58"
          }
        },
        "6462b2b9a8a0420eb0cdd08e20c7149e": {
          "model_module": "@jupyter-widgets/controls",
          "model_name": "HTMLModel",
          "state": {
            "_view_name": "HTMLView",
            "style": "IPY_MODEL_572d99c9dcbf40c792e57c781127106f",
            "_dom_classes": [],
            "description": "",
            "_model_name": "HTMLModel",
            "placeholder": "​",
            "_view_module": "@jupyter-widgets/controls",
            "_model_module_version": "1.5.0",
            "value": " 15/15 [17:54&lt;00:00, 71.64s/it]",
            "_view_count": null,
            "_view_module_version": "1.5.0",
            "description_tooltip": null,
            "_model_module": "@jupyter-widgets/controls",
            "layout": "IPY_MODEL_cfdb05dda69b444cb39583966373f613"
          }
        },
        "b75f758142404a1085311073b111a6ab": {
          "model_module": "@jupyter-widgets/controls",
          "model_name": "ProgressStyleModel",
          "state": {
            "_view_name": "StyleView",
            "_model_name": "ProgressStyleModel",
            "description_width": "initial",
            "_view_module": "@jupyter-widgets/base",
            "_model_module_version": "1.5.0",
            "_view_count": null,
            "_view_module_version": "1.2.0",
            "bar_color": null,
            "_model_module": "@jupyter-widgets/controls"
          }
        },
        "de5e77f18bc1446d8f62f4362e42dd58": {
          "model_module": "@jupyter-widgets/base",
          "model_name": "LayoutModel",
          "state": {
            "_view_name": "LayoutView",
            "grid_template_rows": null,
            "right": null,
            "justify_content": null,
            "_view_module": "@jupyter-widgets/base",
            "overflow": null,
            "_model_module_version": "1.2.0",
            "_view_count": null,
            "flex_flow": null,
            "width": null,
            "min_width": null,
            "border": null,
            "align_items": null,
            "bottom": null,
            "_model_module": "@jupyter-widgets/base",
            "top": null,
            "grid_column": null,
            "overflow_y": null,
            "overflow_x": null,
            "grid_auto_flow": null,
            "grid_area": null,
            "grid_template_columns": null,
            "flex": null,
            "_model_name": "LayoutModel",
            "justify_items": null,
            "grid_row": null,
            "max_height": null,
            "align_content": null,
            "visibility": null,
            "align_self": null,
            "height": null,
            "min_height": null,
            "padding": null,
            "grid_auto_rows": null,
            "grid_gap": null,
            "max_width": null,
            "order": null,
            "_view_module_version": "1.2.0",
            "grid_template_areas": null,
            "object_position": null,
            "object_fit": null,
            "grid_auto_columns": null,
            "margin": null,
            "display": null,
            "left": null
          }
        },
        "572d99c9dcbf40c792e57c781127106f": {
          "model_module": "@jupyter-widgets/controls",
          "model_name": "DescriptionStyleModel",
          "state": {
            "_view_name": "StyleView",
            "_model_name": "DescriptionStyleModel",
            "description_width": "",
            "_view_module": "@jupyter-widgets/base",
            "_model_module_version": "1.5.0",
            "_view_count": null,
            "_view_module_version": "1.2.0",
            "_model_module": "@jupyter-widgets/controls"
          }
        },
        "cfdb05dda69b444cb39583966373f613": {
          "model_module": "@jupyter-widgets/base",
          "model_name": "LayoutModel",
          "state": {
            "_view_name": "LayoutView",
            "grid_template_rows": null,
            "right": null,
            "justify_content": null,
            "_view_module": "@jupyter-widgets/base",
            "overflow": null,
            "_model_module_version": "1.2.0",
            "_view_count": null,
            "flex_flow": null,
            "width": null,
            "min_width": null,
            "border": null,
            "align_items": null,
            "bottom": null,
            "_model_module": "@jupyter-widgets/base",
            "top": null,
            "grid_column": null,
            "overflow_y": null,
            "overflow_x": null,
            "grid_auto_flow": null,
            "grid_area": null,
            "grid_template_columns": null,
            "flex": null,
            "_model_name": "LayoutModel",
            "justify_items": null,
            "grid_row": null,
            "max_height": null,
            "align_content": null,
            "visibility": null,
            "align_self": null,
            "height": null,
            "min_height": null,
            "padding": null,
            "grid_auto_rows": null,
            "grid_gap": null,
            "max_width": null,
            "order": null,
            "_view_module_version": "1.2.0",
            "grid_template_areas": null,
            "object_position": null,
            "object_fit": null,
            "grid_auto_columns": null,
            "margin": null,
            "display": null,
            "left": null
          }
        },
        "5a448b65e5e042c9b1785b9834322ca9": {
          "model_module": "@jupyter-widgets/controls",
          "model_name": "HBoxModel",
          "state": {
            "_view_name": "HBoxView",
            "_dom_classes": [],
            "_model_name": "HBoxModel",
            "_view_module": "@jupyter-widgets/controls",
            "_model_module_version": "1.5.0",
            "_view_count": null,
            "_view_module_version": "1.5.0",
            "box_style": "",
            "layout": "IPY_MODEL_7e7c6b4aaca74e9d8c0b0d87a73b6d18",
            "_model_module": "@jupyter-widgets/controls",
            "children": [
              "IPY_MODEL_feb111ce888244d5808db6bacba0dbee",
              "IPY_MODEL_6643110db345460aa3c3b4b99e7e8b4d"
            ]
          }
        },
        "7e7c6b4aaca74e9d8c0b0d87a73b6d18": {
          "model_module": "@jupyter-widgets/base",
          "model_name": "LayoutModel",
          "state": {
            "_view_name": "LayoutView",
            "grid_template_rows": null,
            "right": null,
            "justify_content": null,
            "_view_module": "@jupyter-widgets/base",
            "overflow": null,
            "_model_module_version": "1.2.0",
            "_view_count": null,
            "flex_flow": null,
            "width": null,
            "min_width": null,
            "border": null,
            "align_items": null,
            "bottom": null,
            "_model_module": "@jupyter-widgets/base",
            "top": null,
            "grid_column": null,
            "overflow_y": null,
            "overflow_x": null,
            "grid_auto_flow": null,
            "grid_area": null,
            "grid_template_columns": null,
            "flex": null,
            "_model_name": "LayoutModel",
            "justify_items": null,
            "grid_row": null,
            "max_height": null,
            "align_content": null,
            "visibility": null,
            "align_self": null,
            "height": null,
            "min_height": null,
            "padding": null,
            "grid_auto_rows": null,
            "grid_gap": null,
            "max_width": null,
            "order": null,
            "_view_module_version": "1.2.0",
            "grid_template_areas": null,
            "object_position": null,
            "object_fit": null,
            "grid_auto_columns": null,
            "margin": null,
            "display": null,
            "left": null
          }
        },
        "feb111ce888244d5808db6bacba0dbee": {
          "model_module": "@jupyter-widgets/controls",
          "model_name": "FloatProgressModel",
          "state": {
            "_view_name": "ProgressView",
            "style": "IPY_MODEL_42df80e1ef4f4684a90b4ff191798a7b",
            "_dom_classes": [],
            "description": "100%",
            "_model_name": "FloatProgressModel",
            "bar_style": "success",
            "max": 15,
            "_view_module": "@jupyter-widgets/controls",
            "_model_module_version": "1.5.0",
            "value": 15,
            "_view_count": null,
            "_view_module_version": "1.5.0",
            "orientation": "horizontal",
            "min": 0,
            "description_tooltip": null,
            "_model_module": "@jupyter-widgets/controls",
            "layout": "IPY_MODEL_2cdd6dcbe868448697551df64e38bdd9"
          }
        },
        "6643110db345460aa3c3b4b99e7e8b4d": {
          "model_module": "@jupyter-widgets/controls",
          "model_name": "HTMLModel",
          "state": {
            "_view_name": "HTMLView",
            "style": "IPY_MODEL_fdab0586bb854019b7580a29c5df7832",
            "_dom_classes": [],
            "description": "",
            "_model_name": "HTMLModel",
            "placeholder": "​",
            "_view_module": "@jupyter-widgets/controls",
            "_model_module_version": "1.5.0",
            "value": " 15/15 [02:20&lt;00:00,  9.36s/it]",
            "_view_count": null,
            "_view_module_version": "1.5.0",
            "description_tooltip": null,
            "_model_module": "@jupyter-widgets/controls",
            "layout": "IPY_MODEL_cfb6ac20812a4abd8b5872c85ab615ab"
          }
        },
        "42df80e1ef4f4684a90b4ff191798a7b": {
          "model_module": "@jupyter-widgets/controls",
          "model_name": "ProgressStyleModel",
          "state": {
            "_view_name": "StyleView",
            "_model_name": "ProgressStyleModel",
            "description_width": "initial",
            "_view_module": "@jupyter-widgets/base",
            "_model_module_version": "1.5.0",
            "_view_count": null,
            "_view_module_version": "1.2.0",
            "bar_color": null,
            "_model_module": "@jupyter-widgets/controls"
          }
        },
        "2cdd6dcbe868448697551df64e38bdd9": {
          "model_module": "@jupyter-widgets/base",
          "model_name": "LayoutModel",
          "state": {
            "_view_name": "LayoutView",
            "grid_template_rows": null,
            "right": null,
            "justify_content": null,
            "_view_module": "@jupyter-widgets/base",
            "overflow": null,
            "_model_module_version": "1.2.0",
            "_view_count": null,
            "flex_flow": null,
            "width": null,
            "min_width": null,
            "border": null,
            "align_items": null,
            "bottom": null,
            "_model_module": "@jupyter-widgets/base",
            "top": null,
            "grid_column": null,
            "overflow_y": null,
            "overflow_x": null,
            "grid_auto_flow": null,
            "grid_area": null,
            "grid_template_columns": null,
            "flex": null,
            "_model_name": "LayoutModel",
            "justify_items": null,
            "grid_row": null,
            "max_height": null,
            "align_content": null,
            "visibility": null,
            "align_self": null,
            "height": null,
            "min_height": null,
            "padding": null,
            "grid_auto_rows": null,
            "grid_gap": null,
            "max_width": null,
            "order": null,
            "_view_module_version": "1.2.0",
            "grid_template_areas": null,
            "object_position": null,
            "object_fit": null,
            "grid_auto_columns": null,
            "margin": null,
            "display": null,
            "left": null
          }
        },
        "fdab0586bb854019b7580a29c5df7832": {
          "model_module": "@jupyter-widgets/controls",
          "model_name": "DescriptionStyleModel",
          "state": {
            "_view_name": "StyleView",
            "_model_name": "DescriptionStyleModel",
            "description_width": "",
            "_view_module": "@jupyter-widgets/base",
            "_model_module_version": "1.5.0",
            "_view_count": null,
            "_view_module_version": "1.2.0",
            "_model_module": "@jupyter-widgets/controls"
          }
        },
        "cfb6ac20812a4abd8b5872c85ab615ab": {
          "model_module": "@jupyter-widgets/base",
          "model_name": "LayoutModel",
          "state": {
            "_view_name": "LayoutView",
            "grid_template_rows": null,
            "right": null,
            "justify_content": null,
            "_view_module": "@jupyter-widgets/base",
            "overflow": null,
            "_model_module_version": "1.2.0",
            "_view_count": null,
            "flex_flow": null,
            "width": null,
            "min_width": null,
            "border": null,
            "align_items": null,
            "bottom": null,
            "_model_module": "@jupyter-widgets/base",
            "top": null,
            "grid_column": null,
            "overflow_y": null,
            "overflow_x": null,
            "grid_auto_flow": null,
            "grid_area": null,
            "grid_template_columns": null,
            "flex": null,
            "_model_name": "LayoutModel",
            "justify_items": null,
            "grid_row": null,
            "max_height": null,
            "align_content": null,
            "visibility": null,
            "align_self": null,
            "height": null,
            "min_height": null,
            "padding": null,
            "grid_auto_rows": null,
            "grid_gap": null,
            "max_width": null,
            "order": null,
            "_view_module_version": "1.2.0",
            "grid_template_areas": null,
            "object_position": null,
            "object_fit": null,
            "grid_auto_columns": null,
            "margin": null,
            "display": null,
            "left": null
          }
        }
      }
    },
    "accelerator": "GPU"
  },
  "cells": [
    {
      "cell_type": "markdown",
      "metadata": {
        "id": "T_w0VyWv6_iG",
        "colab_type": "text"
      },
      "source": [
        "# Preparation *section*"
      ]
    },
    {
      "cell_type": "markdown",
      "metadata": {
        "id": "79V7V0uw7aUl",
        "colab_type": "text"
      },
      "source": [
        "## google drive mount"
      ]
    },
    {
      "cell_type": "code",
      "metadata": {
        "id": "HHtjGpWVMY3X",
        "colab_type": "code",
        "colab": {
          "base_uri": "https://localhost:8080/",
          "height": 127
        },
        "outputId": "9036ecda-c5d4-40b2-afe9-673050d95e7e"
      },
      "source": [
        "from google.colab import drive\n",
        "drive.mount('/gdrive')"
      ],
      "execution_count": 1,
      "outputs": [
        {
          "output_type": "stream",
          "text": [
            "Go to this URL in a browser: https://accounts.google.com/o/oauth2/auth?client_id=947318989803-6bn6qk8qdgf4n4g3pfee6491hc0brc4i.apps.googleusercontent.com&redirect_uri=urn%3aietf%3awg%3aoauth%3a2.0%3aoob&scope=email%20https%3a%2f%2fwww.googleapis.com%2fauth%2fdocs.test%20https%3a%2f%2fwww.googleapis.com%2fauth%2fdrive%20https%3a%2f%2fwww.googleapis.com%2fauth%2fdrive.photos.readonly%20https%3a%2f%2fwww.googleapis.com%2fauth%2fpeopleapi.readonly&response_type=code\n",
            "\n",
            "Enter your authorization code:\n",
            "··········\n",
            "Mounted at /gdrive\n"
          ],
          "name": "stdout"
        }
      ]
    },
    {
      "cell_type": "markdown",
      "metadata": {
        "id": "neHbB_eh7a5w",
        "colab_type": "text"
      },
      "source": [
        "## unzip tarfile"
      ]
    },
    {
      "cell_type": "code",
      "metadata": {
        "id": "O9-DufY7MaZC",
        "colab_type": "code",
        "colab": {}
      },
      "source": [
        "import os, tarfile\n",
        "\n",
        "dst_path='/gdrive/My Drive/PROJECT/Recommender/'\n",
        "dst='/content/Recommender/'\n",
        "dst_file=dst_path+'lastfm-dataset-360K.tar.gz'\n",
        "\n",
        "if not os.path.exists(dst):\n",
        "    os.makedirs(dst)\n",
        "\n",
        "with tarfile.open(dst_file,mode='r') as file:\n",
        "    file.extractall(dst)"
      ],
      "execution_count": 2,
      "outputs": []
    },
    {
      "cell_type": "markdown",
      "metadata": {
        "id": "jr_CGrdD7NoB",
        "colab_type": "text"
      },
      "source": [
        "## Recommand System"
      ]
    },
    {
      "cell_type": "markdown",
      "metadata": {
        "id": "CjGHoCVs7lgD",
        "colab_type": "text"
      },
      "source": [
        "> 협업 필터링 : 다수의 사용자가 아이템을 구매한 이력 정보만으로 사용자간 유사성 및 아이템간 유사성을 파악 </br>\n",
        "단점</br>\n",
        "* 시스템이 충분한 정보를 모으지 못한 사용자나 아이템에 대한 추론을 할 수 없는 상태인 콜드 스타트(Cold Start) 상황 \n",
        "* 계산량이 너무 많아 추천의 효율이 떨어지는 상황\n",
        "* 롱테일의 꼬리 부분, 즉 사용자의 관심이 저조한 항목의 정보가 부족하여 추천에서 배제되는 상황\n",
        "\n",
        "> 콘텐츠 기반 필터링 : 아이템의 고유의 정보를 바탕으로 아이템간 유사성을 파악"
      ]
    },
    {
      "cell_type": "markdown",
      "metadata": {
        "id": "mpNkVRXi8Qjk",
        "colab_type": "text"
      },
      "source": [
        "# Dataset"
      ]
    },
    {
      "cell_type": "code",
      "metadata": {
        "id": "jwgpTfPNbijg",
        "colab_type": "code",
        "colab": {
          "base_uri": "https://localhost:8080/",
          "height": 376
        },
        "outputId": "a0a0350d-0963-4f79-c760-ed707c9d7bbd"
      },
      "source": [
        "import pandas as pd\n",
        "import os\n",
        "\n",
        "data_path = '/content/Recommender/lastfm-dataset-360K/usersha1-artmbid-artname-plays.tsv'\n",
        "\n",
        "fname = data_path\n",
        "col_names = ['user_id', 'artist_MBID', 'artist', 'play']   # 임의로 지정한 컬럼명\n",
        "data = pd.read_csv(fname, sep='\\t', names= col_names)      # sep='\\t'로 주어야 tsv를 열 수 있습니다.  \n",
        "print(data.shape)\n",
        "data.head(10)\n"
      ],
      "execution_count": 3,
      "outputs": [
        {
          "output_type": "stream",
          "text": [
            "(17535655, 4)\n"
          ],
          "name": "stdout"
        },
        {
          "output_type": "execute_result",
          "data": {
            "text/html": [
              "<div>\n",
              "<style scoped>\n",
              "    .dataframe tbody tr th:only-of-type {\n",
              "        vertical-align: middle;\n",
              "    }\n",
              "\n",
              "    .dataframe tbody tr th {\n",
              "        vertical-align: top;\n",
              "    }\n",
              "\n",
              "    .dataframe thead th {\n",
              "        text-align: right;\n",
              "    }\n",
              "</style>\n",
              "<table border=\"1\" class=\"dataframe\">\n",
              "  <thead>\n",
              "    <tr style=\"text-align: right;\">\n",
              "      <th></th>\n",
              "      <th>user_id</th>\n",
              "      <th>artist_MBID</th>\n",
              "      <th>artist</th>\n",
              "      <th>play</th>\n",
              "    </tr>\n",
              "  </thead>\n",
              "  <tbody>\n",
              "    <tr>\n",
              "      <th>0</th>\n",
              "      <td>00000c289a1829a808ac09c00daf10bc3c4e223b</td>\n",
              "      <td>3bd73256-3905-4f3a-97e2-8b341527f805</td>\n",
              "      <td>betty blowtorch</td>\n",
              "      <td>2137</td>\n",
              "    </tr>\n",
              "    <tr>\n",
              "      <th>1</th>\n",
              "      <td>00000c289a1829a808ac09c00daf10bc3c4e223b</td>\n",
              "      <td>f2fb0ff0-5679-42ec-a55c-15109ce6e320</td>\n",
              "      <td>die Ärzte</td>\n",
              "      <td>1099</td>\n",
              "    </tr>\n",
              "    <tr>\n",
              "      <th>2</th>\n",
              "      <td>00000c289a1829a808ac09c00daf10bc3c4e223b</td>\n",
              "      <td>b3ae82c2-e60b-4551-a76d-6620f1b456aa</td>\n",
              "      <td>melissa etheridge</td>\n",
              "      <td>897</td>\n",
              "    </tr>\n",
              "    <tr>\n",
              "      <th>3</th>\n",
              "      <td>00000c289a1829a808ac09c00daf10bc3c4e223b</td>\n",
              "      <td>3d6bbeb7-f90e-4d10-b440-e153c0d10b53</td>\n",
              "      <td>elvenking</td>\n",
              "      <td>717</td>\n",
              "    </tr>\n",
              "    <tr>\n",
              "      <th>4</th>\n",
              "      <td>00000c289a1829a808ac09c00daf10bc3c4e223b</td>\n",
              "      <td>bbd2ffd7-17f4-4506-8572-c1ea58c3f9a8</td>\n",
              "      <td>juliette &amp; the licks</td>\n",
              "      <td>706</td>\n",
              "    </tr>\n",
              "    <tr>\n",
              "      <th>5</th>\n",
              "      <td>00000c289a1829a808ac09c00daf10bc3c4e223b</td>\n",
              "      <td>8bfac288-ccc5-448d-9573-c33ea2aa5c30</td>\n",
              "      <td>red hot chili peppers</td>\n",
              "      <td>691</td>\n",
              "    </tr>\n",
              "    <tr>\n",
              "      <th>6</th>\n",
              "      <td>00000c289a1829a808ac09c00daf10bc3c4e223b</td>\n",
              "      <td>6531c8b1-76ea-4141-b270-eb1ac5b41375</td>\n",
              "      <td>magica</td>\n",
              "      <td>545</td>\n",
              "    </tr>\n",
              "    <tr>\n",
              "      <th>7</th>\n",
              "      <td>00000c289a1829a808ac09c00daf10bc3c4e223b</td>\n",
              "      <td>21f3573f-10cf-44b3-aeaa-26cccd8448b5</td>\n",
              "      <td>the black dahlia murder</td>\n",
              "      <td>507</td>\n",
              "    </tr>\n",
              "    <tr>\n",
              "      <th>8</th>\n",
              "      <td>00000c289a1829a808ac09c00daf10bc3c4e223b</td>\n",
              "      <td>c5db90c4-580d-4f33-b364-fbaa5a3a58b5</td>\n",
              "      <td>the murmurs</td>\n",
              "      <td>424</td>\n",
              "    </tr>\n",
              "    <tr>\n",
              "      <th>9</th>\n",
              "      <td>00000c289a1829a808ac09c00daf10bc3c4e223b</td>\n",
              "      <td>0639533a-0402-40ba-b6e0-18b067198b73</td>\n",
              "      <td>lunachicks</td>\n",
              "      <td>403</td>\n",
              "    </tr>\n",
              "  </tbody>\n",
              "</table>\n",
              "</div>"
            ],
            "text/plain": [
              "                                    user_id  ...  play\n",
              "0  00000c289a1829a808ac09c00daf10bc3c4e223b  ...  2137\n",
              "1  00000c289a1829a808ac09c00daf10bc3c4e223b  ...  1099\n",
              "2  00000c289a1829a808ac09c00daf10bc3c4e223b  ...   897\n",
              "3  00000c289a1829a808ac09c00daf10bc3c4e223b  ...   717\n",
              "4  00000c289a1829a808ac09c00daf10bc3c4e223b  ...   706\n",
              "5  00000c289a1829a808ac09c00daf10bc3c4e223b  ...   691\n",
              "6  00000c289a1829a808ac09c00daf10bc3c4e223b  ...   545\n",
              "7  00000c289a1829a808ac09c00daf10bc3c4e223b  ...   507\n",
              "8  00000c289a1829a808ac09c00daf10bc3c4e223b  ...   424\n",
              "9  00000c289a1829a808ac09c00daf10bc3c4e223b  ...   403\n",
              "\n",
              "[10 rows x 4 columns]"
            ]
          },
          "metadata": {
            "tags": []
          },
          "execution_count": 3
        }
      ]
    },
    {
      "cell_type": "code",
      "metadata": {
        "id": "XelY9XEZcdsZ",
        "colab_type": "code",
        "colab": {
          "base_uri": "https://localhost:8080/",
          "height": 358
        },
        "outputId": "e77ba160-e8a7-4a24-b9a7-9ff97ddd45d9"
      },
      "source": [
        "# 사용하는 컬럼만 남겨줍니다.\n",
        "using_cols = ['user_id', 'artist', 'play']\n",
        "data = data[using_cols]\n",
        "data.head(10)"
      ],
      "execution_count": 4,
      "outputs": [
        {
          "output_type": "execute_result",
          "data": {
            "text/html": [
              "<div>\n",
              "<style scoped>\n",
              "    .dataframe tbody tr th:only-of-type {\n",
              "        vertical-align: middle;\n",
              "    }\n",
              "\n",
              "    .dataframe tbody tr th {\n",
              "        vertical-align: top;\n",
              "    }\n",
              "\n",
              "    .dataframe thead th {\n",
              "        text-align: right;\n",
              "    }\n",
              "</style>\n",
              "<table border=\"1\" class=\"dataframe\">\n",
              "  <thead>\n",
              "    <tr style=\"text-align: right;\">\n",
              "      <th></th>\n",
              "      <th>user_id</th>\n",
              "      <th>artist</th>\n",
              "      <th>play</th>\n",
              "    </tr>\n",
              "  </thead>\n",
              "  <tbody>\n",
              "    <tr>\n",
              "      <th>0</th>\n",
              "      <td>00000c289a1829a808ac09c00daf10bc3c4e223b</td>\n",
              "      <td>betty blowtorch</td>\n",
              "      <td>2137</td>\n",
              "    </tr>\n",
              "    <tr>\n",
              "      <th>1</th>\n",
              "      <td>00000c289a1829a808ac09c00daf10bc3c4e223b</td>\n",
              "      <td>die Ärzte</td>\n",
              "      <td>1099</td>\n",
              "    </tr>\n",
              "    <tr>\n",
              "      <th>2</th>\n",
              "      <td>00000c289a1829a808ac09c00daf10bc3c4e223b</td>\n",
              "      <td>melissa etheridge</td>\n",
              "      <td>897</td>\n",
              "    </tr>\n",
              "    <tr>\n",
              "      <th>3</th>\n",
              "      <td>00000c289a1829a808ac09c00daf10bc3c4e223b</td>\n",
              "      <td>elvenking</td>\n",
              "      <td>717</td>\n",
              "    </tr>\n",
              "    <tr>\n",
              "      <th>4</th>\n",
              "      <td>00000c289a1829a808ac09c00daf10bc3c4e223b</td>\n",
              "      <td>juliette &amp; the licks</td>\n",
              "      <td>706</td>\n",
              "    </tr>\n",
              "    <tr>\n",
              "      <th>5</th>\n",
              "      <td>00000c289a1829a808ac09c00daf10bc3c4e223b</td>\n",
              "      <td>red hot chili peppers</td>\n",
              "      <td>691</td>\n",
              "    </tr>\n",
              "    <tr>\n",
              "      <th>6</th>\n",
              "      <td>00000c289a1829a808ac09c00daf10bc3c4e223b</td>\n",
              "      <td>magica</td>\n",
              "      <td>545</td>\n",
              "    </tr>\n",
              "    <tr>\n",
              "      <th>7</th>\n",
              "      <td>00000c289a1829a808ac09c00daf10bc3c4e223b</td>\n",
              "      <td>the black dahlia murder</td>\n",
              "      <td>507</td>\n",
              "    </tr>\n",
              "    <tr>\n",
              "      <th>8</th>\n",
              "      <td>00000c289a1829a808ac09c00daf10bc3c4e223b</td>\n",
              "      <td>the murmurs</td>\n",
              "      <td>424</td>\n",
              "    </tr>\n",
              "    <tr>\n",
              "      <th>9</th>\n",
              "      <td>00000c289a1829a808ac09c00daf10bc3c4e223b</td>\n",
              "      <td>lunachicks</td>\n",
              "      <td>403</td>\n",
              "    </tr>\n",
              "  </tbody>\n",
              "</table>\n",
              "</div>"
            ],
            "text/plain": [
              "                                    user_id                   artist  play\n",
              "0  00000c289a1829a808ac09c00daf10bc3c4e223b          betty blowtorch  2137\n",
              "1  00000c289a1829a808ac09c00daf10bc3c4e223b                die Ärzte  1099\n",
              "2  00000c289a1829a808ac09c00daf10bc3c4e223b        melissa etheridge   897\n",
              "3  00000c289a1829a808ac09c00daf10bc3c4e223b                elvenking   717\n",
              "4  00000c289a1829a808ac09c00daf10bc3c4e223b     juliette & the licks   706\n",
              "5  00000c289a1829a808ac09c00daf10bc3c4e223b    red hot chili peppers   691\n",
              "6  00000c289a1829a808ac09c00daf10bc3c4e223b                   magica   545\n",
              "7  00000c289a1829a808ac09c00daf10bc3c4e223b  the black dahlia murder   507\n",
              "8  00000c289a1829a808ac09c00daf10bc3c4e223b              the murmurs   424\n",
              "9  00000c289a1829a808ac09c00daf10bc3c4e223b               lunachicks   403"
            ]
          },
          "metadata": {
            "tags": []
          },
          "execution_count": 4
        }
      ]
    },
    {
      "cell_type": "code",
      "metadata": {
        "id": "OLaeETildKBg",
        "colab_type": "code",
        "colab": {
          "base_uri": "https://localhost:8080/",
          "height": 358
        },
        "outputId": "7acbd4f0-4a57-4fd6-8665-bf4926d86c20"
      },
      "source": [
        "data['artist'] = data['artist'].str.lower() # 검색을 쉽게하기 위해 아티스트 문자열을 소문자로 바꿔줍시다.\n",
        "data.head(10)"
      ],
      "execution_count": 5,
      "outputs": [
        {
          "output_type": "execute_result",
          "data": {
            "text/html": [
              "<div>\n",
              "<style scoped>\n",
              "    .dataframe tbody tr th:only-of-type {\n",
              "        vertical-align: middle;\n",
              "    }\n",
              "\n",
              "    .dataframe tbody tr th {\n",
              "        vertical-align: top;\n",
              "    }\n",
              "\n",
              "    .dataframe thead th {\n",
              "        text-align: right;\n",
              "    }\n",
              "</style>\n",
              "<table border=\"1\" class=\"dataframe\">\n",
              "  <thead>\n",
              "    <tr style=\"text-align: right;\">\n",
              "      <th></th>\n",
              "      <th>user_id</th>\n",
              "      <th>artist</th>\n",
              "      <th>play</th>\n",
              "    </tr>\n",
              "  </thead>\n",
              "  <tbody>\n",
              "    <tr>\n",
              "      <th>0</th>\n",
              "      <td>00000c289a1829a808ac09c00daf10bc3c4e223b</td>\n",
              "      <td>betty blowtorch</td>\n",
              "      <td>2137</td>\n",
              "    </tr>\n",
              "    <tr>\n",
              "      <th>1</th>\n",
              "      <td>00000c289a1829a808ac09c00daf10bc3c4e223b</td>\n",
              "      <td>die ärzte</td>\n",
              "      <td>1099</td>\n",
              "    </tr>\n",
              "    <tr>\n",
              "      <th>2</th>\n",
              "      <td>00000c289a1829a808ac09c00daf10bc3c4e223b</td>\n",
              "      <td>melissa etheridge</td>\n",
              "      <td>897</td>\n",
              "    </tr>\n",
              "    <tr>\n",
              "      <th>3</th>\n",
              "      <td>00000c289a1829a808ac09c00daf10bc3c4e223b</td>\n",
              "      <td>elvenking</td>\n",
              "      <td>717</td>\n",
              "    </tr>\n",
              "    <tr>\n",
              "      <th>4</th>\n",
              "      <td>00000c289a1829a808ac09c00daf10bc3c4e223b</td>\n",
              "      <td>juliette &amp; the licks</td>\n",
              "      <td>706</td>\n",
              "    </tr>\n",
              "    <tr>\n",
              "      <th>5</th>\n",
              "      <td>00000c289a1829a808ac09c00daf10bc3c4e223b</td>\n",
              "      <td>red hot chili peppers</td>\n",
              "      <td>691</td>\n",
              "    </tr>\n",
              "    <tr>\n",
              "      <th>6</th>\n",
              "      <td>00000c289a1829a808ac09c00daf10bc3c4e223b</td>\n",
              "      <td>magica</td>\n",
              "      <td>545</td>\n",
              "    </tr>\n",
              "    <tr>\n",
              "      <th>7</th>\n",
              "      <td>00000c289a1829a808ac09c00daf10bc3c4e223b</td>\n",
              "      <td>the black dahlia murder</td>\n",
              "      <td>507</td>\n",
              "    </tr>\n",
              "    <tr>\n",
              "      <th>8</th>\n",
              "      <td>00000c289a1829a808ac09c00daf10bc3c4e223b</td>\n",
              "      <td>the murmurs</td>\n",
              "      <td>424</td>\n",
              "    </tr>\n",
              "    <tr>\n",
              "      <th>9</th>\n",
              "      <td>00000c289a1829a808ac09c00daf10bc3c4e223b</td>\n",
              "      <td>lunachicks</td>\n",
              "      <td>403</td>\n",
              "    </tr>\n",
              "  </tbody>\n",
              "</table>\n",
              "</div>"
            ],
            "text/plain": [
              "                                    user_id                   artist  play\n",
              "0  00000c289a1829a808ac09c00daf10bc3c4e223b          betty blowtorch  2137\n",
              "1  00000c289a1829a808ac09c00daf10bc3c4e223b                die ärzte  1099\n",
              "2  00000c289a1829a808ac09c00daf10bc3c4e223b        melissa etheridge   897\n",
              "3  00000c289a1829a808ac09c00daf10bc3c4e223b                elvenking   717\n",
              "4  00000c289a1829a808ac09c00daf10bc3c4e223b     juliette & the licks   706\n",
              "5  00000c289a1829a808ac09c00daf10bc3c4e223b    red hot chili peppers   691\n",
              "6  00000c289a1829a808ac09c00daf10bc3c4e223b                   magica   545\n",
              "7  00000c289a1829a808ac09c00daf10bc3c4e223b  the black dahlia murder   507\n",
              "8  00000c289a1829a808ac09c00daf10bc3c4e223b              the murmurs   424\n",
              "9  00000c289a1829a808ac09c00daf10bc3c4e223b               lunachicks   403"
            ]
          },
          "metadata": {
            "tags": []
          },
          "execution_count": 5
        }
      ]
    },
    {
      "cell_type": "code",
      "metadata": {
        "id": "Aq5wGyQcdLQ4",
        "colab_type": "code",
        "colab": {
          "base_uri": "https://localhost:8080/",
          "height": 1000
        },
        "outputId": "eb706316-f0d0-48ed-f56c-a8220ec11ad5"
      },
      "source": [
        "condition = data['user_id']== data.loc[0, 'user_id']\n",
        "data.loc[condition]\n",
        "# 첫 번째 유저가 어떤 아티스트의 노래를 듣는지 확인해보는 과정"
      ],
      "execution_count": 6,
      "outputs": [
        {
          "output_type": "execute_result",
          "data": {
            "text/html": [
              "<div>\n",
              "<style scoped>\n",
              "    .dataframe tbody tr th:only-of-type {\n",
              "        vertical-align: middle;\n",
              "    }\n",
              "\n",
              "    .dataframe tbody tr th {\n",
              "        vertical-align: top;\n",
              "    }\n",
              "\n",
              "    .dataframe thead th {\n",
              "        text-align: right;\n",
              "    }\n",
              "</style>\n",
              "<table border=\"1\" class=\"dataframe\">\n",
              "  <thead>\n",
              "    <tr style=\"text-align: right;\">\n",
              "      <th></th>\n",
              "      <th>user_id</th>\n",
              "      <th>artist</th>\n",
              "      <th>play</th>\n",
              "    </tr>\n",
              "  </thead>\n",
              "  <tbody>\n",
              "    <tr>\n",
              "      <th>0</th>\n",
              "      <td>00000c289a1829a808ac09c00daf10bc3c4e223b</td>\n",
              "      <td>betty blowtorch</td>\n",
              "      <td>2137</td>\n",
              "    </tr>\n",
              "    <tr>\n",
              "      <th>1</th>\n",
              "      <td>00000c289a1829a808ac09c00daf10bc3c4e223b</td>\n",
              "      <td>die ärzte</td>\n",
              "      <td>1099</td>\n",
              "    </tr>\n",
              "    <tr>\n",
              "      <th>2</th>\n",
              "      <td>00000c289a1829a808ac09c00daf10bc3c4e223b</td>\n",
              "      <td>melissa etheridge</td>\n",
              "      <td>897</td>\n",
              "    </tr>\n",
              "    <tr>\n",
              "      <th>3</th>\n",
              "      <td>00000c289a1829a808ac09c00daf10bc3c4e223b</td>\n",
              "      <td>elvenking</td>\n",
              "      <td>717</td>\n",
              "    </tr>\n",
              "    <tr>\n",
              "      <th>4</th>\n",
              "      <td>00000c289a1829a808ac09c00daf10bc3c4e223b</td>\n",
              "      <td>juliette &amp; the licks</td>\n",
              "      <td>706</td>\n",
              "    </tr>\n",
              "    <tr>\n",
              "      <th>5</th>\n",
              "      <td>00000c289a1829a808ac09c00daf10bc3c4e223b</td>\n",
              "      <td>red hot chili peppers</td>\n",
              "      <td>691</td>\n",
              "    </tr>\n",
              "    <tr>\n",
              "      <th>6</th>\n",
              "      <td>00000c289a1829a808ac09c00daf10bc3c4e223b</td>\n",
              "      <td>magica</td>\n",
              "      <td>545</td>\n",
              "    </tr>\n",
              "    <tr>\n",
              "      <th>7</th>\n",
              "      <td>00000c289a1829a808ac09c00daf10bc3c4e223b</td>\n",
              "      <td>the black dahlia murder</td>\n",
              "      <td>507</td>\n",
              "    </tr>\n",
              "    <tr>\n",
              "      <th>8</th>\n",
              "      <td>00000c289a1829a808ac09c00daf10bc3c4e223b</td>\n",
              "      <td>the murmurs</td>\n",
              "      <td>424</td>\n",
              "    </tr>\n",
              "    <tr>\n",
              "      <th>9</th>\n",
              "      <td>00000c289a1829a808ac09c00daf10bc3c4e223b</td>\n",
              "      <td>lunachicks</td>\n",
              "      <td>403</td>\n",
              "    </tr>\n",
              "    <tr>\n",
              "      <th>10</th>\n",
              "      <td>00000c289a1829a808ac09c00daf10bc3c4e223b</td>\n",
              "      <td>walls of jericho</td>\n",
              "      <td>393</td>\n",
              "    </tr>\n",
              "    <tr>\n",
              "      <th>11</th>\n",
              "      <td>00000c289a1829a808ac09c00daf10bc3c4e223b</td>\n",
              "      <td>letzte instanz</td>\n",
              "      <td>387</td>\n",
              "    </tr>\n",
              "    <tr>\n",
              "      <th>12</th>\n",
              "      <td>00000c289a1829a808ac09c00daf10bc3c4e223b</td>\n",
              "      <td>goldfrapp</td>\n",
              "      <td>361</td>\n",
              "    </tr>\n",
              "    <tr>\n",
              "      <th>13</th>\n",
              "      <td>00000c289a1829a808ac09c00daf10bc3c4e223b</td>\n",
              "      <td>horrorpops</td>\n",
              "      <td>358</td>\n",
              "    </tr>\n",
              "    <tr>\n",
              "      <th>14</th>\n",
              "      <td>00000c289a1829a808ac09c00daf10bc3c4e223b</td>\n",
              "      <td>the butchies</td>\n",
              "      <td>329</td>\n",
              "    </tr>\n",
              "    <tr>\n",
              "      <th>15</th>\n",
              "      <td>00000c289a1829a808ac09c00daf10bc3c4e223b</td>\n",
              "      <td>jack off jill</td>\n",
              "      <td>316</td>\n",
              "    </tr>\n",
              "    <tr>\n",
              "      <th>16</th>\n",
              "      <td>00000c289a1829a808ac09c00daf10bc3c4e223b</td>\n",
              "      <td>babes in toyland</td>\n",
              "      <td>310</td>\n",
              "    </tr>\n",
              "    <tr>\n",
              "      <th>17</th>\n",
              "      <td>00000c289a1829a808ac09c00daf10bc3c4e223b</td>\n",
              "      <td>dropkick murphys</td>\n",
              "      <td>302</td>\n",
              "    </tr>\n",
              "    <tr>\n",
              "      <th>18</th>\n",
              "      <td>00000c289a1829a808ac09c00daf10bc3c4e223b</td>\n",
              "      <td>all:my:faults</td>\n",
              "      <td>288</td>\n",
              "    </tr>\n",
              "    <tr>\n",
              "      <th>19</th>\n",
              "      <td>00000c289a1829a808ac09c00daf10bc3c4e223b</td>\n",
              "      <td>le tigre</td>\n",
              "      <td>281</td>\n",
              "    </tr>\n",
              "    <tr>\n",
              "      <th>20</th>\n",
              "      <td>00000c289a1829a808ac09c00daf10bc3c4e223b</td>\n",
              "      <td>schandmaul</td>\n",
              "      <td>244</td>\n",
              "    </tr>\n",
              "    <tr>\n",
              "      <th>21</th>\n",
              "      <td>00000c289a1829a808ac09c00daf10bc3c4e223b</td>\n",
              "      <td>edguy</td>\n",
              "      <td>232</td>\n",
              "    </tr>\n",
              "    <tr>\n",
              "      <th>22</th>\n",
              "      <td>00000c289a1829a808ac09c00daf10bc3c4e223b</td>\n",
              "      <td>maximum the hormone</td>\n",
              "      <td>231</td>\n",
              "    </tr>\n",
              "    <tr>\n",
              "      <th>23</th>\n",
              "      <td>00000c289a1829a808ac09c00daf10bc3c4e223b</td>\n",
              "      <td>all ends</td>\n",
              "      <td>229</td>\n",
              "    </tr>\n",
              "    <tr>\n",
              "      <th>24</th>\n",
              "      <td>00000c289a1829a808ac09c00daf10bc3c4e223b</td>\n",
              "      <td>jack johnson</td>\n",
              "      <td>227</td>\n",
              "    </tr>\n",
              "    <tr>\n",
              "      <th>25</th>\n",
              "      <td>00000c289a1829a808ac09c00daf10bc3c4e223b</td>\n",
              "      <td>eluveitie</td>\n",
              "      <td>222</td>\n",
              "    </tr>\n",
              "    <tr>\n",
              "      <th>26</th>\n",
              "      <td>00000c289a1829a808ac09c00daf10bc3c4e223b</td>\n",
              "      <td>rasputina</td>\n",
              "      <td>220</td>\n",
              "    </tr>\n",
              "    <tr>\n",
              "      <th>27</th>\n",
              "      <td>00000c289a1829a808ac09c00daf10bc3c4e223b</td>\n",
              "      <td>london after midnight</td>\n",
              "      <td>210</td>\n",
              "    </tr>\n",
              "    <tr>\n",
              "      <th>28</th>\n",
              "      <td>00000c289a1829a808ac09c00daf10bc3c4e223b</td>\n",
              "      <td>the killers</td>\n",
              "      <td>208</td>\n",
              "    </tr>\n",
              "    <tr>\n",
              "      <th>29</th>\n",
              "      <td>00000c289a1829a808ac09c00daf10bc3c4e223b</td>\n",
              "      <td>mutyumu</td>\n",
              "      <td>205</td>\n",
              "    </tr>\n",
              "    <tr>\n",
              "      <th>30</th>\n",
              "      <td>00000c289a1829a808ac09c00daf10bc3c4e223b</td>\n",
              "      <td>judas priest</td>\n",
              "      <td>198</td>\n",
              "    </tr>\n",
              "    <tr>\n",
              "      <th>31</th>\n",
              "      <td>00000c289a1829a808ac09c00daf10bc3c4e223b</td>\n",
              "      <td>rob zombie</td>\n",
              "      <td>198</td>\n",
              "    </tr>\n",
              "    <tr>\n",
              "      <th>32</th>\n",
              "      <td>00000c289a1829a808ac09c00daf10bc3c4e223b</td>\n",
              "      <td>the bosshoss</td>\n",
              "      <td>189</td>\n",
              "    </tr>\n",
              "    <tr>\n",
              "      <th>33</th>\n",
              "      <td>00000c289a1829a808ac09c00daf10bc3c4e223b</td>\n",
              "      <td>blue öyster cult</td>\n",
              "      <td>185</td>\n",
              "    </tr>\n",
              "    <tr>\n",
              "      <th>34</th>\n",
              "      <td>00000c289a1829a808ac09c00daf10bc3c4e223b</td>\n",
              "      <td>sandra nasic</td>\n",
              "      <td>183</td>\n",
              "    </tr>\n",
              "    <tr>\n",
              "      <th>35</th>\n",
              "      <td>00000c289a1829a808ac09c00daf10bc3c4e223b</td>\n",
              "      <td>john mayer</td>\n",
              "      <td>182</td>\n",
              "    </tr>\n",
              "    <tr>\n",
              "      <th>36</th>\n",
              "      <td>00000c289a1829a808ac09c00daf10bc3c4e223b</td>\n",
              "      <td>sleater-kinney</td>\n",
              "      <td>175</td>\n",
              "    </tr>\n",
              "    <tr>\n",
              "      <th>37</th>\n",
              "      <td>00000c289a1829a808ac09c00daf10bc3c4e223b</td>\n",
              "      <td>the who</td>\n",
              "      <td>168</td>\n",
              "    </tr>\n",
              "    <tr>\n",
              "      <th>38</th>\n",
              "      <td>00000c289a1829a808ac09c00daf10bc3c4e223b</td>\n",
              "      <td>disciple</td>\n",
              "      <td>154</td>\n",
              "    </tr>\n",
              "    <tr>\n",
              "      <th>39</th>\n",
              "      <td>00000c289a1829a808ac09c00daf10bc3c4e223b</td>\n",
              "      <td>tanzwut</td>\n",
              "      <td>153</td>\n",
              "    </tr>\n",
              "    <tr>\n",
              "      <th>40</th>\n",
              "      <td>00000c289a1829a808ac09c00daf10bc3c4e223b</td>\n",
              "      <td>guano apes</td>\n",
              "      <td>151</td>\n",
              "    </tr>\n",
              "    <tr>\n",
              "      <th>41</th>\n",
              "      <td>00000c289a1829a808ac09c00daf10bc3c4e223b</td>\n",
              "      <td>the rolling stones</td>\n",
              "      <td>150</td>\n",
              "    </tr>\n",
              "    <tr>\n",
              "      <th>42</th>\n",
              "      <td>00000c289a1829a808ac09c00daf10bc3c4e223b</td>\n",
              "      <td>little big town</td>\n",
              "      <td>145</td>\n",
              "    </tr>\n",
              "    <tr>\n",
              "      <th>43</th>\n",
              "      <td>00000c289a1829a808ac09c00daf10bc3c4e223b</td>\n",
              "      <td>team dresch</td>\n",
              "      <td>137</td>\n",
              "    </tr>\n",
              "    <tr>\n",
              "      <th>44</th>\n",
              "      <td>00000c289a1829a808ac09c00daf10bc3c4e223b</td>\n",
              "      <td>betty</td>\n",
              "      <td>135</td>\n",
              "    </tr>\n",
              "    <tr>\n",
              "      <th>45</th>\n",
              "      <td>00000c289a1829a808ac09c00daf10bc3c4e223b</td>\n",
              "      <td>l7</td>\n",
              "      <td>135</td>\n",
              "    </tr>\n",
              "    <tr>\n",
              "      <th>46</th>\n",
              "      <td>00000c289a1829a808ac09c00daf10bc3c4e223b</td>\n",
              "      <td>bif naked</td>\n",
              "      <td>134</td>\n",
              "    </tr>\n",
              "    <tr>\n",
              "      <th>47</th>\n",
              "      <td>00000c289a1829a808ac09c00daf10bc3c4e223b</td>\n",
              "      <td>girlschool</td>\n",
              "      <td>134</td>\n",
              "    </tr>\n",
              "    <tr>\n",
              "      <th>48</th>\n",
              "      <td>00000c289a1829a808ac09c00daf10bc3c4e223b</td>\n",
              "      <td>the wallflowers</td>\n",
              "      <td>131</td>\n",
              "    </tr>\n",
              "  </tbody>\n",
              "</table>\n",
              "</div>"
            ],
            "text/plain": [
              "                                     user_id                   artist  play\n",
              "0   00000c289a1829a808ac09c00daf10bc3c4e223b          betty blowtorch  2137\n",
              "1   00000c289a1829a808ac09c00daf10bc3c4e223b                die ärzte  1099\n",
              "2   00000c289a1829a808ac09c00daf10bc3c4e223b        melissa etheridge   897\n",
              "3   00000c289a1829a808ac09c00daf10bc3c4e223b                elvenking   717\n",
              "4   00000c289a1829a808ac09c00daf10bc3c4e223b     juliette & the licks   706\n",
              "5   00000c289a1829a808ac09c00daf10bc3c4e223b    red hot chili peppers   691\n",
              "6   00000c289a1829a808ac09c00daf10bc3c4e223b                   magica   545\n",
              "7   00000c289a1829a808ac09c00daf10bc3c4e223b  the black dahlia murder   507\n",
              "8   00000c289a1829a808ac09c00daf10bc3c4e223b              the murmurs   424\n",
              "9   00000c289a1829a808ac09c00daf10bc3c4e223b               lunachicks   403\n",
              "10  00000c289a1829a808ac09c00daf10bc3c4e223b         walls of jericho   393\n",
              "11  00000c289a1829a808ac09c00daf10bc3c4e223b           letzte instanz   387\n",
              "12  00000c289a1829a808ac09c00daf10bc3c4e223b                goldfrapp   361\n",
              "13  00000c289a1829a808ac09c00daf10bc3c4e223b               horrorpops   358\n",
              "14  00000c289a1829a808ac09c00daf10bc3c4e223b             the butchies   329\n",
              "15  00000c289a1829a808ac09c00daf10bc3c4e223b            jack off jill   316\n",
              "16  00000c289a1829a808ac09c00daf10bc3c4e223b         babes in toyland   310\n",
              "17  00000c289a1829a808ac09c00daf10bc3c4e223b         dropkick murphys   302\n",
              "18  00000c289a1829a808ac09c00daf10bc3c4e223b            all:my:faults   288\n",
              "19  00000c289a1829a808ac09c00daf10bc3c4e223b                 le tigre   281\n",
              "20  00000c289a1829a808ac09c00daf10bc3c4e223b               schandmaul   244\n",
              "21  00000c289a1829a808ac09c00daf10bc3c4e223b                    edguy   232\n",
              "22  00000c289a1829a808ac09c00daf10bc3c4e223b      maximum the hormone   231\n",
              "23  00000c289a1829a808ac09c00daf10bc3c4e223b                 all ends   229\n",
              "24  00000c289a1829a808ac09c00daf10bc3c4e223b             jack johnson   227\n",
              "25  00000c289a1829a808ac09c00daf10bc3c4e223b                eluveitie   222\n",
              "26  00000c289a1829a808ac09c00daf10bc3c4e223b                rasputina   220\n",
              "27  00000c289a1829a808ac09c00daf10bc3c4e223b    london after midnight   210\n",
              "28  00000c289a1829a808ac09c00daf10bc3c4e223b              the killers   208\n",
              "29  00000c289a1829a808ac09c00daf10bc3c4e223b                  mutyumu   205\n",
              "30  00000c289a1829a808ac09c00daf10bc3c4e223b             judas priest   198\n",
              "31  00000c289a1829a808ac09c00daf10bc3c4e223b               rob zombie   198\n",
              "32  00000c289a1829a808ac09c00daf10bc3c4e223b             the bosshoss   189\n",
              "33  00000c289a1829a808ac09c00daf10bc3c4e223b         blue öyster cult   185\n",
              "34  00000c289a1829a808ac09c00daf10bc3c4e223b             sandra nasic   183\n",
              "35  00000c289a1829a808ac09c00daf10bc3c4e223b               john mayer   182\n",
              "36  00000c289a1829a808ac09c00daf10bc3c4e223b           sleater-kinney   175\n",
              "37  00000c289a1829a808ac09c00daf10bc3c4e223b                  the who   168\n",
              "38  00000c289a1829a808ac09c00daf10bc3c4e223b                 disciple   154\n",
              "39  00000c289a1829a808ac09c00daf10bc3c4e223b                  tanzwut   153\n",
              "40  00000c289a1829a808ac09c00daf10bc3c4e223b               guano apes   151\n",
              "41  00000c289a1829a808ac09c00daf10bc3c4e223b       the rolling stones   150\n",
              "42  00000c289a1829a808ac09c00daf10bc3c4e223b          little big town   145\n",
              "43  00000c289a1829a808ac09c00daf10bc3c4e223b              team dresch   137\n",
              "44  00000c289a1829a808ac09c00daf10bc3c4e223b                    betty   135\n",
              "45  00000c289a1829a808ac09c00daf10bc3c4e223b                       l7   135\n",
              "46  00000c289a1829a808ac09c00daf10bc3c4e223b                bif naked   134\n",
              "47  00000c289a1829a808ac09c00daf10bc3c4e223b               girlschool   134\n",
              "48  00000c289a1829a808ac09c00daf10bc3c4e223b          the wallflowers   131"
            ]
          },
          "metadata": {
            "tags": []
          },
          "execution_count": 6
        }
      ]
    },
    {
      "cell_type": "markdown",
      "metadata": {
        "id": "_t4azxhx869p",
        "colab_type": "text"
      },
      "source": [
        "## EDA"
      ]
    },
    {
      "cell_type": "code",
      "metadata": {
        "id": "kEtjZEjFdMm-",
        "colab_type": "code",
        "colab": {
          "base_uri": "https://localhost:8080/",
          "height": 35
        },
        "outputId": "58599561-dead-44c4-a2e9-fa6f64fb2bfa"
      },
      "source": [
        "# 유저 수\n",
        "data['user_id'].nunique()"
      ],
      "execution_count": 7,
      "outputs": [
        {
          "output_type": "execute_result",
          "data": {
            "text/plain": [
              "358868"
            ]
          },
          "metadata": {
            "tags": []
          },
          "execution_count": 7
        }
      ]
    },
    {
      "cell_type": "code",
      "metadata": {
        "id": "MC5BK7gbdwaS",
        "colab_type": "code",
        "colab": {
          "base_uri": "https://localhost:8080/",
          "height": 35
        },
        "outputId": "91ea18d5-1905-44b6-8803-af98192e1deb"
      },
      "source": [
        "# 아티스트 수\n",
        "data['artist'].nunique()"
      ],
      "execution_count": 8,
      "outputs": [
        {
          "output_type": "execute_result",
          "data": {
            "text/plain": [
              "291346"
            ]
          },
          "metadata": {
            "tags": []
          },
          "execution_count": 8
        }
      ]
    },
    {
      "cell_type": "code",
      "metadata": {
        "id": "YUCbnO5gdw5P",
        "colab_type": "code",
        "colab": {
          "base_uri": "https://localhost:8080/",
          "height": 597
        },
        "outputId": "bc347867-29dc-47fe-fc29-1dd0c23c36d4"
      },
      "source": [
        "# 인기 많은 아티스트\n",
        "artist_count = data.groupby('artist')['user_id'].count()\n",
        "artist_count.sort_values(ascending=False).head(30)"
      ],
      "execution_count": 9,
      "outputs": [
        {
          "output_type": "execute_result",
          "data": {
            "text/plain": [
              "artist\n",
              "radiohead                77254\n",
              "the beatles              76245\n",
              "coldplay                 66658\n",
              "red hot chili peppers    48924\n",
              "muse                     46954\n",
              "metallica                45233\n",
              "pink floyd               44443\n",
              "the killers              41229\n",
              "linkin park              39773\n",
              "nirvana                  39479\n",
              "system of a down         37267\n",
              "queen                    34174\n",
              "u2                       33206\n",
              "daft punk                33001\n",
              "the cure                 32624\n",
              "led zeppelin             32295\n",
              "placebo                  32072\n",
              "depeche mode             31916\n",
              "david bowie              31862\n",
              "bob dylan                31799\n",
              "death cab for cutie      31482\n",
              "arctic monkeys           30348\n",
              "foo fighters             30144\n",
              "air                      29795\n",
              "the rolling stones       29754\n",
              "nine inch nails          28946\n",
              "sigur rós                28901\n",
              "green day                28732\n",
              "massive attack           28691\n",
              "moby                     28232\n",
              "Name: user_id, dtype: int64"
            ]
          },
          "metadata": {
            "tags": []
          },
          "execution_count": 9
        }
      ]
    },
    {
      "cell_type": "code",
      "metadata": {
        "id": "lYNfqHJYdzRs",
        "colab_type": "code",
        "colab": {
          "base_uri": "https://localhost:8080/",
          "height": 180
        },
        "outputId": "86659811-b4f5-4f12-b54b-d3773fcc23ca"
      },
      "source": [
        "# 유저별 몇 명의 아티스트를 듣고 있는지에 대한 통계\n",
        "user_count = data.groupby('user_id')['artist'].count()\n",
        "user_count.describe()"
      ],
      "execution_count": 10,
      "outputs": [
        {
          "output_type": "execute_result",
          "data": {
            "text/plain": [
              "count    358868.000000\n",
              "mean         48.863234\n",
              "std           8.524272\n",
              "min           1.000000\n",
              "25%          46.000000\n",
              "50%          49.000000\n",
              "75%          51.000000\n",
              "max         166.000000\n",
              "Name: artist, dtype: float64"
            ]
          },
          "metadata": {
            "tags": []
          },
          "execution_count": 10
        }
      ]
    },
    {
      "cell_type": "code",
      "metadata": {
        "id": "3EwQza-ud1K6",
        "colab_type": "code",
        "colab": {
          "base_uri": "https://localhost:8080/",
          "height": 180
        },
        "outputId": "f3af322d-7516-4051-d2fe-01a9c550b945"
      },
      "source": [
        "# 유저별 play횟수 중앙값에 대한 통계\n",
        "user_median = data.groupby('user_id')['play'].median()\n",
        "user_median.describe()"
      ],
      "execution_count": 11,
      "outputs": [
        {
          "output_type": "execute_result",
          "data": {
            "text/plain": [
              "count    358868.000000\n",
              "mean        142.187676\n",
              "std         213.089902\n",
              "min           1.000000\n",
              "25%          32.000000\n",
              "50%          83.000000\n",
              "75%         180.000000\n",
              "max       50142.000000\n",
              "Name: play, dtype: float64"
            ]
          },
          "metadata": {
            "tags": []
          },
          "execution_count": 11
        }
      ]
    },
    {
      "cell_type": "code",
      "metadata": {
        "id": "j5VMIq9X_Bc8",
        "colab_type": "code",
        "colab": {
          "base_uri": "https://localhost:8080/",
          "height": 358
        },
        "outputId": "8d6c4347-23a3-46cb-8ecd-8fbab33cb9fb"
      },
      "source": [
        "# 본인이 좋아하시는 아티스트 데이터로 바꿔서 추가하셔도 됩니다! 단, 이름은 꼭 데이터셋에 있는 것과 동일하게 맞춰주세요. \n",
        "my_favorite = ['black eyed peas' , 'maroon5' ,'jason mraz' ,'coldplay' ,'beyoncé']\n",
        "\n",
        "# 'zimin'이라는 user_id가 위 아티스트의 노래를 30회씩 들었다고 가정하겠습니다.\n",
        "my_playlist = pd.DataFrame({'user_id': ['asdf']*5, 'artist': my_favorite, 'play':[30]*5})\n",
        "\n",
        "if not data.isin({'user_id':['asdf']})['user_id'].any():  # user_id에 'zimin'이라는 데이터가 없다면\n",
        "    data = data.append(my_playlist)                           # 위에 임의로 만든 my_favorite 데이터를 추가해 줍니다. \n",
        "\n",
        "data.tail(10)       # 잘 추가되었는지 확인해 봅시다."
      ],
      "execution_count": 12,
      "outputs": [
        {
          "output_type": "execute_result",
          "data": {
            "text/html": [
              "<div>\n",
              "<style scoped>\n",
              "    .dataframe tbody tr th:only-of-type {\n",
              "        vertical-align: middle;\n",
              "    }\n",
              "\n",
              "    .dataframe tbody tr th {\n",
              "        vertical-align: top;\n",
              "    }\n",
              "\n",
              "    .dataframe thead th {\n",
              "        text-align: right;\n",
              "    }\n",
              "</style>\n",
              "<table border=\"1\" class=\"dataframe\">\n",
              "  <thead>\n",
              "    <tr style=\"text-align: right;\">\n",
              "      <th></th>\n",
              "      <th>user_id</th>\n",
              "      <th>artist</th>\n",
              "      <th>play</th>\n",
              "    </tr>\n",
              "  </thead>\n",
              "  <tbody>\n",
              "    <tr>\n",
              "      <th>17535650</th>\n",
              "      <td>sep 20, 2008</td>\n",
              "      <td>turbostaat</td>\n",
              "      <td>12</td>\n",
              "    </tr>\n",
              "    <tr>\n",
              "      <th>17535651</th>\n",
              "      <td>sep 20, 2008</td>\n",
              "      <td>cuba missouri</td>\n",
              "      <td>11</td>\n",
              "    </tr>\n",
              "    <tr>\n",
              "      <th>17535652</th>\n",
              "      <td>sep 20, 2008</td>\n",
              "      <td>little man tate</td>\n",
              "      <td>11</td>\n",
              "    </tr>\n",
              "    <tr>\n",
              "      <th>17535653</th>\n",
              "      <td>sep 20, 2008</td>\n",
              "      <td>sigur rós</td>\n",
              "      <td>10</td>\n",
              "    </tr>\n",
              "    <tr>\n",
              "      <th>17535654</th>\n",
              "      <td>sep 20, 2008</td>\n",
              "      <td>the smiths</td>\n",
              "      <td>10</td>\n",
              "    </tr>\n",
              "    <tr>\n",
              "      <th>0</th>\n",
              "      <td>asdf</td>\n",
              "      <td>black eyed peas</td>\n",
              "      <td>30</td>\n",
              "    </tr>\n",
              "    <tr>\n",
              "      <th>1</th>\n",
              "      <td>asdf</td>\n",
              "      <td>maroon5</td>\n",
              "      <td>30</td>\n",
              "    </tr>\n",
              "    <tr>\n",
              "      <th>2</th>\n",
              "      <td>asdf</td>\n",
              "      <td>jason mraz</td>\n",
              "      <td>30</td>\n",
              "    </tr>\n",
              "    <tr>\n",
              "      <th>3</th>\n",
              "      <td>asdf</td>\n",
              "      <td>coldplay</td>\n",
              "      <td>30</td>\n",
              "    </tr>\n",
              "    <tr>\n",
              "      <th>4</th>\n",
              "      <td>asdf</td>\n",
              "      <td>beyoncé</td>\n",
              "      <td>30</td>\n",
              "    </tr>\n",
              "  </tbody>\n",
              "</table>\n",
              "</div>"
            ],
            "text/plain": [
              "               user_id           artist  play\n",
              "17535650  sep 20, 2008       turbostaat    12\n",
              "17535651  sep 20, 2008    cuba missouri    11\n",
              "17535652  sep 20, 2008  little man tate    11\n",
              "17535653  sep 20, 2008        sigur rós    10\n",
              "17535654  sep 20, 2008       the smiths    10\n",
              "0                 asdf  black eyed peas    30\n",
              "1                 asdf          maroon5    30\n",
              "2                 asdf       jason mraz    30\n",
              "3                 asdf         coldplay    30\n",
              "4                 asdf          beyoncé    30"
            ]
          },
          "metadata": {
            "tags": []
          },
          "execution_count": 12
        }
      ]
    },
    {
      "cell_type": "markdown",
      "metadata": {
        "id": "BYwtYdYL9LBh",
        "colab_type": "text"
      },
      "source": [
        "## Preprocessing"
      ]
    },
    {
      "cell_type": "code",
      "metadata": {
        "id": "Y26VFLYEd50r",
        "colab_type": "code",
        "colab": {}
      },
      "source": [
        "# 고유한 유저, 아티스트를 찾아내는 코드\n",
        "user_unique = data['user_id'].unique()\n",
        "artist_unique = data['artist'].unique()\n",
        "\n",
        "# 유저, 아티스트 indexing 하는 코드 idx는 index의 약자입니다.\n",
        "user_to_idx = {v:k for k,v in enumerate(user_unique)}\n",
        "artist_to_idx = {v:k for k,v in enumerate(artist_unique)}"
      ],
      "execution_count": 13,
      "outputs": []
    },
    {
      "cell_type": "code",
      "metadata": {
        "id": "LX6Oe2T7d_F5",
        "colab_type": "code",
        "colab": {
          "base_uri": "https://localhost:8080/",
          "height": 455
        },
        "outputId": "1d932727-3485-47e3-928e-6108aa82a0ee"
      },
      "source": [
        "# indexing을 통해 데이터 컬럼 내 값을 바꾸는 코드\n",
        "# dictionary 자료형의 get 함수는 https://wikidocs.net/16 을 참고하세요.\n",
        "\n",
        "# user_to_idx.get을 통해 user_id 컬럼의 모든 값을 인덱싱한 Series를 구해 봅시다. \n",
        "# 혹시 정상적으로 인덱싱되지 않은 row가 있다면 인덱스가 NaN이 될 테니 dropna()로 제거합니다. \n",
        "temp_user_data = data['user_id'].map(user_to_idx.get).dropna()\n",
        "if len(temp_user_data) == len(data):   # 모든 row가 정상적으로 인덱싱되었다면\n",
        "    print('user_id column indexing OK!!')\n",
        "    data['user_id'] = temp_user_data   # data['user_id']을 인덱싱된 Series로 교체해 줍니다. \n",
        "else:\n",
        "    print('user_id column indexing Fail!!')\n",
        "\n",
        "# artist_to_idx을 통해 artist 컬럼도 동일한 방식으로 인덱싱해 줍니다. \n",
        "temp_artist_data = data['artist'].map(artist_to_idx.get).dropna()\n",
        "if len(temp_artist_data) == len(data):\n",
        "    print('artist column indexing OK!!')\n",
        "    data['artist'] = temp_artist_data\n",
        "else:\n",
        "    print('artist column indexing Fail!!')\n",
        "\n",
        "data"
      ],
      "execution_count": 14,
      "outputs": [
        {
          "output_type": "stream",
          "text": [
            "user_id column indexing OK!!\n",
            "artist column indexing OK!!\n"
          ],
          "name": "stdout"
        },
        {
          "output_type": "execute_result",
          "data": {
            "text/html": [
              "<div>\n",
              "<style scoped>\n",
              "    .dataframe tbody tr th:only-of-type {\n",
              "        vertical-align: middle;\n",
              "    }\n",
              "\n",
              "    .dataframe tbody tr th {\n",
              "        vertical-align: top;\n",
              "    }\n",
              "\n",
              "    .dataframe thead th {\n",
              "        text-align: right;\n",
              "    }\n",
              "</style>\n",
              "<table border=\"1\" class=\"dataframe\">\n",
              "  <thead>\n",
              "    <tr style=\"text-align: right;\">\n",
              "      <th></th>\n",
              "      <th>user_id</th>\n",
              "      <th>artist</th>\n",
              "      <th>play</th>\n",
              "    </tr>\n",
              "  </thead>\n",
              "  <tbody>\n",
              "    <tr>\n",
              "      <th>0</th>\n",
              "      <td>0</td>\n",
              "      <td>0</td>\n",
              "      <td>2137</td>\n",
              "    </tr>\n",
              "    <tr>\n",
              "      <th>1</th>\n",
              "      <td>0</td>\n",
              "      <td>1</td>\n",
              "      <td>1099</td>\n",
              "    </tr>\n",
              "    <tr>\n",
              "      <th>2</th>\n",
              "      <td>0</td>\n",
              "      <td>2</td>\n",
              "      <td>897</td>\n",
              "    </tr>\n",
              "    <tr>\n",
              "      <th>3</th>\n",
              "      <td>0</td>\n",
              "      <td>3</td>\n",
              "      <td>717</td>\n",
              "    </tr>\n",
              "    <tr>\n",
              "      <th>4</th>\n",
              "      <td>0</td>\n",
              "      <td>4</td>\n",
              "      <td>706</td>\n",
              "    </tr>\n",
              "    <tr>\n",
              "      <th>...</th>\n",
              "      <td>...</td>\n",
              "      <td>...</td>\n",
              "      <td>...</td>\n",
              "    </tr>\n",
              "    <tr>\n",
              "      <th>0</th>\n",
              "      <td>358868</td>\n",
              "      <td>376</td>\n",
              "      <td>30</td>\n",
              "    </tr>\n",
              "    <tr>\n",
              "      <th>1</th>\n",
              "      <td>358868</td>\n",
              "      <td>270115</td>\n",
              "      <td>30</td>\n",
              "    </tr>\n",
              "    <tr>\n",
              "      <th>2</th>\n",
              "      <td>358868</td>\n",
              "      <td>3746</td>\n",
              "      <td>30</td>\n",
              "    </tr>\n",
              "    <tr>\n",
              "      <th>3</th>\n",
              "      <td>358868</td>\n",
              "      <td>62</td>\n",
              "      <td>30</td>\n",
              "    </tr>\n",
              "    <tr>\n",
              "      <th>4</th>\n",
              "      <td>358868</td>\n",
              "      <td>396</td>\n",
              "      <td>30</td>\n",
              "    </tr>\n",
              "  </tbody>\n",
              "</table>\n",
              "<p>17535660 rows × 3 columns</p>\n",
              "</div>"
            ],
            "text/plain": [
              "    user_id  artist  play\n",
              "0         0       0  2137\n",
              "1         0       1  1099\n",
              "2         0       2   897\n",
              "3         0       3   717\n",
              "4         0       4   706\n",
              "..      ...     ...   ...\n",
              "0    358868     376    30\n",
              "1    358868  270115    30\n",
              "2    358868    3746    30\n",
              "3    358868      62    30\n",
              "4    358868     396    30\n",
              "\n",
              "[17535660 rows x 3 columns]"
            ]
          },
          "metadata": {
            "tags": []
          },
          "execution_count": 14
        }
      ]
    },
    {
      "cell_type": "markdown",
      "metadata": {
        "id": "1nMq0nNmAvnK",
        "colab_type": "text"
      },
      "source": [
        "## Explicit & Implicit Data\n",
        "###*Explicit Data\n",
        ">* 사용자가 선호도를 표현한 Data \n",
        "###*Implicit Data\n",
        ">* 사용자가 간접적으로 선호, 취향을 나타내는 데이터</br>\n",
        "예시 ) 검색 기록, 방문 페이지 , 구매내역, 마우스 움직임, 페이지 머문 시간 </br>\n",
        "부정적인 피드백 / Inherent Noise / The numerical value of implicit feedback indicates confidence / Implicit-feedback Recommender System\n",
        "\n",
        "출처: https://orill.tistory.com/entry/Explicit-vs-Implicit-Feedback-Datasets?category=1066301 \n"
      ]
    },
    {
      "cell_type": "code",
      "metadata": {
        "id": "IIKmj_T9C0c7",
        "colab_type": "code",
        "colab": {
          "base_uri": "https://localhost:8080/",
          "height": 53
        },
        "outputId": "da3dcc31-04d4-4079-96ba-210c3a46e071"
      },
      "source": [
        "# 1회만 play한 데이터의 비율을 보는 코드\n",
        "only_one = data[data['play']<2]\n",
        "one, all_data = len(only_one), len(data)\n",
        "print(f'{one},{all_data}')\n",
        "print(f'Ratio of only_one over all data is {one/all_data:.2%}')  # f-format에 대한 설명은 https://bit.ly/2DTLqYU"
      ],
      "execution_count": 15,
      "outputs": [
        {
          "output_type": "stream",
          "text": [
            "147740,17535660\n",
            "Ratio of only_one over all data is 0.84%\n"
          ],
          "name": "stdout"
        }
      ]
    },
    {
      "cell_type": "markdown",
      "metadata": {
        "id": "5XOfD5mOC-LQ",
        "colab_type": "text"
      },
      "source": [
        "# Matrix Factorization(MF)"
      ]
    },
    {
      "cell_type": "markdown",
      "metadata": {
        "id": "Ug8bANa0Ddf6",
        "colab_type": "text"
      },
      "source": [
        "![image.png](data:image/png;base64,iVBORw0KGgoAAAANSUhEUgAAA1IAAADeCAYAAAA3vDE5AAAgAElEQVR4Aeyde8wc1Xn/f0r/aqq2StWolfpHFKK0VUkkoji0uKK1ZEC/EjcYhxqbAAJCEE7cpnINoWAqFHMJIMcQ+adCC7xg7NgpOOBCuNjEheAkQAgOl9gmXB3AxBjbtR3z2nnxnp8+z3mf3dnx7O6Z2bnt7jPSvDPv7My5fM+ZM8/3PJfzf5xzD9tuGFgfsD5gfcD6gPUB6wPWB6wPWB+wPmB9ILwP/B/n3JbDhw87ducazm96nPzXDoaAIVBjBHhfO7+z/t1OKn7355KesGuGgCFgCBgChoAhYAgYAh4BIVLdhDADyhAwBOqLQOPw+25ifLfbsf1Vt2Xri+6VV15x27Ztk+OLL70o52/vOzQ5UaL1aDieO7hvhzy345133MH3o6Qqes4znUmapmhHQ8AQMAQMAUPAEDAERg2BSSI1atW2+hoCw4EAhGjvqz9yYzd83V144YXu7LPPbu7nnnOeu3jJKrd241a3/+BEW4UhUc89eJNbPP8Mueenr74rZGqi4UkUWqzG+xNufHx8kmS1PW7/GAKGgCFgCBgChoAhMPIIGJEa+S5gAAwyAhCpPTu3ued++D239OIvu2M//Nvutz7wAfehP/qoO2XelW7FA0+4za+/45Qg+bo23P43n3JjF53uPvKh33F/9lefczc/9IJDc+W1Tw3Rcm1/dp2QMH99kFGyshsChoAhUDcEGmIp0HKraE1ita7VrcxWHkPAEIgjYEQqjoj9bwg0ERgUk7aGEKV3N/w/97fHfEyI1B98dIqQo99MoInSeujRufE929zDd17vzpv7eXfBwmvcA5t+2dI8HR53kCiI1uW3bXAv7zzQJFhNaOTEf/hb6Ud/beXV+j1+Tf/vlY7eF02/ynMvAFVZAsvbEDAEBhsBrAK2PvO4e/DBB5v7+vXr5fy+R5+RCTA/fg92Pa30hsCwI2BEathb2Oo3GggcHnev/Gi1+8s//eM2ItXu++ShELO9SR8pfKreeuutlukfJOoXTwiJOuHTH3dfuv5u98YuiFR8SyI3vQhRPI3o//ps9Jqee6Ko/9nREDAEDIHBRcCPnfu2b5bJrAvPPdPNPP4T7pNHH+M++anPuJNmzOlokj24dbaSGwLDi4ARqeFtW6tZMAIN8QXa8fxr7s2nX3T7d+yOBWcITqi6Gw+Pi89TskYqWqyG+834ASFLzISuXbvW3fPwOpn93D/uSdQ3588UE8GoeeBPXnjN8Tt+U5gSbty4UWZO1z+ywT311FNu168PSgCLAwcOyCzrfffd5+6662734x//WAJeMPNKXuyaFoTt8XVr3Zo1axzpoPnyxM+53xw65BA0Hn30Ufntp8/81L308suOwBhVztJSP/rJzpded++9uy/ST5KIZRR3OzcEDAFDQBFoyDjGWPrE6ivd7OM/0TTJPuGsK2WMZEz1Jn76jB0NAUOgjggYkapjq1iZSkLAk4rdr253z6/e4O774vXu3nOudS8/9FSlwnrWyqOROoJIHcLvqX3TQBMXzjhOfKQ+8ufTmiZ8pPG1sz8r1z/4wd910+f8s1t6091uxWO/cHv37pXAFrddPc/NmjVLTAIXLlwowS0wAURzpSaDCAZ/+Pu/56aeMt9ddt033bx/OEHShJwhKKxYda/4dFFe7sNPC+0XZAqiJAE0LjrdnXn+PJmdvfnmm93XLrnEfWvNk0LafI3KJy8QqO9fdqv0kye+tcbRdyCmLfPFdqztP0PAEDAEOiHAxNSvnvkv99WZxzUtCRgHzS8VxMof3zu1k103BLohYESqGzr229AiwEzf3jd2Cmn6/r+NuTVzFzeFY4Tl+jj79vqY8HtnHynV8LQ15OFxISrXnHOSkBj8qSBCfLwhQt+9/MymRoqPOhH9JibGRUP0wNKviPkgZAi/KiL/nTv9U+6YafOEbKG1wleLaxAk0iboxbXXXtu8BpmCoF19zTUSNRBzxCbBeuwXEuiCWVrMXTQffLaWLVsWIVK+3m31KuEftJVKulfNvMw9cuktbsvaH0pfstnjEhrAshgKBNA4H9r3nmieR1pgPjyeSKTQRo369v7EhExS0VdGuo+MekcYgPobkRqARrIi5ocAgzMfcMyz0ChAoO6YvkCOCMhvb3rJ7d+11723a0/1+7v7JgWNXvX360Il+Uj5j9CRzxO176Z/OlW0REqk0AaxJhVkieh/kBvVEpEC6TNzSqQ/yJESKbRPpKH36gyrapogafhhrb5kTpumi+e5d9Hcv3FovyBjRA9EY/bYDb4MaMtIF3NA1sUiAiFt6LfuJBNiQ1tDfvJqT9Ki79BX1v3Lvzf7Dn1J+s7+X4uJY0j5JithB0NgZBDg3eUdYvLh6f+8X0yp/fvc/V0eWoAmiRRjINFWdRyNL1cxtPXvUjEmOukn7Gj+W+N+l4fsJ0OgAgSMSFUAumVZHQJ7XntbPuCY8N321/Pdf3z6AjlCqO7/ynUiHCMg12FX07Gg2bgOPlJHaqQ86YJI4QulWqOoRiqRSB0eb5IbPviY4p03b4FolD5/yt+LgzRpQMYgXBedcrwIBpj2QZggaOuvOk8IGsLCqQtvd7v37hHNWJxIof1CqwVpo3wQuqOnzXFLV66X9Fvawu7CFz5MCGtFtWVSH6LN0GgSlt42Q8AQ8AjwzqoFAFpctLmMt6899rMR1kr58UsnnqJEyjRSTsZRrEXoK4zhmNzTh4xQ2ahSNwSMSNWtRaw8BSLQkMEZYZfBGRKlRIr/IVN12hE40H6EbhCYEB8piFknjRTaoE5ESomQ+k4RopdAEwSCeOH55/16VRPeVAXTPjRXECn8qzD50+ejmi58oaJECh8oyB8mhmreR35K3iBTLf+B3kTq8StXSFsX1a5KxrUf8cEnYEknTWBoW9p9hsAwIKBa4agFAGMtYxskCu0/gnH75Ajv9WDufgKl+7jU1q65aqQGE7NObY01AX3kfybJFGM43+63ntwqlga+z7Shaf8YApUgYESqEtgt06oQYHBGY4C5ADOiCMLsaBfQXjDrxeCte/x/vV70kXwlguCuvQH24Q3xYUpaR+pIjZRz7vC4EKm0GiklWJAafJfwndKPGaZzu3btEsJEOUI0UgSniBMpMe173/t8KZlSc0IImJoUti8wnNSbGkJmEOC0DfWYR9vRfzZ+49vuzpMuFjLOkY88aWO6pLgklcyuGQKjgACTCYy1m7/7A9EoYELNzriLaSwCMeawfn+xec64x7VBOUbLynjD+x+2ecLVv0aqIcSiheXgYNepjbUu9BH6D8Sb77T2H65hXWLaqbCeZncVi4ARqWLxtdRrioASqp/cea985NV8gAEa8wGEAHYGaqLI6f+lHCcmJN+wj4SfhWQmNMlHqpWGzlb6BgnVSGGC94PNb4qPEhoiNE0QKfVdgkzt2P6qhDHHjwlzPTXtwyyvqZE6ONFVI8W9+EihkRofH3esb0V6kDNd1+rjf/LhZnqJBPGIvtZo4ggOebQl5oKQJUgU5JtZUrRekDQEqLByHVFQu2AIDB0CCLqdtP9ESNUoqdGjXh/EI+MBJJGxIHjropHyk0W9UvJkDOJB3pRhELFLKjN10fowzkKk1IqEiSvGYOrd+sb1wsp+NwSKQcCIVDG4WqoDggBOvQzGfPAZrBnQEZQHSaOAT5GuR6IL8qK9UZ8l6ujr4z+6aKSIgkfUvqhdvgabeO6WixyL8WJShy/UBQuvEfM8nhm76HTxc+I3yBQaosWLF4v/kkb300h+pK0BJCBbRAPE3I+yQdAIHKG+UHqvEKk929yj99zirrjiCrd241YhUpC4adOmNTVhvTVSxXRAnJ7Vbh/BBc0UxDtM6CmmTJaqIVA/BBryXkSDsqj5K+MsSwjwHg3VftmtMqmCFiVs8+Nx/xop70/EhM4w4YpJn/YPxlrV/tOP6EN8s9EAGpEK6212V3EIGJEqDltLeSAQ8AsjaiQpNFSDNDijiUJj8/Cd1zfXatIADSfNmCNrOBHsIRoFSk3mCC+u98raTvgyHZwQkoXZH6QMsvTFf71JzPhkwd5n1znWkeI3yFSbud3EuPg28TtEjLR5HtK0fPnyZsQ/nkFTxfpU8XvJC03UpnV3ubEbvu5J2sVfdufN/byETMf0jzJWRVw0WIlGHEN71kZSB6LPWyHrhcDkBEe9CtV3aXgv0PwznvK+IPxGI6Ri1sX7FN2ZqIj+PyjnWm4mVfbv/3U4dl00UmGJ+L7DOETelGOQd9pbseQc01A0fBAqiBT9RwNP7Ny509bwC+skdlfBCBiRKhhgS35wEMBsj48gR+8AOwhlb4g26vF1a4WsjI2NOd0hLyx8i6YI80TdZEHeH37PrVy5svnMXXf59aIwTUPDBTm7f+UdzeeViOl6Uvfdd5+79dZbJQ20RkpuSBsSdHukHPc8vM5t3LhR0qNsPEe5uEa5KYde5158p97+1a/ER+K5SDkJblF1NCvpIzt2y+LENhOqPcqOvRFoSFh/TFbp294EFCHY70S13LJli9uy9UUJplKVxrV3PdLe4f0dMdGNmsSiYUCjgKA8SNr/tLVPvr/V7lgHoJFicXS08kwysdxDaECd9vQ9qWq/Nrj/EYhE/aMg4RAoNJwQc/+NHty6WcmHCwEjUsPVnlabkUPAhzNvvK9aGv1IOxFQWgJZ9CPr74n+xjnareiuQl782NLAaJqaZ6MtT9KSPA6PS4ALzn2ernld/1fiCjmJps+57vVoWq1zPUpjpRgEBBqO9xPT2KUXf1nMYJks0PdKJjZY2Pqc80T7i09i670YhPqFlRHyiOYfQkXwANUs+EmeUXqvfF1p963PPC5RUtHgK5ESv9IHnhDT51H2uYQw0U8g3Wg0Id0HDhyIfB/C+p3dZQgUjYARqaIRtvQNgVIQSCOIcK/u0cLpNT3qb/zPFj3q+eRPzfT02dZRhUI9tqcVTTeaVtJ1/b3Ko9aryjJY3oOFQEMmEvAHnPcPJzQXruZ9QhOFTyFRLvEn1LXSkt/PtLWOv6Npn8/7fj/RgokwQjGECvMtP3GSd171To+xcN/2zWKS/bWzP+s+N+OzburUqe6E/3uyrMmHibNo+sfH612RAksH6casD58zztu/HwVmbEkbAikRMCKVEjC73RAwBLIioCQk6Zg1TXvOEMgDAR8uH5OhlkY0j3RJwxMpollGiZRqohCk8Wck0IoEfGkoAdJjlnL4+rQ0vFnSKO4ZMEYwrjeJ8lE/0YJA/vIz5fXtquacuhYf6/Hpjp8oWstR1kiBN++jmfEV9x5ayvkgYEQqHxwtFUOgQAT6EagKLJYlbQgMBQLe5IzZb13+oKV9zaOCR2qkiFiJJuqkE0+USJSQKIT1vPLVMP3UiSAE9SYseWCcfxqYJrPO3bJly4TkenPM/PLxGpaksZ1ruueXn6VkCBgCxSBgRKoYXC1VQyA3BPigMyu6d+/eyeh7SR/f3LKzhAyBkUAAckG0M8zMNKocfjtvb3ox5/q3iBTaJ8y2CO/PuS4PkHcQFciTrnVGUAci5LX8S3Ku3tAlN0liJgNBzJ1+rEQeJWiPbYaAIWAIxBEwIhVHxP43BGqGACYgCF6EC9cIeTUrohXHEBgoBDAbwj+HKGA4tLMgN2vI8T/+GPluLdM+orOxHhqaqKOOOkq0USxP0Fk7kaUkDYk+yhpnEMPoYuOEljZTqTBMmcDCj0milz7wRCSSXtjzdpchYAiMBgJGpEajna2WA4wAvhSsqXT6mYvExCTv2esBhsaKbgikQMD7DUGglGSwLg3r07BODWZwaKf4HY1O2h1zuo4mdIfHZfHpc6d/yv3BR6fIOmqsjXb0tDnN4BPRJQqSKgX5IyR0aLkgTRpyXNdwIgIaZJE08vP5SSrtYF/7zfgBR6h6fJbwV8IaoGPbDnZVrfSGgCHQJwJGpPoE0B43BApH4LA3P3r22WfFGX2UHZALx9oyGFoEEIQJqYzJG1qa//j0BbJDpCAYaKYgVN+/7NZUuzx32a1CxFiANmlj/TXWC4JIqTkfa6Qtmvs3QqYuv23DpNlu0tPelBeihgmi5ternNzHrloprS911zWcvHbKTIXbUW9F1IPsYorZCklvWLVjZf8ZAoaAESnrA4ZATRFg7Zkd2191CFzrH9kg64qYWU5NG8uKVXsE0PgQShlyAXlSYoFW6t5zrhXTPo5Z9qZZ4P5fJ+DQ8pEiat+pC2+XdxmT3SdWX+nwwZk+559FWE94uBmAAi0SBChN+SgX90eJI/XWNZw88TNyEMcdKwCiLF5zzkkx88v4nfa/IWAIjDoCRqRGvQdY/euLwOHx5iKeCFrMWrdWvK9vsa1khkAdEUAjBXHA5A3zNrRQkCh2yBXXMIUjMAM7pEuPnPfaSTfZXK7hIHFHriPl3PiebbIgqwY0QPPRSePMJAoatV7liP6OuaKSL+oJoULrxj2YCSaXt46tV26ZogsoM+4Slt5vRjrLbQnLzRCoPwJGpOrfRlbCkUTAr7GiC3aee8554h+1/+DESKJhlTYE8kOgIYQKkqQkAx+ix69cIUQKsgXpItgAO+fddu4hWATH5PDlDYdpXxKRcofHJaDBbVfPc1OmTBF/KR8dLllg71aO6G/4+EC6MAWEMFI/yKKGd+/lj5Uf1oOZkmoLGXdvfuiFLmaXg1k/K7UhYAjkh4ARqfywtJQMgdwQUKFIP+gXLLzGEd2r02x1bhlbQobAiCCAhmfnzp3i2wTJgGygrUGzlO/mTfvwkSLk+Zeuv3tSwwFZaji0H1H/KdaU8gFlkslUSNnUDJA6YdoHoXp700sSzY+xxbbOCECI0RSuv+o8CfBj425nrOwXQ8AQcM6IlPUCQ6CWCHghiwUhxy46XRyebR2TWjaUFWpgEfDvmK4lhWmfamzyrhLCOaG0H1+31i9h0Fx815eBCROWOFi+fLlMmPSreSaEO/VB44a5Iv/nG2I9b4TqlF5DTKq/OX+mO2XelUJ6PXZ1KqOVxRAwBOqCgBGpurSElcMQaEPAz2I/9+BN7qJTjjf/qDZs7B9DIH8E0FBBqorR2HjTv5b5nydQ8VqoJjp+Pe3/+D5hoqhmimmfH+n7D487xl0i9qE9ZAILDaHvF7SbbYaAIWAItBAwItXCws4MgVohwCz108v+0X3+lL8XO33za6hV81hhDIEMCCQTqAwJ9XykGELYM9uBv0HNqT8347MOk+oVq+4VMuUDcxiRGvgGtgoYAjkjYEQqZ0AtOUMgHwQabv+bT7nVl8yR0MgrHnjC7XjnHfORygdcS8UQMAQMgUQElEihkYJI3ffoM+6NXQdMI5WIll00BAwBI1LWBwyBGiKACdD2Z9fJOiZ/9lefc0tvujsX34kaVtWKZAgYAoZAbRBg7N2zc5uEvv/JC69JmHgL8lOb5rGCGAK1Q8CIVO2axApkCIBAQ5zTH77zerdo0SKHRopZUe9jYQgZAoaAIWAIFI2AmUcWjbClbwgMPgJGpAa/Da0GQ4mAD4t84MABibhlTuND2chWKUPAEDAEDAFDwBAYYASMSA1w41nRhxmB8pzShxlFq5shYAhUjUBDoiHu3/9rWcfKjoZDUX2AicfkRbGrfgcs/2FGwIjUMLeu1c0QMAQMAUOgKwJEY3vllVfcj3/841L3p556qtT8ovXbsmWLkJsyhE5Cyq9du9Z97ZJLKtkvvfTSSvKlvqOWN/Wtqs4LFy50y5YtE7Le9YW3Hw2BnBEwIpUzoJZcPRHA1p1ZsF27dpWy7/nfPaXkk1SfKvNOKk/e13bu3CnYaj31/7zzSUpv7969zodBrmc/t1KlQcCHsmZcWLx4sZs6daqbNm3aSOzz589327ZtSwNW5nt5T7/61a8KvkqmEHqL3snrwgsvdEcddZT7zF98zH115nHNnbX59P8izkn7hE9/XPIGa8pSdH1JX/M5+eSTBW9w12tF5k8e7LNmzXKfPPoYd/bZZ5eSr9aZvKkz+9u/+lXmvmoPGgJZEDAilQU1e+YIBBAumXlkUcsyZjmPKECPCwyu1157rQzw559/vit650Ny7jnnFZ5PvB7kecYZZ5SaN3Vlj5elyP+p51lnfqHUPKkjs61oL2wbHgQQ9OlPp512mlu5cmUp+xVXXOFOOvFEGZPIc9WqVaXkSz4LFixwM2bMcC++9GIpjQi+kAmEeiY9+J+dSYkijxBktH7gvGju37jXV17m3l59uexlnJMna1GBM3Utur6KKxijmaGdIctl5Uv+9C/IzKOPPlp4O2t99XjzzTe7mTNnurfeeitTv2ayFfnFAoxkgm+kHzIiNdLNn0/lJVzsa2+7LWt/6F577GeTZCqftPNKhY8ZwgPC/a233lrofvU118isNtH2xsbGCs0rXpcLLrhAZkH5iMZ/y/t/6sbHa/bs2TL7uWTJksLz1DrQjlOmTHHkWQbG5MGsJ0LZT5/5aV7d0tKpFAGvkUIQQ3PBREtZ2kbM7CAWP//55tIRuO+++9ycOXNKyxt8qSuTEEy2lblhwgiZgdTs/e7X3Xv/fXVrX3tV/uf/fbU79L1rZL/mnJNEQ8P6f2VuLNzOeMX3BxJV5kbfmjlrltv0s01lZit5QeLQiGUhUpCn3a9uFxlm7xs7Sy+7ZTjYCBiRGuz2q0XpmcWBRN33xevd41eukChztShYpBAQKWac77rrbiF6lLmQfWJCZiARHBC4dZarkLwS6kD9IBgPPvhgKXkjGC1dutRB4PiA8REvvK4TEzLzieaNPBF+i86TPJhlRQBlltu2fhHQYCqezPSbWrbn24kUEyBlEim0NFUQKfyV6MeQjDI2JVJMRFRNpA7cc5U7sHZxoTtkbf9/XyVrACLYl21qxlgIkYK4VkKkZs6sYLKpIRrdrETqvXf3uaf/83537znXupcfempyHKhybCrjzbQ88kLAiFReSI5wOszgfP/fxtxtfz3frZp5mXvrya21U49DpJgpg2gUvb308stiylK25gLStmbNGiFS69evL7qakj6CJ0QKDVGZM6/MPmLal2X2MSswGzduFO1b2e2atbx1fQ4NNoILe7VmNEakyugjtSJSERKFhgpS1evIPZAjIWD3XNXz/mKIFH01TLA3IpXWtK/h3t70krv/K9eJDPM//zZWy8ngMt5VyyMbAkaksuFmT00iwKCNNurOky52//HpC2RHK4WavFohqb2J2olU2AepPYXw/6oiUpCaKogU5nUQqTJnXiFSqpEKb5msd/r+0k6kiu1DWUs6CM8x8cLsLztkqrrNt6Ga9plGqpiWSEOk+Gbg29QrjDXfHbQtHLttcdO+tBopSJH6VXFsEqoIIYtruKJECiuIrOMi2n0NeOM1pWFjTn5EqiFtAc6h33Ix7etLI+XzZFLO94FurRv9LbtGijUaN37j2yLD6GTw5u/+wP1mnFDqthkCvREwItUbI7sjEQG/YCyE6fuX3dokUZAptFIMRAxQddmMSBXTElGNVFaBIUvJvvOd71RMpLKU2p5ByMOPkjECU2C0115IrAKbPIlUmJCrtcRHykz7FA1/pB+g7V2y5HqHRh0ikbQh2GNZwH2M6902TCejPlJKekK0UNzz2A1fEf8qovDhZ/X0sn9076315oGd0oBIsauPVJZxEfKJeTbRJAlMgllxKLHIi0ih7WeSjMAVELqQrR8iBVmjvTRQBv63HjverV7vVzYiRZ6MQWij1sxd3NzX/cu/i5YqpM52jyFgRMr6QEYEGjKb/PzqDTL4IBjpbA7nOhCFzmRlLETwY9URqV4fgOAq9LwRQcQ0Uj1hynCDb0PTSGWALvIIYwETL5jOMFbcMX2Be+Jbayo0o/HtmodGCuGedELHuzyJFIIzQi/R2noLnE7WdKqfj1RDAhQQJEeDyCT5UymJ0vDeEAy/JY+zSRopJUBKqjodIU0zj/+EhDE/d/qnJIQ6ZArN1MH7J039EjRTeWikXnj+eQkWgZaUQCho3+kzIVseRAoSC6GhLYiEFxoqvx8iRXsTwZI+wE5wqBtvvDGQQGYjUmjEGYMeufQWOUKo0E7hK8X1Ok0Gh7S93VMNAkakqsF94HNloGVmmQGHHR8pBCMIFOeQqXYhKflDVxYQWYmUmlf4j3pYHQbRtA8SxqwjgkqajefURyrLzGuavKL3mkYqisYgnDfce7v2iDlf1AyYWWCcu/GbKn/rn0hhhoYwj+CHEJgk/CfVKx8i1RBtHtobBG1m8EPGqToGm1BtFCa7hKJH25SkgYEsUl8i0hFBsxeR6qSRipInJVZ6FI3TPVe5715+pvvLP/1j97WzPyuaKMjUhTOOaxIpvT9+jBKprMEmGItZZoHxmDpiIsgkWQhRz06kWt83cCNgEjtEjm9ayNYPkaIPQNh0UoB3ioiwfoKgV+7ZiBTvL+PPm0+/KFY0ECn+R7bhaESqF+72OwgYkbJ+kAkBnclRwoRmCgEJEsUgBKGCYOHEyRbyAchUkMCHshCpqHnFs88+GzTbS3HaiVTr4xRY1My38SHKopFSYZCoWmmDcZCn+UhlbrKReZB+ohMvaKPYMQPmWF2kz/6IFHWCECHwMWvPe5Ak/Cc1cj5EyongyXvLYsKYgIVMhGQnUo22qJzUP0QDxjiKQN49ap8nhQjS4NmJSDGxRb6QVl2vyOObPM4maaQgUUp+ooQqeg6ZQiM1d/qxooniCKm66Z9O7f1sLlH7GkIgMHXUiarQIDfZiZRHku8BpByM6Su0XTFEKtKfYn2JMtBfyJv+03vLRqTov/QpMNPIw5AqvRbSv3uXze4YdgSMSA17CxdUPwY6yBNap7c3vdgMOAGRwpkcHyl+2/nS6wWVIF2yaYkUgzezo4T1ZjbQz3wmf6zjJWknUvFfi/sfASMtkYLgrn9kg/hrIIwhDKbZyFM/9KaRSoPcaN3LxAsmM0y8MMHCUX0S+J/ZX4SZcrf+iBTlxQSLsYH1zTCFYlwM2fIgUvq+E+YaoZN1sEKEzs2rG+EAACAASURBVCxECk0XJIfQ/2gdSIM6cK1Xu4URKY8a6SE8dyJSiu3y5cuDiFRWjRSme5jwYcr3kQ/9jvvD3/89OaKlihKuKClTcpaHjxSY0q9oVzRvaIVCFwLn2X7Cn0PY6FN8MykD7RGadxqNFP2CfoT5HhYG0aiv9C3q3PKV6/XtzUqkfI/iXYJIoZHCZ8pvvfLU3mjHUUfAiNSo94CM9Wfg2b9jt8yaEd1GI/dBpJiVRaCAUIWaumQsRvBjaYmUmpDwYVBn31CtWjuRKm8wVsEKu3Y+QCEbM28qHC1cuFCEwZDn9B7yNI2UomHHJAToIwgnECY01T+5894jzvFRYNKFe8vb+iNSzFZTXnY0uXkTKd5NxiFMnRAy44QF0oGJG8IoGgSIVH4aKY8NeZIPk0oEx0DzxvjCjkYIYRfNBYJ2q3ztY142ItXS7oGvT7uV7pEaqeReE9dIKdnRYxIp4jd2SNPfHfcJIVNjF50u/lKzj/+Ee+6Wi2TB3fiz+n/UtC9N1D6p58SEWG9o27OwLaRRTTdbGCfXl6vck5ZI8W0jf9qKABdnn322EGb6FG3O9yTkW56GSGG+SDuSHxMR9HPqrUQuzfvEu0haWdeRAjPVSLWIVGeM7RdDIIqAEakoGnaeAgE+apMf28nZHEz7cCT3dsWtj16KRAu7NS2R0rqhZcHhF62NXutVyHYi1evu/H7nQ5hWI6W5I4DxQWN2MM1GnqaRSoPY6N2LkIKGGhKFsILpDBH7mHTB9Jcw6MwEY/oXIijmh6AfoxAeIQRZw5/zDhRBpBA0EaKZyEGojGoFmKhC+OQ3rkOkeH+9P0n3sTdUI8WEmGokPnn0Me6DH/xd91sf+MARO7+p9iDJtDGMSHlSyjitbUH9GXOpH+Oa11g0pI9QdzQ1RLZD+O609dJIxQkVJAnShFkfUfc+/icfFnO+F++42BG572+P+ZhE8nv/weuamilNQ49RIhXuI9UQDRBtw/cDTSckCuwggxAbtEQhGs8sRAqMIUvkTV9CE6aECtLMNcrSa0tDpHxa9FW/Q+bob/jIUVfKRH/i/eq99UekyONIjVTvXO0OQwAEjEhZP+gbAR2E1EeqRaSiH/Toed9Zpk4gPZHyWTBLJkRKNDxhdWgnUmHPpK5QwgO0Q1YixUcSoSwLkTKNVEJj2KUmAvTLHc+/JkRp/669cg6RQgtFFD80UZj2cc695W3+3aTvq/DeO3+eie6UtiHvHWQniUgk1SfEtI+00BZDFogYGSVJjDEI15geq9YADZEQix4mkqFEirzRhGDWlkSgote4B+2L9+NRfHzNwRfzMITzTloNhGieRXjHxJi6ILxTZ+oEaeJ3iARjHFEHjzrqKGk3hO9O7RbXSOk6Ukp6olokzldfMqfpC/XA0q9IxL7P/MXH5IiPFKZ+r6+8zEftu8eHQdc09JiFSFF+yDiR6jhSR/okhAJNIG3dizRqP0tPpBqSNgRGyRsTiGgi0fJwvdWumkvyMT2RaqVD2+IfBzHnSL+mD9DX/TvXuvfIs3yIlC7JcGT6dsUQ6IyAEanO2NgvgQjwEVDTvpZGKvDhkm7LSqT4oDCg87EO3dqJVOhT/d9HO2QlUqqRQhhMs5GnaaTSIDaa99JPEPAmGg0hUpj5QaT2vPa2aBSYfPGaBYTwsjafVxoihbCHdhpiAyngfwRO3hsmIrZsfXFSa9C9HiFEChQgGODCDoYIugjU5EOemOMidEI0pk2bJkJ4J7KiqIYQKcYDxj3ISidNVJRIcf6hP/qoPOMJn+bmRJPRi0hRNzBV4gB5YAKLiSy0M5QFnCkXZmukxz3UHeGd55O2NBqp/f/tA0ygiWL9KMjW+qvOcxedcrxE6/vm/JkOzZSQsQiJUlKmx2w+Ug0hzUxkEdgI7RuECjwgl2ATStLTEyknGKt5XQvHhqzrhP9SvE1b97Sf9UOkqB9l0HalbekDYYGe+iNSYIZGnMA3GiCrvWb2nyHQGQEjUp2xsV8CEeAjpkQKc52WRiowgRJuS0ukqBMfbT7ifMwgKJiaMOD2mh1rJ1LdBao8q06Z0xOphnygKTNCGR/tVj17l448TSPVGye7o/UeoJ1SIoUWqrotPZFCwFXNLeMDWhv8lNDGoE1A64LQy3vRbQslUj4NX07IFKZ+vKdM8AjJOnRI3l+EXWbvKRPXu229iBRjHPWCmMXJUq//eQaiGa1/iEaK8vIMeUd31f759MChFWVN74vmFa93XCOlZEePqkXSIySIQBMaAl3OJxfYFYLEYryTJKpbGpAyCFkaHynq5ttO3xVvxugnGOI16/w/uKT1kSLvFsattClPe5lavyWd9UOkSC+pD/Tqz74cWYiU7088Tx7ILe1+3doOSTW1a4ZACwEjUi0s7CwjAgx+SqSGRSOl/gmYV2BqwgeR2UJmRXtt7USq1935/U47pCVSfECY4WYWkHoiCDH7C/H0Qkz38pGnaaS6Y2S/thCIa6Q8kapKYPH5ptFIIaQyBqhjPIQG0gF5Yocgca3Xu5OOSCl+DUkb3xHK0doaosHQMrWuJ5/1IlLgASlDG9WLOMV/5xkmVkhDt1AipffneYwTKSVMelQypEe9Hj1CiqL/x8/1WT1mMe3Ls87ZiFQ+JeiXSGUvRToixXfPE7SksccTWoJo9dLuZi+vPTlMCBiRGqbWrKguUSI1LBopZnb5KCAUQCzYmQ32QlJ3oNuJVNJA3f35rL9mJVIIgIQb1noiRCEs+g9N99KQp2mkumNkv7YjENVIYdoHuapmS0+k2suZvdzZiFR77q3/0pWjF5GCkGFWFeIbFSdSPIPZXXScrBWR6qFNUjKkx16kKf47/xuRmjnpU9XqocWfpSNSE+O73ebX30kkShMT4277L56QSJU/eeG1oO9g8fWzHOqMgBGpOrfOgJQtSqSGRSMF9OoDge227iHkop1IldeIWYgUpWMGE18PrSNH0grZuM80UiFI2T0gENdIQaR6aW+KQ65fIpW9ZPkSqXTl6EWk0HjNnj07tTZKSRUBKqKaeyVSmEi3a9LSlTvL3XGN1KHvXSNER8z0oiZ7OZyrGSB5sGPaR9Q+H20wS+mzPQPGt4+NickpE4JlbqKRmjVLfPnKzJe8CNEfEv6cb/i+7Zvd4vlnuKU33e1e3nmgOQZBsB695xZ33tzPu9PPXOR+sPnNsqth+Q0gAkakBrDR6lbkKJEaFo1UPxi3E6l0s8X95JuVSPWbp2mk+kFw9J6NaqQw7auLRgqNbOgEQr+tVmciBQkiGmBokAklUBx5BnNotFq6QaQwHeY6YyNEraydIEEE4iB0OaHNCRZRxk5eXzv7sxJ9ENPPsupLPphlMyaDOcFJis6bNtV2hcCBN2SdfPV6EWXQfPVInVnzKqoN1T4YPx7ct8MRlZHojxcvWeXe2HXAje/Z1iRR581b4NZu3Or2H/TresWft/8NgSgCRqSiaNh5JgSiRGqYNFKZwHBOPh58xHzI2KyppH+uKiJVhUaK2UdmvqMCW3rE0j2BCSQz9WW3a7pS1vtu00j59qkzkSJCG0JpVh8pDVijPRGtCOMhYa0J413WTtjumbNmyVpQhC5nMd250491507/lBw5T/q/n2vRtMkTDE+bPbu0Oiu2+LuCN+OVXivjCImizoSvP+vMLxSedzQP6kz+IUSKb+Wendvcw3deLwT/suu+6cZu+Lpoojj/6avvuoPv6ySoHrVH29EQaEfAiFQ7HvZfBgSiRMo0UnEiVd4gXBWRGn6NlH8p2olUee2a4ZWs9SOmkXISlAJyQXjusrdepn2YNKPJQTCNaptCznmG4DVRJ33VSKEt0DWSCIpT9E49CRHPgrIzj/+ELLTLOlFl7ZAq8iaCXtF1jaZPBEf6FgGS8OuN/lb0Oeab1Bmf26LziqePbx4ELoRI8c5h4vferj1u07q7hEARaOlL198tvlOYR/I9DTHlL/v9tfzqh4ARqfq1ycCVKEqk6qyRwn6awbfoDTMGBnXMKsreqB8fMkIQl7HR9kQzxBSoTF8AhAVmI0M/mnlggRYBUxBMdWzLhkDdNVIIUAhP9OuidtJXjRTLK/B/0XlqXfBHw4+Ffoz/UPLWkCUQCOueJuAE9yJI+3eyNdFQqY/U1hfd52Z8VhbSJRDE+w9eJ/5L6seU5ogPVMj95EGkP9adgsyUOS7Snhomn/bD97XMDRINYa7i2xfqI8U7AIHCF4pnWHQYM0wWXp4+558lYiUE9J6H1wmpKhM/y2swETAiNZjtVqtS85HW8Od110gxQPJhL2rHjIUFBPEHQIPBh4xrRe9aHz4KEClmY8lbrxdxpE6EiWfRRMxosFXnWhF5RdMkD2zxMVvBH6CsPNevXy95GpHqb/ipo0aK/otZEH25jF2XVWDCpYz8onkwAcGaV36Jg05t2RCtFJiE+EpxDzP6aLL4HkQ33l3qyRpbUU1V9J6izuPBJpKi7OV5DQIF4dJ1pKoKNpF+Hal8WmBQwp8TlW/JzNNE64oWlW8mJomYQ/I/O6QKPynbDIFeCBiR6oWQ/d4TgSiRqqtGCiGfmTIEA7QnRe0ISAj4DMjMhF547pmyY5+u50UeEWaYGUZQoixF1TOaLh8d9X8oI0/yoB358AmuJdSTPMEUfM1HqueQ0PGGumqkIFIf/5MPiwkYZmBF7397zMckv787rvi84nVh5p33pzuRcjIhwoQM7xjvWhKh4hq/4a+INhzS5LcjNVKjQKTi4c/55pSukcq0IG/HVzbVD/QX6lz+GJku/DnBJh5ft1YmHCF/aNLYOacO7Fh1lGnxkApou7lWCBiRqlVzDGZhokSq7hopBOJbb7210J3ZX8jForl/I3b5N/3Tqa6s/cIZx4mAtnDhQrHNL7qupI+ZEAQDX6ky8iMP2hGMy8pTZ3ixwS9fSBjMcaFTqeuokbrw/PPkfX179eWu6B1tBRHDeFcfu+ErhecXrQ/rI41ddLr7/Cl/38W0r9VymIlBuAgow0QCEyYQJ3bOeR/4DV+vTqHN66iR0nWieh0Jk445H+Z6aJoOxNahij8fJ1KY9pUtjNMOOl6hre+8tchu53vS/TIoGql0tbK7DYHuCBiR6o6P/RqAQJRI1VUjhTDQ8pHiA1LU7iTsK4LZ08v+UT7AfIz5CLPrefTYz3k0TT74OFIz49zykSqqnj5dBC0EKYhNa+a12DxpO5zWmSlvRe0rOk8npprMvBuRChgUOtxSV43U+eefL+v+QHLUD4b3kvOQY8g9pEX6COUQKIjUE6uvbPrthKbRz33k/d3Lz/REauuLHVqp/TL+W0Tyw6SVmXrMo9k5x9eL37in05YHkeIbw7u+ZeuLsmNhgC+qJwq8+8lbX6Z991zlIEoaLh1CCva9TAG5J2ral4VIQYYIQ099IanUlfX9QrYwIuUxY/ym/TDRTmpD0qL8Wg6+o93IWX9EqiF1pN698jkSh3QaqSOftyuGQHYEjEhlx86enEQgSqTqrpFCAC9646OH+V6USOnHlQ8se/T/fs41LdKAVB1JpIqqrf8Q0/ZohTD1axGpovJspUuwiSrCn6N980Sqs/DWKqWdJSFQV40UC6giOOs7WsSR9KNEivWG0HIUkVc0Ta1XG5HqGGwiqdW41mgG4EAA5933E1Kd7vfX8yBS+HtC3jAPZMfnCnNMzAm7+V3FiRQ4QIR6HbkHAoUlAYSX0OkXnXK8jOnvrb2qaxo6ntOfsmqkIBJE3qOeV1xxhQRA4LsSsoURKSc+tPh9Yr0AtklEDVKDhQWYUw7WWiNASqetHyJFO/I8+RG0hIiL4SS0XyLVcO+9u8+xQHi3/tSp3nZ9tBEwIjXa7Z9L7aNEqs4aqZmzZokmI+Tj3w8wcSLVawYzz9+bRGr9+n6qEPwss5jDH/7ck6b28OfBENmNEQSK0UjFSS3/6zU9jx61QP4eBH017YN8IAgfIWxHTboSzvUdFgE94Xe9TvpxIiX5TT7TZjrWKZ0AIhAnClK+e7y2jTFCTPsCNVKKVtZjHkQKcgC5QAOGZozw2pj2QgA8oUsuHdocjdqnmGhbdTtClpgIwwwSDR6hzPE9xVybdJRMJaVBe7JDpLCCCCcDrTpQT/zYCKoDGcxbI8W4jU8QZA3zTIhLkqaJwEkQVrSP4N/SFOn71SozZ/0QKcgyxI72JWgJ+RI8ibbvvfVHpFSG+f5ltzomemwzBNIgYEQqDVp2byICOgjdedLFbjA0UskfgcTKZbiI2UlUI8XHVj/inY4IWNynx+gzKlxFr8XT4Tc+7k0iVWL4c9VIZREYMsArjxC2luhjLdO+rCmFPOf7SzuRKrYPhZRqUO/JXyPVcI3D78sCm1ufeVxCFu8fHxd4cCpHEOWd3PXrgzHIfBsqkVKNlBIp3qleO/eiCVZzQM67PcN7GydS8s5PmpF1ezb+G3mTb688o89xf9O0L7VGKgZf4L95EKloVmjDWPQX7XCvdbjiGikdS+Pjp/4fxYp7uQ7OaKY+8qHfEa0U13Sc1uf0yPPcz+/9aKQgUhAciATjqicTYWNOiEaKbzbYQVjQSBEqPYlIEcYcs1dIF+XwWqvO5eiHSEHuvDaoIXmhBYMo0969t/6IFJg9v3qDu++L17u3N73UOzu7wxCIIGBEKgKGnWZDIEqkTCM16SMVMe1r+zh3EM5UIIse9aOswhICE793Sq+NSAVrpPxHkY8YHxPa0m+dP5bRXtKvRornW3lGU+5+DpEqz7TPY9FOpLqXz35NRqAIjRT9Z9/2zeJvxHowuqgm5Gr7s+vc0ou/7C6/bYN7eWfcx8S3K4I+pqloG/Sd46jCcbfj6ysvc5jnob1gxxwMX5pOzyBg8z6rjxTPyjutGqmAfEmDnXyieYaUmbzrqZFqiI8Owjw+O7RJJ/KAuRnaiptvvrmntiKLRkrbDjwZc8H5qzOPE40UhArs+a3TTntyTz8aKQgM0e/ol5jUoZnyk0a9x+UQIqVvJ2lCWDoRKXyjoiaGmNt1MzHsh0hRJtJW8z7ybZkR9qq3ESltUzuWj4ARqfIxH7oco0TKNFJOZr/bNFKR2Wb9SOsR8sM5s8Tz/uEE+WBzRNjhY4yghnkJQh4fZgQnfTYqOHHeRqSCNVINEVzwHcO8A+GEmUcITshG22fRSJE++TDjiL9T2Kxjq0SmkWphMWhneWukJsZ3u+d++D03dsPX5R06deHt7qevvivmfQRzYDkCiNTb++ImQi0ihWlfWo0UAjbPENyFnZDmmIDxjnaa8ODd7aSR6iSYR6/zjjMuqLkZeZ7w6Y+79Ved1zHP6PN11kgxHuCDg6aJsShJ28R4g5kZwn83gV7fibhGSsfOTkcZRycnq2hD7qONNTQ+RBlypWQqno4+3y+RwswNszr8MfEDY9IIc8YkPyatqx7TEqluGik0RGhzIXYQHMqBNrBTOfojUg0JasE3gfbH4gBNWNi3wYiUtr8dy0fAiFT5mA9djkqk7pi+wOWvkfLCDoI3AhOzlZjtMLONH8Rvxg9IxCGueeE/eeYK2+46+kghGEGWEMD0Y41g9M35M+U6M6CsA4Ogho0+Ts/MYieZ87QRqUCNlH50ETYXLFggkfD4UCLUhGxgnsVHilllnmMhRExHwj6WrRKZRqqFxSCdFaGRYgzYsf1V9+g9twiRQiOF9onxgjDjp5+5yN380Atu/8F4cIR2IhXXSCEUxwVl/R8hm/dWlxvgPYXMaDhzJS96vxwng0rEiZSQrqg/VI98yUPXhoJQMdESJ29t+UbSq69Gygc/wKQNooTJGcFrENij5mRcg0SJNiog2EWcSGm7dDpCgFSjyDlt+pd/+seO9b7AnbZjnO30PNdpT3YIWBofKUgLGrn4WIh2DrKDhobzXpuO6Z38nqLPM87HNVLkD5GLl4Py8W3oVo60RArZQfI6dEjyo+y0N+Xie8S3IaTOyAKYQYJ3FnNv8j3StC9ZlojiZ+eGAAgYkbJ+0DcCDIabv/sDp0TqvV29B/vwTL3/w/iebSIoIXyveOwXXig6PC6mO5gbPLDpl5MDf/LgVyaRivtIdRJq+OhCiBDIIEiQKc7VPIgPOh9ydjRUEC3s9PlfiZSmLR/wmI+UJ5vdkdYPKR8hSCqaKWzzmQn0xLT787R9Fo2UOowzw4n5Ch+yNJtppNKgVa9789ZIIURBmtA+EUQB0nTw/Ybb/+ZTMiFxyrwrZXw4EoV2IpVGI6VEincWQZv3kwkO3scoMYoL3PweJ1Ki3YiY9sWf0f8R4HleNSQcEe6b+fYQ8EmnzhqpVvv4dkGgRjBnbPLCdEOCEWDyBtHyW/J4r2kdQaQ6EFbB+J6rBE9wZYwFVwgU4y4kG6yjFgE69saPtL9qpEKj9jHW+jFxiWihmGhC48b4TF1Z6oFlJrwPkdYu+RhKpEgL0zmWriA6IPlRDvKGqPI/YdH5nnENkks5iKrXqRxpiRTEmLxIm/wINkF+nPNdYK+OSCXja1cNgTgCRqTiiNj/qRFg5uq1x37m7v/Kde7p/7y/4yCbOmF5oOFwGH/lR6vF1+GkGXPEBwIzHa7zcZs+55+FXKmWKimfMokUH4E2075u9vQRjRRaJ8z60EZRLz7ufJARfvifDzo7H3muqYClxywaKUxHmJEEHzbMaTCtYdHbTh/LKL5ZNVLMQvJxxv6fGc4sRAoSlmX2MVr+sHMvrJmPVBha3e4qQiPlDo8LaUIzg/bpB5vfbCNWqqE6sly+XdECaNQ+3iUhQpPvbFxI1v9519S0DyKl5n28v92E7ej7jDYLYV2Jl6bd6ah5qr+OmvWhwUYjps9RBz2PH+uskYq3D2MEQjZaEF3rCPM2NC2h730aHymwYmxF2wcx5hxsGXM5skOomOhKGn+b43CESIVqpBhHISEa2IGxhnozNqOZ6eWbFMUulEhBXtB0MXHGYsuYVTIm4xfFdUwL+S4wUUYZIFuQKMhppy0tkSI/8uI52hSySD7s+G3xfWKyrveWTSMFVoQ9Z0cjhQzz5tMvNq/RLrYZAr0QMCLVCyH7PQCBhtu/a69Eu2EdhrCBLyBZbjk87tBG4QNx29Xz3J/91eea/g7MOCM8nXBWdMY5eYayTCIV10h1E2z4DYGMeiBY8bFG64SGSj/YfOCZJcW0b+70Y+W6aqSiabcRqSAfqUYzahPkj40jH3M+aAgyvbasGinSZcZZTUWyECmL2terder5e94aqYmJcffuhv/nCDTxxX+9Scz6CDLBO8XEy7fWPJkQsQ9s/FjBjHcaHyklWryXvKNMcmBix7vLO8q7qgRGhWs9cj2rRop3nrGCcYIxAqEeAqVEDlIWHRc0z+gRAkBZJfx5F4E4z54DvgjGkIKQyRnNm7EFQZsxick6xguEeK6FfmPiGiltl/hRMQJfiDCWAey0LTukimOTJHfRbEU1UqFEir4IWYT4oQWC3ENk0Ebhn0TdQ7dQIgVxIX3dIVa0FXnxveRIe0GsuAdSQ7m6bWmJFOnzvaTuYECZIJHkF0qWfXnSEqnJSZQ3dsrk78sPPSVHiNSWtT+UcyaFD+17r1t17TdDQBAwImUdodYIEHkLHwiickGkVPuE6Q5aqsXzz3A4l/uIXAyO1RMpPvy9NFKQHoSa6Gw0H3GEIfWX4sPNPRwRlhDU+KBrCF/9+OuxjUgF+kjx8UTAocxsfEAx32AmOOTjnVUjRV6k3w+RMo1UrV/dxMLlr5HyGmveEdYLIqgEIdDvX3mHjA1nnj9PiNTm198Rc7/28aFFpDAhivtIxYVt/R+tEjvvIcQFYsT/OtlBOnqvvpvyf4CPFPfrs3rkGukzViiROuqoo4QQIeyjQUFrwtghmpIuwW34HW3LoK0jldiZAi6m0UhpW9GmjKU6RoMZbcxRiGoPM0zaiZ3+EE6kAioTeEsokQpMLtVtaYlU98Q7f8+PfC4tkfIpQBw3fuPb7pFLb5Ej4c/5/95zrhUNFbKHbYZALwSMSPVCyH6vGAHvI6VhjDUilzqSY5aQHJGrvdiVaqQSBBud7VR/KISgKJFCUEI4ZMdOHzMeZpK5BwFLBLmI0IUQ0EakgjRSXgOF2QYzgMwOcsTMg0hRIbO+/Wik+Ihh2ocQ60lbMglub0n/n/lIJaEyGNfy1khh4ktQCbS1Fyy8Rnxq7nnYhz1HI3XxklVu7catCVqpFpEK0UgpkcH0Fk0Q7yzvpO68p0x4oAlToTx+5N3tppGKkid5pyfJE2kimKMRIW+I00WnHC/njA3qX0kZ43lG/4cMDIpGKo/eHNdI6SSU4hw/RrGScyVNHPW8l9lnxLQv1Ecqj7pqGsNDpLRGIcdsRIqJWkz50EStmnmZ7GvmLhYytfvV7SEZ2z2GgAWbsD5QfwQgTc89eJOY3+BIzsKaECsEiamnzBf/KDRU3bYyiVQvjRQkiFlhhC4VyJjFRhjCpI/r1E21U7/1gQ+INopr+GCglVIiFf3wtxGpQI0U5nvYvbMuC/4HOB6jocJ8JmTLqpECI7ReEOFp06aJ8BuaJ+WyqH0hrVO/e/LXSDnxh9Lw5/hzQJowFdq07i7xLVnxwBPujV0HEoKntBOpXhopSAoTH7yjmNcpqeG9RSvEdQgPkx1KaOKCOu8tZIYJkriPVPRd1nM0IEy68O5DmHj3KQOkCuLGjs8U6ekzHOP56v/kbRqpzmtAJWEXvRY/5//4TtvTzqaRKnP8yUakKCETiE98a40Ey/qPT18g2ijIlflHldl+g52XaaQGu/1GovT4SDHjfN68BRJ9i1DHD995vZAKInLhXF4nIhX3kVIhJvrBRSCCFKmWiSOCFTsz3ghLCFB8jBHUmG3nyB4nUpp+G5F6ZMNkiPheXaQhfgc4GkOiIFOQztCPSFaNFPb2aMIgcOw4kLcWX+xVZk+kRtdHqvukQW/0qr0jb40UtcFPimihaDlZCgETPq4xUeDDnifVuZ1I8a7xLikJir6ves7vTHCwc847OOPTgQAAIABJREFUyjlEhnc25PkkjRSCN8+ST9KRtMmH/HjPIWsQOfLlmmpL9Fktb/xYpUaKdzytL2RSq6W5hn8PJp9Cku/xJBZyWuQOxuyM45j2ef+fNKXu7178yViLiWANIX6u/eXW/jTRXqkz/l1lb6xHSN7pfKsoZcO99eRWIVAQKUiVx22wx9my8R/l/IxIjXLrD0jdCSqB5oaIXJjsPL5urRCp8+Z+Xq7hTI4PRN2j9kWFHM4RgDiK4HaPX0+qeW0y1DECE9eUWHHONQSkuFaqjUgFaqR8F2iIEzEaIRyd2/1IuneSrBopPlTkF91DfLK0NKaRashMKkIDxJ0jmPYmwI1Jk81qhIQiNFLaJ1rH0Lr5+zpF7dP3VY9CSiaFcQRl1TxAjHTnHYySF31WjoE+UtHnk/LkGnlrnuK3E9OMtOUbIWeUuyqNFAEneN8J6V3GTmhtfEBPOvFE0ehFx1DG0aJ3yBsadyaIyqiv5sFYQJQ/8GZSTK8XfQRvQtVTZ8KYF51fPH0sHAiNn55IOQmWRdS+df/y70Kq/DcwdBxpjTx2NpoIGJEazXYfqFqrRgoHaXwgMNXBlIdAEwSfgEjt37G7a53KNO2La6TigpEKOQhDQqIm/Zv0/6gwxjWdPYU48b8SKE1Hj21EKtBHqjNpCvuIZNVIdW2sgB9H2UeKGWcEUvzY0OZhGqkBQhAcIcPJ/m0NEW7on8m/BwCfwy1FaKSyFcv3cbRYIT5S+p6h/dF3kHebc931Hj0mvftJGqm4Rkmf12M8z2i+0Tya98eIld4DkarCRwo/SPw+8b8sa0eohkQRSRGfMjWFLOtInh/6o49KGcqqs+bzyaOPEbwhNXqtjOPUqVMFb8akMvKL5kGdyReClXZjAgoZYudLr8sEVdrn7f7RRsCI1Gi3/wDU3pvobP/FExIIgdCo+DvgYM4ChvxPxL46mfbFfaRUuNGjCjVpjiq46THp2TYilUojlb0bZNVIZc/RPzmqGinwxoEes50pU6aI0IIP3Qc/+LtNwQnzTN4LCBWki2fQ9mHmhA/RjTfeWJmwUI5GKrR3tYhUSNQ+fef0PW47xgIRdLqX9xcyE+oj1SkdzTv+e/x/vU+PVWik6Hss9M16QZjzlr3j86l5F3GMpsm5/h/Nt8w6axm0HEXnHc2Hc+pddJ7x9LUMaOL6M2cMm0AMHWHsvtFAwIjUaLTzkNUy/WBXR42UCjehRxWSOMaf4VobkQrWSPXXNUwj1R9+4U/7Po+QQHAQZl/ZmQFmFpYjM/4QKmbCmalFqCAc8fpHNkhwDkx9IF8IOjhYV7UNqkZKtUbR97DtXDVVCRHemvfdc1Vi1L7mBMnks/J/t3RU4xQncPH/9b7JYxUaKbTe+EZBqMreeV/KzrPq/EaxzmBOvf24ll4+qGostHyHAwEjUsPRjiXXgoEqOljpecM13p+QjyYfTmbD2+8ruZiR7CBSOKIyM1r0FtdICcnBjG9ybZLCjv99tfg/fOYvPibCc9H1JH3amMV7mdHHRr6srVyNlK8VWp45c+bIwpRl1TOeD/b/rJ9FYBBIEv0aMz+0VJj60Q6f/NRnRFOFSROmRWpiBNHCFJB6oKWqYqurRkpN+9SMtogjZrkQmbhpH/8XkV88Tc27adq39cUquoDlaQgYAobAUCFgRGqomrOMyngSBWFiFgj/Ao2UhbndlicflrDWOH7e9+gzYoZXBzIVJVJoUSAAue+HDonvSdxHitll9qIIFERN0o8SqfXrRVhWQltEXUmTGUDMxRDgEfIln0kSnXuek21G+ymRgkRIexaZ52S71oFIYa43NjYmZC4eAY3/IfE4fJ9//vlNLRWECo0V5i+Yw1apjWKEqqNGCrw0IiZRMYvcMesjeA4h0wmXXmRe8bTJm+iERLJjTKzD2FzGV8vyMAQMAUOgKASMSBWF7JCnSwCIR++5xS29+MsSAIJoevzPmiYf+dDvyEw4azyx7lPn8MPlgQS5wfkYjcLixYsL2zG7wn6bNV8IZY7QQvSmsnbWsgF/NA+Upci6ato4NKvJWBl5ksfs2bNLy5NFg8kTYRvndUK3V7VBlsT36dAhEYL5nwkNyJFqmfgfQkXkLCY08IlioWVIZ4t8qRa53JrUVSNFsA40dyd8+uOl7GiNyY9jWXmSD4EWyJd+zJhomyFgCBgChkB/CBiR6g+/EXzaC2AaSY8PMms5jd3wdSEOCPEf+fNpQq4QPpfedHckNHl1cCmRorxoTzCNKmrH9Ar/FWZ9MRlK2qUM0d8oT/R/zkOuxe6hfphz4SNTVP2i6VIPtB3UF2E0+luR59QTU7Uy8tT+Aqb4I1VJpHiD0PRBilizBZIHwSP4BJooysa6NWjp2CFY7JxDtDC/hGTxf1VbVCO157W3qypGUxuDRp02ZgdTfMqK3iVU86xZol0sOi9Jf/36Zp0YlzFzxhzUtvojwHvLBIjsXSwpdCKl/jWyEhoCw4WAEanhas+SatOQxS/vX3mHW7HqXpntZvFBSBTO7l+6/m7301ffdVufedwtv26FLJjLTHSVm5r2IWyqOWIRR9akQZhFKEMLgAOs5rN77x5X5I6mgvqhHVq7dm1b3lqGvI/kyWK+aMAgq3mn3ym928fGRLtIJDow73RfntcRstGEVUukGmKShTYQAsv7Fo3aB9nDZ40w6OCiplsIYbQP2qm6RO37/r+Nub1v7KxwWPBjEn0E0k+0w2KE0SPHPvoQmmv6b9kb/ZjJHiNSZSOfPj++m/u2b3Z8ayHft956a8f9Jy+8FrgIe/py2BOGgCHQGQEjUp2xsV+6IKCDO/4aaKP+8k//WAS6o6fNcQ9s+qUjXPnDd17vLr9tg4QnL0ZA6VLA2E9KpHDIL3pjxp8IaeUL3A0JOACRwqyrjA3NBoI7gmiZwSZYxf6sM7+Qac2QrLi0+0gdKRxnTTfNcxBziCsaQDRyHGlvjphsaRh0zFgRvCDzkCr6PX2S+6qM2sc4gEbqvi9e7x6/csXk+m/VYKkkU4kUmpqyNHW0yfz5893Pf745TfPnci+TLJg4G5HKBc6CE2m45x68SUwysTTQADLRI+d/8NEp8q1FW22bIWAIlIuAEaly8R6a3Ags8cTqK8X3BxLFIP9nf/U5d/GSVe7xdWvFiRpnarRTrPOkQktVAECkZjaj9hUruDHzj5BUNpFCSEVgLpNIkacGm8iyEGLW/oDmjVn1LKvYZ80TIlW1RgqMEYLjRAnzLQgtGikIFsIVR/qCml7yP+amRPvzExvFvgedcIZI3f+V69zGb3y750LandLI57qvvxGpfNC0VIpB4FfP/Je78NwzxawY02L86tBC883l3cbMGT9VFqbvtZ5iMSW0VA2B0UbAiNRot3/m2mNysGfnNk+mFi2SWW4G8s2vv+M2rburGYRi6cr1tdFIDTuRYja9bCJFnhAp/HTKJFIata86IlU2CfH5YUqJeQ8ajXj0PYJMoOFYvny5tAckCkKFlopzNFGQQbRa1W0NMed7fvUG9/JDVUcQzJNIpesPppGqrgcOWs681zu2vyqTRlh6LJ5/hrzXTFwSGZcxkH3Xrw9WPmE5aNhaeQ2BPBAwIpUHiiOZRsM1Dr/vJsZ3i38KgzjR+SBYCGoIfPt37JbzssxlujXDKGikqiJSaEKGm0h5IbkOGilMdwgm0Yq+F+/1DYnih1YUUk0QCnxxMOdqj9oXf67c/w/te0/q4DVj5ebdyi1PItVKNeTMiFQISnaPR6BF0vne3nb1PPFHxoweX2TbDAFDoFoEjEhVi//A5v6b8QPNNaMIOPHGrgNCrLwJHwO/Dv7R8+qqm41INWTWH9Of+Ox/t5q0m/YpDt2eaP8NIdnnl+7ZqohUdo2UxzcNtooUGil8pNJqpCAiGpwi3J/At0M7kUrXNlrufI5JeXMtet1jy4QGe3t/it6XT4kGMxWPQx6mfUwevfD886Lxw/eoM9H1SPVDpEibfs+aYM8++6xMZKXB33yk0qBVl3sbMkmJST1ECk0zGimIFBOare9uXcpr5TAERgcBI1Kj09Y51tRHEmIxSSL1MaCveOwXEpY5x0xyTSodkfJCKTP4OOwzo49PDpqAkA9WO5EKrYYX6hDI0CRgvpXWBKsqIpVNI9UQU0DqiSlaWs1EOtM+jy0mMvgSXXrppWLmRiCGMDLln28nUqHtavfVFwHfrv0SKYgN5ETD4+OvQl/ptmUnUg0hUIxJaIHJk2iDfmzqlmPrNyNSLSwG7UyJlH53Wxop35cHrT5WXkNgGBAwIjUMrVhBHYjapyHPNVJfnR1d0xEpJzO+rNGD1oNoZwgsREtjdr/X1k6kwj9wCEOE9UYQI6BAGuGIMlVFpNJppDwekFSew3eH0OlhhKaFfDqNFHk2hEQRLAIhlCiD5OsDgvRqI/97O5Hq9UyrrHZWVwR8G/ZLpISgr18vEyAE8mBtM8LTd5sIyUqkmHCgHxItFY0UJIrAI72IW7QFjEhF0SjjnH4W3eN5ejP5+FX/f/tzSqTwe1TTvioDxySX2a4aAqOFgBGp0WrvnGrbcAzoz91ykZs7/Vh3wllXiolBfK2oxvsTst5UFtOtnAraTCYtkSJ8OFHhEDoIogCJQmBBAPKbF8KaGURO2olU5Icep5t+tknyIeIf61ClDd5QFZHKopFSIRChk7pmIVJhUft8O2HOh9BJwAVIHG0EQV62bFmA2aZPo51I9WhM+3kAEPDtmp1I+ecRZCFTHBnrWKeLftZt0iUrkUIgh6CRHxtrQjHpgqY1dDMiFYpUPvdhBs+aiuDOuIcvMe2ISR5BJPjW8Bt94u19h5qki/7z3A+/J23MGlGMkUqkTCOVT9tYKoZAHggYkcoDxZFKA+GhIUEmWN/imnNOcif835MlzDmzsXwUdMdEDf8pIvnFSVbZkKUlUpibQWgQutn4ACKwUKfW7GJyLdqJlBe2ku9sv4qwj++D5j0oRCqdRsrXGWGQujJzj3YIEphmS6eR8hpGTPpYf4q82CFRXOsm8Poy+TZsJ1Lh7ZqmXnZvmQj4NgwhUpjvsU4afRZNcTvxb/UFxouFCxeKSXDLT6r1u9YuO5HymmfGM8Zb3h00rDpOafrdjkakuqGT/29KfljnLTrpCMFircUTPv1xH8r8lPlu7catEsIckgWJYqLyk5/6jIQ2h4BpWqaRyr+dLEVDICsCRqSyIjfiz2Had9M/nSqLgLKmBQM761rwsdAj69bw4fjB5jcHjEg1RBBCY4HgxLZl64tishPiz9NOpNJ1FIQv/LEgcYNCpLJopECFWXWIFHVtCZ1heKXzkXKORZIROBEivSmME8KK0NsbZy8ItxOpsHKO9l1KIPRYNzR8uUKIFP0HTRPEmzEgyeyWdHgX0LJCdLpt/RApSByaKCIyYqrKOJVmYV8jUt1aJv/fID8QJr6NH/nzae7mh16Q7+H4nm2yTAiBI/iGsqgu6zBK9Nvx3W3P4IOM6TzPaNQ+DTbRa2Iv/xpZioaAIRBFwIhUFA07D0DACx/733xKtFGYGECidFdSpUeI1AObfjlgRModQaSIyIWAhADvP1ydoWonUumEyEEkUlk0UqCnRIpZ9SxEKk3UPtUUKJGCTOFngmCcJBS3t65vw3Yila5d29Mb9v+82ZKPJlbnuvo2DCFSaC1pfwgMfnX0XfqsaqbQsBI4BXNTtJ69+nM6ItWQ9DAbpN+SJ/mhISNgymmnneY1YIFaXSNSJffJw+PulR+tbmqeLr9tg5Al1oT66szjJAIfZIoJyFPmXSnrLqrmie/r1FPmT4Y59yb1Sy/+clvUPj8xZONRya1q2RkCTQSMSDWhsJMwBPyAjUaKmTFWXMfHBWE4uqNlwJn/i/960wBqpJy76667pV74LSHAIBwhsHhfBDDo/OFqJ1JhqHIXH0QEJDXtQ/j3H8mwNAbJRwr8EGAJ6EH/QTBNU9e0GinIEnlhzocJJYIx2jD8psC8++bbup1IdX9ilH/FNxJ80fQp0agnHr5dexMpfdcbk320IfWCxLAzPmDO7CPoLXGEP6fuXO80TqQhUpAy0kdTzZgAkaMvoiXjuhKpUPNYI1Jl98aGU9LEhCPfRHyhtjz5sPu74z4hBIrF4pU0YcHB93XR3L8RTRX3s7wIfYl1pMZu+Lr7zF98zE2f889NgtWpn5VdU8vPEBhFBIxIjWKr51BnhATM3mTR3fFxERq4hkDMkf29d/e53a9ud/vHxwdOI4UwBBlEyEfgxoSGgBO9tRdOAhnwbFhEuFZjIBgRbp1Z7alTp0pUO9aJCSUYVRGpLBopTJ8wgzrpxBOlrtSb+oduaX2kEOghx7NmzRJChSaKtg1royQipcJ1aIlH5z6EvU3r7nLLr1shvoWYxWJ61mmn3VnQ2wuDZeLq8+pNpI5sO8gNpJx+C2nknGA0BJlgxwyQCZVOWxoixZhK+owpjAeQN/ovpqoaMMV8pDohXY/rapKH5gkNE8EjHr3nliZ5WnrT3e5vj/mYmP59a82TosGaffwnxNJj6cr1YtYnNTk87vbs9GSab5QPXFGPOlopDIFRRcCI1Ki2fF/1bgk7CPkITnzIhVgdnHA40TLLzyCPeU/VgSaoatpgEwhKBJiAPCG0MBvs/aVade8EYVaNFIImWhOEI4Qmzpl5Dp1propIZfGRgsCAK/Vkh6ym8fNIq5GirSDBaPsQdMmb2fxeJli+jX2bm0aqU49vv877TyAatNVnnj+v2cba1vHjBQuvcSseeEJMmsodK7ITKUgf4wE7JB0yCDmij7CjyYagddrSECnGWPJhDNOJKsYY0uA98vn0Hpe0LKaRUiTKOnpNkvpJ4dt036PPNBfWReNEW547/VOincJPinuP/fBvi98U/lFsLVNZ2lq1o1qH8PbXJ+xoCBgC+SBgRCofHEcsFT9oI7hjgsCgf97czzsEIvyhuEZ0Oz4WrZnmaiFKS6R8aRtiBiYmSocISxu2tROp8A8cQpIKZ+TJOWZooWYbVRGpLBopiDbkW+tJXal/6JZWI6XpQpzIE/+SUIKq+LcTqfB21bxH5RjVSOGHhiaQ8SB5v1tMlSBX+I748M9lIeXbMItGqt8SpiFS/eYVf96IVByREv4/PC6TC5jkEVQCDdTXzv6sP1+5XsKgEwEXjRV+Uix2zzmkC1M/xiCIFNooxiHaEH89NFt8Yz3Joj/buFRCa1oWhkAbAkak2uCwf8IQaLiJCe9Ay+DPx4HgEgz6RCRisMdsAY0K/3vzg2oH+GxEKgyN+F3tRCr+a6f/+8enKiKVRSPlUche5ywaqU7I977uy9lOpHo/NZp3NJw7PO52vvS6CHkSgazhZ8/RrOhOX0X4w59Kx4vLrvtmZLwoAz3frkakysB6lPPw/Qw/Kcz1CCpB4CJM+fhmonHie/rA0q9IZD+uzTz+E0KkCNb08s4D8k4RDh3yRTRcIgByJDQ6E5iQLd4tI1Kj3M+s7lUhYESqKuQHPF9svhn4GfBZRwpfF8x4+CggPBHVj2AUmC2wjlTVW39ESgV+PXavTTuRCnume4phvw4ekQqrV9JdWTVSSWn1vubbsJ1IldeuvctXtzsazbW6epcMHBuixcaJ/kvX3x1ZlLT30/3d4dvQiFR/KNrTvRDw/YxvJkSISUfIFBqnZsCISGQ/rrNzD2Z+u/fukfeDZ3WZEXxop0yZ0kxLw6YbkerVFva7IZA/Akak8sd0JFJkdg3BBxMFZsPwieB/TPtY7wLzvtWXzBEzhUEMf95PI7YTqX5SSvdslUSKwA2YzJW1mUaqLKSLzqclZGIizMSLzMCLiZL/rbgSGJEqDltLOY4AJq9MLkKSlEw1I/IdHm+L7MfvYgK4cr0Ea9Lw6WiheAb/Xaw+WMwXcgUh85H94rna/4aAIVA0AkakikZ4SNOHKEGcmAljNXYGev7HaRwTBNa6YJDXldyrhgGNFBHb8NMoeoNIETACh/MyN0w7qB8zlQRSKGODvBGhDCKF31FZG+HoiW5YJnlTjRRCjG3dEPAaKR/6HLLSmxAxW8/4gZD401fflcS9qVK3fPr9rZ1IEViG/lzGRh/CLyxNgJW8ymU+UnkhmTadhnti9ZUSRKKNKB2kz/k1oph8JAw6vx89bY58WwnAwsTl7WNjEixHLTx2bH9V1qFqJ1K937W0pbb7DQFDoDsCRqS642O/HoGAH6iZXeOj8PlT/l5M+ziyJsZJM+a4udOPlY8BM2qY6vgZ5iMSKvWCEik0GRqevYgjwQwQjhCSEJb4v4h8ktIkWAMEAyKFIzKCbNJ9eV4jT9ZiOv/88yV4RJ5pd0uLKIpz5syRPMvAmDwIO00YfB8yvdTuO1iZHR6XdkHg82SqR/EPj7u9r/7IfXP+TJl4Ybwox9+jnUgROZL+3K3f5fUbpJwxQtepyyvdXunQj5ls4d0hfLZtZSLQcNufXSfmfYzRaJGw5mhGqpwMSMG3FNO9lnbWl5F3ovVeNGQdKvysIFL4SbHMiG2GgCFQPgJGpMrHfChyxFFc/aDQPDGDFt2x72a9DHGkbVQ/S4aWiHVeWLwSgamo/eprrhFtFB9KFijm/6LySkoXAQlHZJyZy8r75JNPFvJGWPGkMhVxDULzyaOPkVDmZdSTPCCL+AIakeo+hDHJwmKjK1bdK5MKrCPFzmRGfOe93PrM4+JvOW3aNHfqwtvFR6p4bRR1aBEpFg+nbYvoq0lp0pcYIyBTSb8XdY1+zBjB4sG0hW3lIsC7gXaJSRnWBItGtYVQHdy3Q94HiDbvBmbyUfLkS+tN5xfPP0PMBCVgxQNPTK41Vf23tlxELTdDoHoEjEhV3wYDWwIiDWn48wtnHCezaMykIRAxmwaJ8h+K6quoRIrynXXmF2THNCzvHQIDYcOWHYLB/3nn0S096ocNPkJht/vy+A0cSQeBkPpiOplHur3SAFPqWVae2l/o1+xlm2xW//akKYGP2ofPJM7x9EPeg047Aj330JbHTJvnWIzUR/lMk2fWe9uJFMScvqf9ulc/zPo76YMH+XEsI08tK3nTh8nXiFTWftPfc00NVEIy/NbtdzSOaLUgUUyYQaLwU275FSYkapcMAUOgUASMSBUK7zAn7te1YFaXBThZkPKF55+XGWhM23B8DTLrKQkihIaZs2aJjTkLs7Lj05PnTpq7du0SjQXaKGYd+Z88ishPy6714YjJGyFx8YMg76LzxUcJ3xJm2NE6RMui5cvzqOmzsK6aJ5VRT/LAXNJM+wJe2EkTJUI9R7XUnc4xTcIfhHWkEAi7CZIBuae4pUWkeF9ZrqGsd5WxgTxZT0r7dJ7vSVJa5EM/xvxX350UYNmtlSPQEP9jTOeZLOOdwScZk77y3pnKQbACGAK1Q8CIVO2aZBAKhADSCnGsiwFCqDBbwA+JnSAULbvtak0OIFJlBZuAVFYRbII2gUChIRqFYBNophAYy9owt0EANdO+7ohjvoRG6qJTjhe8aKdOOxqS8+YtEE0UJApTpvK2diJVdrAJxogq/JTuu+8+I1LldbIccvLmfVh/oOVVEsWC9633xX+Tc8jMkjAEDIGUCBiRSgmY3e4HbPWDuH/lHeILgXBJtD4cxjE5wGyFFdoJfW4L8pbTa6oKf75kyRLRSJUZQa/68OdlCvzl9J+8ctGxAR8pAk7QL956662OO7/rrHo5vlFa03Yihf9QWVH70ERZ1D5tBzt2R6DhiGpJ6HQi+hHECdP59Y9sEKsHtJs/eeE1CWykfn/d07NfDQFDIE8EjEjlieYIpYVTLAvyYm8PYSJ08VdnHtcc6LmGwzT224Qzrtr0QE377rrr7qaTeVHNhT8WQlLZmouqiNTSpUtLJ1Ia/hwBvfjNC9wa/rzsdi2+fnnn0HDvvbtPzHvLJUZp62FEKi1idn/5COCLjIb3L//0j8VUFlNYJivxK9S9tY6UTfCU30KW46gjYERq1HtA6vr7gRoixYKAy5Ytc/c8vE5my4798G9LKFYibxHWlchdy69bIbNlo0uk+v2whT9fFZEyjVTql8geqAUC/t3a8797mhE289dIJb+/+WukkvNJgtnWkUpCpb7X0PCyWDXLi2DpkbRjHusX5A3vB/WtsZXMEBgsBIxIDVZ71aS0Dbf71e1OzfoY5HU9Cw3FymKBEC00Un4BwWoH+EHRSO3du1f8JgjcwXmarR8iRWCQbdu2pfY5Is9B0kihIcGvCk0Wa+qEbb7vmkYqDK3Bucu3ayiRImIa78j+/b/uUsWGBHTAXLEbKcuDSFEO+jHlSrMZkUqDVvX30o/4nrIuIWNQ0o5pX8tfqvoyWwkMgVFCwIjUKLV2jnVFI8WCvDi/fuYv/KKAkCgW4H183Vo3dtHpYvanC/KaRqo3+ES9Yy0mnNDZiSKGmWDolo1INYRY3HzzzbK2DNHw0mzkOSgaKRZbJfIeoaDBOdwsMIlIVTsxkKaN7N5OCIQRKcg3fYUJA6I2ItAmbRAahNwLLrhAIll2mwjph0gx6UEIfh0rIHdpNiNSadCqx71HmsjSd5P2epTXSmEIjBICRqRGqbVzrCvEiAV58ZOa9w8nyOK7Fy9ZJWZ8aKi4dtKMOY5r5YY0Tq5k3TVSfCiVzOA8TNQ9Fg8eGxsLnnHOQqR4hihe+HSxng/CYpqN5wdFI4XwCUFlnS/CtYeTVC9wm0YqTc8YhHvDiBQhw2+99VbpM6xfBhmPb7wH+M4tXLhQ+hdHnuu09UOkIE76zjFGMLal2YxIpUGr7vcqmap7Oa18hsDwImBEanjbtsCa+cEb4WHPzm0S8hzTAl07CjMETNNYuR2zPqL2HTmjVmDxEpKujkh5YS2hSG2XMC9asGCBBOgQXP93j1u0aJFopboJZNFEeG7NmjWpwp/zDJowZtnJD5+3NBvPD4ZGqiFmWQiwEFawDhdAfRu2E6mwdk2Dpd1bNgK+DXuZ9qFZ4v1gcoPw90lLC/AesOwBkyD0L97P7HeuAAAgAElEQVSlbu9tP0QK01RIGxMg555zXop+7PE1IlV2P7P8DAFDYJgRMCI1zK1bYN0QHHCC1UUeERp0YUk94kfF4rz8NrpEKqwR8KnAJAgiA1aYoTHrjAYl1ASNNklLpHzpGuKPhSnhjTfeGFbgybvIU2fHqUNZW5aofeCKXxRaPnDtj0iVVVPLpzgEwogU/YYdTRDrXiVppKLr6hEZtEgiRVnIDzIFkUq7FpURqeJ6lKVsCBgCo4eAEanRa/Ncasy6FpjwIZBiFpa085FnvQsi+JmPVHfYo0QKIQkiBakpnki1hMmsRGowNFIef/xLMNPqn0iZRqp7j+78K21AePRD+96reIKl1fcvvPBC12sdKTROLCycTKR8fZlYKJpIed8YZ0SqcxezXwwBQ8AQKA0BI1KlQT0sGXnhY++rP3LXnHOSrBv1Wx/4gKxvET2y1gX7CWf5RXlHl0iFtTtaO8jotddeK7PNmBNBbHrNbEdTz66RcqKRYt2vLKZ9g6KRAiswQiOFaR+Ccdjm+3y7aV/Yk3ZXHAEf8fPp/7zfbVn7QyFT8TvK+z8dkUIjBZGKmvah4fRR83xakBw0Pry7mAx22tKa9pEPu9dG+VTRSKXz9fPPmUaqU6vYdUPAEDAE0iNgRCo9ZiP+hBcYCDRx0z+dKhH7kta1YMHAD/3RR2WxXhbkrTo0a919pBCSICRElNNgE5j6rVq1KjhMdzYi1RCTTHxAIHKXXnqpEAwf4lmFw85dnjwHRSMFOcV3D8KoAnGY2anHoZ1I9camM2qj/EvDvfn0i27N3MXu8StXuP07dlcIhm/DXj5SaNAwr4VAzZgxQ3ygIFUaBRKfKPoR7wz+hrzHaLh4pzr1rzREirEBfygmOchXw7Bj3krgFH7Db4p3MWQzIhWCkt1jCBgChkAYAkakwnCyu9oQaIgARJhzzFwQCqI7RACzP0z7Lr9tg3t7X/tMaltSJf1THZEKryBlRAMFoSHqFwIaAlLoloVIMcONgEgoZRzp8QGBGPmIdr3JAnkOikYKXxLwpV/OmjVLSCP9FkG5+5ZEpLo/Yb92QqCdSL23q7PWplMK+V0PI1IQcEgL5qAa8RHzUN5NNROFaEGi0CjTvwiTzqQEY2HSOk9piBSEDRIFOcPnlLwYG/if8lAuyFRSPklYGZFKQsWuGQKGgCGQDQEjUtlwG/GnGm5iYlxmZJktRZhmbxx+3zXen5AdjdVtV8+T8OdopKreqiNSvcmIYgOp0YhchOoO1Qrp81mIFKZICGbMnutOtMVuZkmaH0fyHBSNFHXSOnLENMoHyOjVRklEqtczUZTsPIpAVCM1CESKMY6JBcgP/YYjhAbiQv/BRJR76F+8t9E+xrvFOxLf0hApnicfygCpYmdSQMtDfmiqkvKJ58v/RqSSULFrhoAhYAhkQ8CIVDbcRv4pIvZtfeZxt2bN3WJ+xoxtdGem9qJTjhfTvgc2/bJyvKojUuVVHUEqW9S+7GUkz/prpPolPUlEKjtmo/7k25tapn2DQKSKaK80RCrv/I1I5Y2opWcIGAKjjIARqVFu/T7qjsbpm/NnumM//NsSVOIPf//3XHzHR+rUhbc700j1AXSKR6siUoOikUoBZezWJCLVLzmLZTFC/w6aRqqIpjEiVQSqlqYhYAgYAuUjYESqfMyHIkeIFFH7CCoBgYI0xY9HT5vjvrXmSVmQt+pKm0aqmBaoSiNFEA4Cc2A6VfyWRKSKz3VYc6irRgr/JvpzGZsSKYKflL2ZRqpsxC0/Q8AQGGYEjEgNc+sWWLd92ze7sRu+LhHQMO2K7zhHr3jgCffGrgNSijqEPyfAAKZvug5LUfDgM4EDOD44RecVrQM+VlWZ9hFh0PsbRUtU3DlEish75RApXw+i9hGQo+x2LQ7FalKuq0aqCiKFr1XZG4Ep6MdpF/Itu5yWnyFgCBgCg4CAEalBaKXalbEhztWELt6/a684XeN4Hd33j49LyPMWgarWFAqNFERKo23t3LlTwn7neSRQBOnh/M36LkTDI/xxnnl0Sou8ITKskTRlyhRZFJS8tUydnuv3OnlqOHFm1/tNr9fz1IedqGW0Z1l5giUC6GmnnTZJpGr3Ug5MgeqqkSKiY9Hvi/Zvop0yRkDO9VoZR/rxypUrJaqgEamBeWWsoIaAIVBjBIxI1bhx6lu0EFLEPSH3lVNLIl4RKph1YAgtXtROGHEEJMgMGhP+Z/HXovLTdMmDnfphZonAz29F5a3pcpw2bZpjLTHCMVNfLVORx5NPPrm0PKkj9SKkNXX1Gqly+u0w5lJHjRQhy6dOndp8X7R/F9WHMUtljCDfovJISpd+zDjI+8Pkkm2GgCFgCBgC/SFgRKo//OzpAUFAiRQE44orrpD1hJiBznsnbdaBQkiCUBWZV7Tsmg/1w28NEqfXovflea7pI5RRX4RPvZZnPvG0yIN6Qt4QFsvKE0xPOvFEI1J9vvN11EjxrtK28b5WxP/0V/KDuDH5UEQendIkb8z6mHAxItVnR7bHDQFDwBBwzhmRsm6QEoH6aJnSFFyDTWDWwvpM7KzHokddnyWPI+ZmCEg4lLO+TBF5xMupdaJ+kBpdoLOovDVdjkuW+MWX8Q0rCtN4fZcvXy4CIXliUqrlid+X1//ksf6RDaKVMh+pNG/ekffWUSPF+4qJqvYjPebVf+LpsFAvedKX4r8V8T/1Yacf33XX3eYjdWS3tCuGgCFgCGRCwIhUJthG7aGGI5AB+6BuSqQQIore0H61gk0UnVsr/SqDTTDDjn9JWZtG7SszwAX+LJj3mWlff61cR40UpObqa64pPWpfFcEmLGpff/3XnjYEDAFDIIqAEakoGnaeiEDj8Ptuz85tbvPr70gAicSban6xnUgVq1WDSGHeV7bAXRWRGv51pHznbidSxfahmr9OfRWvrhopI1J9Nas9bAgYAobASCJgRGokmz1lpQ+Pu+2/eMItv26Fu+/RZxyzqEk7Jm1ch0gQ9vzg+/URNkeBSFW1IC+h79FIlakdQiN11plfKCn8ue/H7UQq5TtktzcRMI2UE7NfJltMI9XsFnZiCBgChsBAImBEaiCbreRCHx53r/xotVsy8zR33rwF7tJLL+24ExWK35fedLf7weY3I2SqWlJVHZEqr95VEanh10glEany2rXkt73w7EwjZUSq8E5mGRgChoAhUBICRqRKAnqgszk87rY+83hTI/Xss8+6TjtaqYfvvF4cqb90/d1iDliHMOjVEanyWr5fIkVgDPY0G3n2o5H6zcSEOMCnyZN7v/Od7zhCSJezIG8SkUpbYrtfERg2jRQmtQRy2PO/e2Tfu3ev/E/f7rQRiKYfjZTmSfCItOOr+Uh1ahW7bggYAoZAegSMSKXHbMSeaDh8pHZsf9X95IXXREDoDkDDje/Z5p578CYJS33zQy+4Xb8+mPpj3z2P9L9WR6TK01xkJVIIYxBgFivGfC3NRp5ZNFIQNkxAbx8bc2vWrEkdyESDTVRHpMpr1zTtMQj3DptGCgIFObnxxhtl531gwWj6dyeS0w+RIqgLC/ouW7ZMdhYA94QqrPWNSIXhZHcZAoaAIRCCgBGpEJRG+h4vMDIDivDLMWSDTKGZunjJKvfTV9/tKFCEpJXHPdURqTxKH5ZGFiJFexIqnYVBWWwW7VKaLatGikAcRDYkzwsuuCC1Jsw0UmlaqV73DptGinDlkBkICu8SQStYW63bpERWIsX7CokiD5Y6QKvFmmppAtsYkarX+2ClMQQMgcFGwIjUYLdfiaVPNwM/Mb5btFIQKXylJhrpns+7YtURqfLqnYVIYX7E+kgQExa3ZZY7zZZVI4Xgx1pQkCmEwbQmhaaRStNK9bp3cDVSvMu6J2NKP6Zfs/Btt+UAshIpciWoC7uSKhbXhcCFbkakQpGy+wwBQ8AQ6I2AEaneGNkdriHrq3ib/xBi0HBKpL74rze5Bzb9coSJVHndJwuRQjBE+MM8iQVJMU9Ks2XVSGGKRJ7MrGchUqaRStNK9bp3MDVSrbX0vFY+eRxkgWgmByArncz6aI1+iJS2JuXQxXVZ4Dd0MyIVipTdZwgYAoZAbwSMSPXGaOTv0HWkxEfq4ITMhPIR77Rz//43n3KrL5njTj9zkRCpqkE0jVT3FoDUMIuehUhl8ZGiNJhEQd5YDLWbY35SyU0jlYTKYFwbRI0UvniY0vF+QER27do1CXaLUKk2CjNZCFW3LQ8itW3bNjGLZTKiVZ5uufrfjEj1xsjuMAQMAUMgFAEjUqFIjfB9ExOtdaQwA0MI6LY/98PvubEbvu7mTj/WnbrwdvfyzgOVo1cdkSqv6tk0Ur58RBqD1GQx7csatU+JlGikukQ4S0LQNFJJqAzGtUHUSEFaCCDBZAOEKom4QJ7OPvtst2jRop5BedITqRZho5V37twp7yraL8a2NJsRqTRo2b2GgCFgCHRHwIhUd3zsVxA4PO62PPmwm/cPJ7gpU6a4qVOndt255+N/8mH3kT+f5i6/bYPbf3BihE372gWgIjtUNiLlTZYQzBASIUWk482XepeWe7NppBpi2keeaKQgVaF5UirTSPVum7reMYgaKTV/5T1h0oH/WQKCBXXpt5iqEvXypBNPDPJXSkOkyGvTzzY5zPfIG+0xEx4EacHXkLx5D0M3I1KhSNl9hoAhYAj0RsCIVG+MRvyOhhCpXz3zX2728Z9wv/WBD7gPfvB3u+5/+Pu/JySKdaSI2Fd1oAka0DRSyd0YAQxhDMFs9uzZEr0PvwsfVrw3CeT5LBopQkMzwz9nzhyJcEYYdGb9QzfTSIUiVb/7BlEjFUcRckO/x9SPSQCCP6BZRRvVLciEppOGSLFGFZMVmAyyTAGBJSBs/M87BIEjPcoUshmRCkHJ7jEEDAFDIAwBI1JhOI3wXZ5IbX92nVsy8zR33rwFEt2NCG9J+4IFC9yll17qlq5cLyZ9rY97b6G8SJCrI1Ll1RtSw5pMaATXr18fBCez6RApBDLdISkQqRANEXlm0UhBpBAANU8infXyK4lWyDRSUTQG63wQNVJxhOn3hDxn5xxTP8KSd1s7KppGGiLFGMr9EChIGtopfW/0SDlaY200pyPPjUgdiYldMQQMAUMgKwJGpLIiNzLPeSK1ZcsWt2LVvW7z6++I0ICJC8JDfOf67r173P7x8SBBvCwYqyNSZdXQiUCXlkhROgI9YB4U3UNIFM8iRGbRSPGc5ocAmNY8yTRS5fWrvHMaBo0UmPCO6HvCkfdI/++FWRoiRfQ/0uWd0XN9Z9CG8e6kCdZiRKpX69jvhoAhYAiEI2BEKhyrEb2z4YjCd3DfDiFRaT7YdQKsOiJVb41Uv22EcJdFI9VvvqaR6hfB6p4fBo1Uv+ilI1L95tb+vBGpdjzsP0PAEDAE+kHAiFQ/6I3Es54IhM60tiApj0C08ux8Vh2R6lymvH+B1GTRSPVTDvLMopHqJ0+eNY1UvwhW9/ywaKT6QdCIVD/o2bOGgCFgCNQHASNS9WkLK0mBCFRHpMojlFURKdNIFdhxhzBp00jlsyBv1q5hGqmsyNlzhoAhYAgciYARqSMxsStDiEB1RKo8MKsiUqaRKq+NhyEn00i1iBRR+MrejEiVjbjlZwgYAsOMgBGpYW5dq1sTAYjUrFmzHKG9i96I3EUoZKLhlbc1Mgeb6KeMatrHmjYhYZ/7ycs/6zV85Zr2+Zw3btwo4dp9u5anaewfs3qlUFeN1LXXXjsZ0KF4vDDtYzHdKogU0f9YdoAAQrYZAoaAIWAI9IeAEan+8LOnBwQB1UixzgthiovcCes9c+ZMWZuJMORF5hVPm/odddRRDqEw/ltR/7Og7sknnyyL5BaVRzxdQuyzlg5BJ8rAmDwwYZwxY0bJBHlAXrAUxayjRoqJANZlivezov5Hi8sYQfjyovLolC6LYDOptGXriylazW41BAwBQ8AQSELAiFQSKnatTwTqN1uPlgjBhTWWmI09bfbs3HcWtNUFZiEzCPpF5RUvP3mfdtppburUqY4FkadNmyYL7MbvK+L/Tx59jJA3SEYZ9SUP6gnGZeUJvmDKXq6msc9XsYaP11EjBYmiH/MOFfGORNOkLzE26BjB//L+FjAmRfPlnHx4d5j4YHLJNkPAEDAEDIH+EDAi1R9+9vQkAr8ZP+D279jtDu17L3gtlTLBU9M+ZoJZ0LLIHdOZs88+W7QlmO4UmVc0bQR86odAyEz3s88+W0reX7vkEhHQHn300VLyo85LllwvJGr9IxtKqSdYsmjwzFmzZBHWMvvusOVVV40Upna8Q9F3qohz+hKaVMYIomySRxn5kg95L1u2TN5XM+0btjfL6mMIGAJVIGBEqgrUhyxPQqO/9eRWt/Eb33bPr97gWCyybpsSKRyti962bdvmFixYIEJL0XnF06d+aN0gNWVstD2CGT5hLMZc1oYAiiBaZp74taANe+qpp8qq5lDmU0eNFOapmG6mX+YhWxNBnBgjqjCvw+TvjDPOMB+pbE1nTxkChoAh0IaAEak2OOyfLAgQcGDL2h+6O0+62P3Pv42JVipLOkU+oz5SPthEsaaH1QSbcJUFmxj+8Oe+ZxJsAtMohGDbsiNQR40UROrqa64pNdgEkw8///nm7EBmfNKi9mUEzh4zBAwBQyABASNSCaDYpXQIKJG6Y/oC9/0mkSqWrKQroRN/AMyyyidS5eEwSuHPMY1iVv2tt95K2xUy399OpMpr18wFrumDddVIVUGkqojaZ0Sqpi+GFcsQMAQGEgEjUgPZbPUqtBIp00j5dhksjVR/hIC2r2IdqXKJlMeonUjV6x0cpNLUVSNVdvjzbBqp/t5X+okRqUF6W6yshoAhUHcEjEjVvYUGoHxRIjV8GqmGGx8fd7+ZmAhuiXYi1b/gE5pxdo2Ur+Oe/93jDhw44JwLLzN5YtpH+Oi3f/Wr0KL2fR9E6qwzv1CSRiqJSIVj1HdlhyyBYdRI8R4wToT6WOFvl5VIkQ/vqu579+6VvEPfWyNSQ/ZCWXUMAUOgUgSMSFUK/3BkHiVSw+EjhZDckKAZ+MOsXLnSvfLKK8EEo51IldfGWYkUwTGo44033uhYAwt/slCBkPuG30cqiUiV167DllNdNVJZTfv27/+1rGXGItG7du0Kaq6sRAoSRSAZolaiQWNfvHixI1KonwTpnb0Rqd4Y2R2GgCFgCIQiYEQqFCm7ryMCUSI1LBopZnshF2ha0Hz4KHhhWoh2IhX2TEdwU/yQhUghBEKEWOAWAQthEsf7UCd48jSNVIpGslvdMGmkmISAzDBGMFbw7odsWYkUEVEJYY6vJzvLHLCWGu+tEakQ5O0eQ8AQMATyRcCIVL54jmRqUSI1HBop53a8846s9YKwcsUVV/RBpMrrElmIFJo2wjAj2LFxZLFQZtdDzBlNI1Ve+w5LTsNEpNDeosWF0LAOVWg486xEKt4HCMV//vnnyyRI/LdO/5tGqhMydt0QMAQMgfQIGJFKj5k9EUMgSqSGRSPFzC8zvPj9MOPMwq+hPgiDpJFCEGNBXW+66KMbsj4TgmHIDLdppGIvg/17BAKNw++7997d597btUfCi8eJlC7mjdla6Dt2RCaZLnhtMdrnrOHPKTPvCYFIyiZSjFFog/G1QjMWuhmRCkXK7jMEDAFDoDcCRqR6Y2R39EAgSqSGRSOlAh3htTGbyU6keoCX489ZNFIIgAsXLmwSKQgVM9xE4sPsr9dmGqleCNnvECXWmXv6P+93u1/d7t7e9JJbM3exe/zKFW7Pa2+7lx96Shbz3vH8a8G+efmgmo5I8X4x8bB8+XJ3+9iYi4Yux/S3bCLFu8oC0ZQlzSLoRqTy6T2WiiFgCBgCIGBEyvpB3whEidSwaKQUFIgUGikEpdAADIOkkSKYRpRIbdmyRYQzzJW8hkCRSD7S9uYjlYyNXfUIIOQ/v3qDWzXzMiFTrz32M3fvOdfK4t2c3/+V62SHYE00yvMp1MmSUI0Uff3BBx8UU99FixZNmvv6OjI+YCKLqZ/futcjrWkfebNrmcEUQof2WLXJkxn3PBiR6gmR3WAIGAKGQDACRqSCobIbOyHAB54Z5+FaR6ohPkKYzIhGav36yVnf7gISGLUTqU6o5X+ddlizZo2bMmWKRBELyQEhjJn09evXC3FCUDz55JMlCpgX3LqnYhqp7vjYr04IAJH6IE/3ffF698S31ohGat2//LtopdBOoa3av2tv8GRFPrim00hBYjDjIzIfuzd99eOEaqQI0hIy4ZKGSOGryIQH76hGBeS9JbgFJrghEx5RvIxIRdGwc0PAEDAE+kPAiFR/+NnTzgtKSqSGRSOFWRvCDpqZc885T2aho4KMzgwndYB2ItWbeCWlkeVaFiKlUfvws0Aow1+K2XY0cSEbeZpGKgSp0b7n0L73hEChlYI43TF9gWio+B9CtfOl1ysAKC2ROrKIO3fuFC0Vky2nnXaaW7ZsmZCeXqZ2aYgU7yimtoxDROxj7GHCg/8Za9JuRqTSImb3GwKGgCHQGQEjUp2xsV8CEUCYViI1LD5SCC/MMo+NjQmZglAhgCA4+a0zQWonUoEg5nBbFiJFtkQoZB0a6shRZ71DimQaqRCU7B76CaZ7mPHd9tfz3X98+gLZ0WJv/u4PgiJE5o9i/0SKd4dxgXeHHXM7/A7zJFKkhW8W5InxBywhVCH5JGFmRCoJFbtmCBgChkA2BIxIZcPNnoogECVSw6KRQlhBgMFshqPu3TRRCkk7kepMuPT+vI5ZiRT58yx15Zhm437TSKVBbHTvRSulvlJKpB659BYJQMH7Vv7WP5HScULHBzlGfJk61SmNRoo0yMe/m77MnGfFzIhUp1ax64aAIWAIpEfAiFR6zOyJGAJ81IdNIxWrYqp/24lUqkf7upl2SOsj1VeGkwIeRIpIf4SKL2tbtWqVO+OMM4JNEPsrlxde0QDMnj1bTLf6S290nyZqH5MtaKUw8WPcgHyETFDkj1o7kSKojCcr+ecUTzEtkYo/38//RqT6Qc+eNQQMAUOgHQEjUu142H8ZEIgTKdaL8ZsXVDIkmfsjRNOaOWuWY4HdooW2KokU9UsTbKJfoHGEN41UvyiOzvOMFW89uVX8ogg6sX/H7gor306k8HMyIlVhc1jWhoAhYAgMIAJGpAaw0epQZMxKMNVhZ0Y5rpFCIGERzrIEk16YQKRmlUikiIRHpK3ytoZgXbZGCiKFIzwRxFoaqeIJdLkaKd+KppHqtzfTLxoSnY+w56wbRf+pbqueSEXXoioLB9VIEWHQNkPAEDAEDIH+EDAi1R9+I/s0BAphCJ8HIm5FiRQaKWadcSJnwc06bKqRgmh4jZQX6vI/d7KuSzuRKiqv9nQhrUcSqfZ78q2vE0EYInXhhRdK0Arf1kXmSdpONItnnfmFiGlfkXn6WrUTKV8O/4v9TYNA1K/I98c0T+d5r29DXUeqTNM+gkcQKbMKMkNAGRbyrSLvPFvP0jIEDAFDoA4IGJGqQysMYBnQNul6MD+5814hVETgwv8BgkVIYyJ0EamrDpsQqZkzReDXCFtFHG8fG5MFfE868UQJmU4UryLy6ZQmwtlRRx0li+xSlk735XFdIxoilE2bNk00U0XnSbnJF+KGCSMkrug8yY92vPTSS2WNrXI1jXV4e4ooQ5T4FpF+eJoQKTSqtC/rM7F2XNE7ZAa/QpZUKDqvePq8Q/j6GZEK7yN2pyFgCBgCnRAwItUJGbveFQHM+V5+6ClxGGehzY3f+LYsyAuB4pz1YTjufUPDhXdNrvAfWReJ9ZFmzJgh672w5gvCRBFHTAjJhyPpR/OInueVv+bBcebMmSLsc4xezyuveDrkQV21vvo71/U876PWU/MsOi/SZyc/iCo+cLYNDwIsdYA2ira98cYbS9mvuOIKIVL4ZbH2VFn5kheEkR2CZZshYAgYAoZAfwgYkeoPv5F+GkdxtFK6yKZG4iIaF9ooNFM+Ilf1MFEOBIdNP9ska7BwzHtnbRdNH98H/T/vfLqlR56ad1n5k4/u3cqW52/ReuaZbre0yBMSRZh424YHAUwNdWxA21jGrv2sjLyS8kDz5vuxmagOT0+2mhgChkAVCBiRqgL1IckTnxxM91gLRhfZ5AixwtwP8z/bDAFDwBAwBAwBQ8AQMAQMgWFEwIjUMLZqaXVqNCP23TF9gWORTYgUflKsF1PPLeqbYef5Bp8Ydjzr2aOtVHkgYJqZPFC0NAwBQ8AQGDUEjEiNWosXUF9IE6Z8ECkCTuA7VW1Y4wIqaUkaAoaAIWAI/P/27j+0qjKO4zjUXxkVRlLQH6JiRfmHUVkOrIEi/bA0KptDhpqFI2ExrMgKpCQhSaO/DMIVKUozTCjLGVJZokWu/LFEyrJ0uq0lc4473Xa/8XnOnrt7/cEuw7N77nPfFy7bPPeee87ruUfO9/k+z/dBAAEEEEAgS4BAKguDX4cmoLH2KnWuuVEa5peUAhNDOxvehQACCCCAAAIIIIDA4AIEUoMb8YpBBNJ9vS54UiZK60edS3UN8g42F16AoUyFbwOOAAEEEEAAAQSKWYBAqphbL0HHrqF8WqRXT1XB4pFsgXRvj3V0dFhbW5tbSLeltTXnp/69k+p0yW5Eji6xAirE09J8xLR+3YmTJ627N5o/6DqdOjrcelV+mx8GrW1dXV2ugqCq6un6jP4vpdMjsQ3NgSGAQMkLEEiV/FfgcgFENwpR8YLLtU/2E5dA6tRR2/bxSrd2jtbPqampyTz1d21tra1es8mV+45uAuM6EvaLQHgCp5ubbO1b1aaFuZ95ZY39064sfdp6Uv/ZN5s/sCdmPuoWsX5uyQr7+ci/1pNOW09Pyhob6m3R/LlWVVVl67493B+AhefDGSGAAAKhCBBIhdKSnAcCeQropq3jyC57bc79NmLENZd83nDdtTa14gXb2vi3u9HLc/e8DIGSF+g+3Z+OansAAAefSURBVOICqdEjr7Zb73vMXUNCUYC1Yt50d81decUVNvq2cnvv0z3W2d3jhkRvXf28+fds+f4Q113Jf5MAQACBpAsQSCW9hTg+BGIQ8IGUbuZG3jjGnpw92+bPW+CelZWV9sDEcaZAStteemeDtZ/pjuEo2CUCIQqkzfpSLuN77y03ZYIldWA0H95tc6ZOynRe6Pp6duUmO3H6rClL/ObiSnfdqQPj97YuhkmH+PXgnBBAICgBAqmgmpOTQSA/AR9IKSNVNnOx6zHXXI7jx4+7uR0a9qdgSttnVi93N3UM28zPllchoGvlj10bbdaUCZnOCGWd9v3whbuuFECVlZVlgqamv1pdlrhm1mRT54aGAyq4yn1kD5/2v+e+gr8QQAABBIZXgEBqeL35NAQSIXB+IPVd0zHr7DzjnqfaovlTPpB6fMmHbo6HJsPzQACB/AQ0jO/lqkdcsKS5UMowqYNCQ/cmllfbq2+vsvE3j7I7yitcR4aCrGl3jXeB1+r12y+YH6VqqL/t2WbrNnxmCryU4eKBAAIIIFBYAQKpwvrz6QgURMAHUn6exoLqWlu2bJl7Ll261PWk64bv+jF32+trd7g5HGSkCtJUfGgRCqjanp8npSGyyvr+dOBPN29KfyvjtLNhi8tO6RpT4KQga9Koq9w1p0IT2Q9V2VQQVf3UNDdUUK9XhosHAggggEBhBQikCuvPpyNQEIHOYz+6YhMKpPTUzZ2G8emn/13Dj3TDp6piUTaKHvCCNBYfWpQCyiApOPJZp83bGlyGyndOqDz6/Kl3Zob+1b34tMtWKUOlDHGm46IvZc2/Ru/VNerfTyBVlF8LDhoBBAITIJAKrEE5HQTyEfAZKd2YKWAqLy93T2WhFFip0piGHmkIkdbEydzU5bNzXoNAyQtEc5g0T0pDZBX8aEmBhyZPyAzlU8ZKwZM6LqbPqLBFMyZn5iRG5dLNFaD4fP1HrkCFXqdr02ewokCKzo2S/6oBgAACBRUgkCooPx+OQGEEsgMp9YCr1PKhvTszVcN8NkrzOpgbVZg24lOLX0DzpBQgKQAaO3ase/riLVo3avfG5abKftqmQElBUnaVTA3n8wUrpj34sMtu5WakCKSK/1vCGSCAQDELEEgVc+tx7AgMUSA7kFKpZQ3f08NXGruw53uIH8TbEChJgSgjpQV4Vy2e5QIpXVPqoMgESn0pN+9p9pQJLhOl7VpXat3W3f2FJqLKf4sWLnCLY2shX2W0yEiV5BeKk0YAgYQKEEgltGE4LATiFPCBlG7eNBFegZSqgPkJ8uol17bcBXnp/Y6zTdh3WAIuk9u/npQfMqsgSAvwKhulh1+gV9eavxa1AHY0lDZtqqB58GCTW8dNGWNlp8hIhfU94WwQQKC4BQikirv9OHoEhiTgAynNkfKBlN+RFg1dMW+6G2qUPcSPeVJeiJ8I5CMQZaUaG+pNWSddS5oLFRWS0PvTpoyVClLcc/s4N7zPl0nXNlX+i0qcRx0YKjjhA6mBqn10buTTErwGAQQQiEuAQCouWfaLQIIFLhZIZdal6UvZvi/XuGFE6iVX4Yn3vzpg586ev0Bogk+QQ0MgIQKpU0ddqfO6ujrb/vWO/oV2oyBLWSt1XKigRH39JlcivTOlbFW0PTqF6Hc/X4qMVEIalsNAAAEEzIxAiq8BAiUooCFFde++YRUVFa46n4pKDDyiIUV++9yF1W6dG8otDwjxGwL5CiizpHWgzvX0ZOY+nf9edWJoe6YzI+cFUSBFRioHhT8QQACBRAgQSCWiGTgIBIZXQD3hXV1d1tbW5uZfdPdm94Cbq9SndXDa29vds7PzzCVu8ob3uPk0BEpPILo2/RwpDRFkkezS+xZwxgggkEwBAqlktgtHhUDMArmB08U/TK/hgQAChRVIu06Mk3s/ycyRIpAqbIvw6QgggIAXIJDyEvxEAAEEEEAgcQJRp4fmUmlNKs1ZHKj8R2dH4pqLA0IAgZISIJAqqebmZBFAAAEEik1Ac6dU4e/A/v3W+EujtbS2MtS22BqR40UAgSAFCKSCbFZOCgEEEEAAAQQQQAABBOIUIJCKU5d9I4AAAggggAACCCCAQJACBFJBNisnhQACCCCAAAIIIIAAAnEKEEjFqcu+EUAAAQQQQAABBBBAIEgBAqkgm5WTQgABBBBAAAEEEEAAgTgFCKTi1GXfCCCAAAIIIIAAAgggEKQAgVSQzcpJIYAAAggggAACCCCAQJwCBFJx6rJvBBBAAAEEEEAAAQQQCFKAQCrIZuWkEEAAAQQQQAABBBBAIE4BAqk4ddk3AggggAACCCCAAAIIBClAIBVks3JSCCCAAAIIIIAAAgggEKcAgVScuuwbAQQQQAABBBBAAAEEghQgkAqyWTkpBBBAAAEEEEAAAQQQiFOAQCpOXfaNAAIIIIAAAggggAACQQoQSAXZrJwUAggggAACCCCAAAIIxClAIBWnLvtGAAEEEEAAAQQQQACBIAUIpIJsVk4KAQQQQAABBBBAAAEE4hQgkIpTl30jgAACCCCAAAIIIIBAkAIEUkE2KyeFAAIIIIAAAggggAACcQoQSMWpy74RQAABBBBAAAEEEEAgSIH/AXPpWfKDPDwZAAAAAElFTkSuQmCC)![image.png](data:image/png;base64,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)"
      ]
    },
    {
      "cell_type": "markdown",
      "metadata": {
        "id": "1JDeXOr86fOF",
        "colab_type": "text"
      },
      "source": [
        "MF 모델은 2006년 Netflix에서 백만달러의 상금을 걸고 개최한 자사 추천시스템의 성능을 10% 이상 향상시키는 챌린지를 계기로 알려지게 되었습니다. 기본 아이디어는 아래 그림과 같습니다. (m,n) 사이즈의 행렬 R을 (m,k) 사이즈의 행렬 P와 (k,n) 사이즈의 행렬 Q로 분해한다면 R이란 그저 P와 Q의 행렬곱으로 표현 가능할 수 있다는 간단한 아이디어입니다. 대체로 k는 m이나 n보다 훨씬 작은 값이기 때문에 계산량 측면으로도 훨씬 유리해집니다. 하지만 아이디어의 단순함에도 불구하고 MF 모델은 성능이 준수하고 Scalability가 좋아서 많이 사용되는 모델입니다.\n",
        "\n",
        "---"
      ]
    },
    {
      "cell_type": "markdown",
      "metadata": {
        "id": "UkCvj-IzDozY",
        "colab_type": "text"
      },
      "source": [
        "첫번째 사용자의 특성(Feature) 벡터가 됩니다. 같은 방식으로 Q 행렬의 첫번째 벡터 는 아이템 특성 벡터가 되겠지요. MF 모델은 이 두 벡터를 내적해서 얻어지는 값이 정의되는 사용자의 영화 선호도로 보는 모델입니다.\n",
        "* 모델 \n",
        "> 모델의 목표는 모든 유저와 아이템에 대해 k-dimension의 벡터를 잘 만드는 것입니다.\n",
        "벡터를 잘 만드는 기준은 유저i의 벡터와 아이템j의 벡터를 내적했을 때 유저i가 아이템j에 대해 평가한 수치와 비슷한지 입니다.\n",
        "\n",
        "    > 사용할 모델은 밑에 URL에서 사용한 논문 모델을 사용함\n",
        "http://yifanhu.net/PUB/cf.pdf"
      ]
    },
    {
      "cell_type": "markdown",
      "metadata": {
        "id": "ytFM288d6P8D",
        "colab_type": "text"
      },
      "source": [
        "CSR\n",
        "* https://lovit.github.io/nlp/machine%20learning/2018/04/09/sparse_mtarix_handling/#csr-matrix\n",
        "* https://stackoverflow.com/questions/53254104/cant-understand-scipy-sparse-csr-matrix-example/62118005#62118005"
      ]
    },
    {
      "cell_type": "code",
      "metadata": {
        "id": "Dn0IGVAHeBuH",
        "colab_type": "code",
        "colab": {
          "base_uri": "https://localhost:8080/",
          "height": 53
        },
        "outputId": "62bfa0a7-634c-4e36-b804-7b6160ab94c1"
      },
      "source": [
        "# 실습 위에 설명보고 이해해서 만들어보기\n",
        "from scipy.sparse import csr_matrix\n",
        "\n",
        "num_user = data['user_id'].nunique()\n",
        "num_artist = data['artist'].nunique()\n",
        "\n",
        "csr_data = csr_matrix((data.play, (data.user_id, data.artist)), shape= (num_user, num_artist))\n",
        "csr_data"
      ],
      "execution_count": 16,
      "outputs": [
        {
          "output_type": "execute_result",
          "data": {
            "text/plain": [
              "<358869x291347 sparse matrix of type '<class 'numpy.longlong'>'\n",
              "\twith 17535578 stored elements in Compressed Sparse Row format>"
            ]
          },
          "metadata": {
            "tags": []
          },
          "execution_count": 16
        }
      ]
    },
    {
      "cell_type": "code",
      "metadata": {
        "id": "F-rvsFNca00J",
        "colab_type": "code",
        "colab": {
          "base_uri": "https://localhost:8080/",
          "height": 272
        },
        "outputId": "da42aa8a-f99b-4903-e28d-4e5643fc3ab2"
      },
      "source": [
        "!pip install implicit"
      ],
      "execution_count": 18,
      "outputs": [
        {
          "output_type": "stream",
          "text": [
            "Collecting implicit\n",
            "\u001b[?25l  Downloading https://files.pythonhosted.org/packages/5a/d8/6b4f1374ffa2647b72ac76960c71b984c6f3238090359fb419d03827d87a/implicit-0.4.2.tar.gz (1.1MB)\n",
            "\u001b[K     |████████████████████████████████| 1.1MB 2.8MB/s \n",
            "\u001b[?25hRequirement already satisfied: numpy in /usr/local/lib/python3.6/dist-packages (from implicit) (1.18.5)\n",
            "Requirement already satisfied: scipy>=0.16 in /usr/local/lib/python3.6/dist-packages (from implicit) (1.4.1)\n",
            "Requirement already satisfied: tqdm>=4.27 in /usr/local/lib/python3.6/dist-packages (from implicit) (4.41.1)\n",
            "Building wheels for collected packages: implicit\n",
            "  Building wheel for implicit (setup.py) ... \u001b[?25l\u001b[?25hdone\n",
            "  Created wheel for implicit: filename=implicit-0.4.2-cp36-cp36m-linux_x86_64.whl size=3420132 sha256=033a02c8b47818bb4f4312a3f50d4d013d8c2c31c5b5114ec278fa13d38073c4\n",
            "  Stored in directory: /root/.cache/pip/wheels/1b/48/b1/1aebe3acc3afb5589e72d3e7c3ffc3f637dc4721c1a974dff7\n",
            "Successfully built implicit\n",
            "Installing collected packages: implicit\n",
            "Successfully installed implicit-0.4.2\n"
          ],
          "name": "stdout"
        }
      ]
    },
    {
      "cell_type": "code",
      "metadata": {
        "id": "RaU-rrE8nv6C",
        "colab_type": "code",
        "colab": {}
      },
      "source": [
        "import os\n",
        "from implicit.als import AlternatingLeastSquares\n",
        "import numpy as np\n",
        "\n",
        "# implicit 라이브러리에서 권장하고 있는 부분입니다. 학습 내용과는 무관합니다.\n",
        "os.environ['OPENBLAS_NUM_THREADS']='1'\n",
        "os.environ['KMP_DUPLICATE_LIB_OK']='True'\n",
        "os.environ['MKL_NUM_THREADS']='1'"
      ],
      "execution_count": 19,
      "outputs": []
    },
    {
      "cell_type": "code",
      "metadata": {
        "id": "8jYIsvqMn46h",
        "colab_type": "code",
        "colab": {}
      },
      "source": [
        "# Implicit AlternatingLeastSquares 모델의 선언\n",
        "als_model = AlternatingLeastSquares(factors=100, regularization=0.01, use_gpu=False, iterations=15, dtype=np.float32)\n",
        "# 1. factors : 유저와 아이템의 벡터를 몇 차원으로 할 것인지 2. regularization : 과적합을 방지하기 위해 정규화 값을 얼마나 사용할 것인지 3. use_gpu : GPU를 사용할 것인지 4. iterations : epochs와 같은 의미입니다."
      ],
      "execution_count": 20,
      "outputs": []
    },
    {
      "cell_type": "code",
      "metadata": {
        "id": "rTZlogdZo0T1",
        "colab_type": "code",
        "colab": {
          "base_uri": "https://localhost:8080/",
          "height": 53
        },
        "outputId": "b1935d6b-fcbd-440c-f131-30a03f9adec0"
      },
      "source": [
        "# als 모델은 input으로 (item X user 꼴의 matrix를 받기 때문에 Transpose해줍니다.)\n",
        "csr_data_transpose = csr_data.T\n",
        "csr_data_transpose"
      ],
      "execution_count": 21,
      "outputs": [
        {
          "output_type": "execute_result",
          "data": {
            "text/plain": [
              "<291347x358869 sparse matrix of type '<class 'numpy.longlong'>'\n",
              "\twith 17535578 stored elements in Compressed Sparse Column format>"
            ]
          },
          "metadata": {
            "tags": []
          },
          "execution_count": 21
        }
      ]
    },
    {
      "cell_type": "code",
      "metadata": {
        "id": "F5at-WRwpWO1",
        "colab_type": "code",
        "colab": {
          "base_uri": "https://localhost:8080/",
          "height": 67,
          "referenced_widgets": [
            "680525cfcd1a4f73af297ab91bae81a6",
            "c51da9dc33f34118ac51935810dc2345",
            "adb5808c82ec4b5e9e30c404ab40a091",
            "6462b2b9a8a0420eb0cdd08e20c7149e",
            "b75f758142404a1085311073b111a6ab",
            "de5e77f18bc1446d8f62f4362e42dd58",
            "572d99c9dcbf40c792e57c781127106f",
            "cfdb05dda69b444cb39583966373f613"
          ]
        },
        "outputId": "8d95fc44-4842-46ab-9d30-bafc0492daae"
      },
      "source": [
        "# 모델 훈련\n",
        "als_model.fit(csr_data_transpose)"
      ],
      "execution_count": 22,
      "outputs": [
        {
          "output_type": "display_data",
          "data": {
            "application/vnd.jupyter.widget-view+json": {
              "model_id": "680525cfcd1a4f73af297ab91bae81a6",
              "version_minor": 0,
              "version_major": 2
            },
            "text/plain": [
              "HBox(children=(FloatProgress(value=0.0, max=15.0), HTML(value='')))"
            ]
          },
          "metadata": {
            "tags": []
          }
        },
        {
          "output_type": "stream",
          "text": [
            "\n"
          ],
          "name": "stdout"
        }
      ]
    },
    {
      "cell_type": "code",
      "metadata": {
        "id": "-NQZDQnkpXB5",
        "colab_type": "code",
        "colab": {
          "base_uri": "https://localhost:8080/",
          "height": 289
        },
        "outputId": "eb175a6c-bf89-4eb8-a634-73c5685ad843"
      },
      "source": [
        "favorite_artist = 'coldplay'\n",
        "artist_id = artist_to_idx[favorite_artist]\n",
        "similar_artist = als_model.similar_items(artist_id, N=15)\n",
        "similar_artist"
      ],
      "execution_count": 24,
      "outputs": [
        {
          "output_type": "execute_result",
          "data": {
            "text/plain": [
              "[(62, 0.12896043),\n",
              " (277, 0.12749304),\n",
              " (5, 0.12654263),\n",
              " (28, 0.12622204),\n",
              " (217, 0.12534335),\n",
              " (473, 0.1249599),\n",
              " (247, 0.12477134),\n",
              " (490, 0.12407174),\n",
              " (418, 0.12389438),\n",
              " (694, 0.1231578),\n",
              " (910, 0.12315522),\n",
              " (1018, 0.12303142),\n",
              " (268, 0.122740954),\n",
              " (782, 0.12188661),\n",
              " (75, 0.121500716)]"
            ]
          },
          "metadata": {
            "tags": []
          },
          "execution_count": 24
        }
      ]
    },
    {
      "cell_type": "code",
      "metadata": {
        "id": "I4STPLAUd0_C",
        "colab_type": "code",
        "colab": {
          "base_uri": "https://localhost:8080/",
          "height": 289
        },
        "outputId": "f3052b53-257e-47c6-ee51-341c13186ddf"
      },
      "source": [
        "#artist_to_idx 를 뒤집어, index로부터 artist 이름을 얻는 dict를 생성합니다. \n",
        "idx_to_artist = {v:k for k,v in artist_to_idx.items()}\n",
        "[idx_to_artist[i[0]] for i in similar_artist]"
      ],
      "execution_count": 25,
      "outputs": [
        {
          "output_type": "execute_result",
          "data": {
            "text/plain": [
              "['coldplay',\n",
              " 'muse',\n",
              " 'red hot chili peppers',\n",
              " 'the killers',\n",
              " 'radiohead',\n",
              " 'placebo',\n",
              " 'the beatles',\n",
              " 'oasis',\n",
              " 'u2',\n",
              " 'foo fighters',\n",
              " 'nirvana',\n",
              " 'the smashing pumpkins',\n",
              " 'pink floyd',\n",
              " 'the white stripes',\n",
              " 'queen']"
            ]
          },
          "metadata": {
            "tags": []
          },
          "execution_count": 25
        }
      ]
    },
    {
      "cell_type": "code",
      "metadata": {
        "id": "-RwomVJzd5Zf",
        "colab_type": "code",
        "colab": {}
      },
      "source": [
        "def get_similar_artist(artist_name: str):\n",
        "    artist_id = artist_to_idx[artist_name]\n",
        "    similar_artist = als_model.similar_items(artist_id)\n",
        "    similar_artist = [idx_to_artist[i[0]] for i in similar_artist]\n",
        "    return similar_artist"
      ],
      "execution_count": 26,
      "outputs": []
    },
    {
      "cell_type": "code",
      "metadata": {
        "id": "vMr0KIeFd9BO",
        "colab_type": "code",
        "colab": {
          "base_uri": "https://localhost:8080/",
          "height": 198
        },
        "outputId": "b8b61b66-9798-48fc-cecd-c357fe4f3910"
      },
      "source": [
        "get_similar_artist('2pac')"
      ],
      "execution_count": 27,
      "outputs": [
        {
          "output_type": "execute_result",
          "data": {
            "text/plain": [
              "['2pac',\n",
              " 'dr. dre',\n",
              " 'notorious b.i.g.',\n",
              " 'the game',\n",
              " 'nas',\n",
              " 'snoop dogg',\n",
              " 'jay-z',\n",
              " '50 cent',\n",
              " 'ice cube',\n",
              " 'ludacris']"
            ]
          },
          "metadata": {
            "tags": []
          },
          "execution_count": 27
        }
      ]
    },
    {
      "cell_type": "code",
      "metadata": {
        "id": "bTZkpbfrd_HT",
        "colab_type": "code",
        "colab": {
          "base_uri": "https://localhost:8080/",
          "height": 198
        },
        "outputId": "4629a60a-33af-4ab1-a2cc-d1a0670ec1ac"
      },
      "source": [
        "get_similar_artist('lady gaga')"
      ],
      "execution_count": 28,
      "outputs": [
        {
          "output_type": "execute_result",
          "data": {
            "text/plain": [
              "['lady gaga',\n",
              " 'britney spears',\n",
              " 'rihanna',\n",
              " 'katy perry',\n",
              " 'beyoncé',\n",
              " 'the pussycat dolls',\n",
              " 'nelly furtado',\n",
              " 'christina aguilera',\n",
              " 'justin timberlake',\n",
              " 'kelly clarkson']"
            ]
          },
          "metadata": {
            "tags": []
          },
          "execution_count": 28
        }
      ]
    },
    {
      "cell_type": "code",
      "metadata": {
        "id": "jwkjamsMeFUb",
        "colab_type": "code",
        "colab": {
          "base_uri": "https://localhost:8080/",
          "height": 379
        },
        "outputId": "430a7135-ff62-49f4-bd33-55e4b92c2b47"
      },
      "source": [
        "user = user_to_idx['asdf']\n",
        "# recommend에서는 user*item CSR Matrix를 받습니다.\n",
        "artist_recommended = als_model.recommend(user, csr_data, N=20, filter_already_liked_items=True)\n",
        "artist_recommended"
      ],
      "execution_count": 30,
      "outputs": [
        {
          "output_type": "execute_result",
          "data": {
            "text/plain": [
              "[(369, 0.46335667),\n",
              " (350, 0.45632923),\n",
              " (550, 0.45364177),\n",
              " (274, 0.44239885),\n",
              " (355, 0.4333571),\n",
              " (1800, 0.42327702),\n",
              " (354, 0.42194822),\n",
              " (2249, 0.40887094),\n",
              " (627, 0.398629),\n",
              " (391, 0.39633358),\n",
              " (901, 0.38785094),\n",
              " (564, 0.37165034),\n",
              " (382, 0.36892253),\n",
              " (409, 0.368702),\n",
              " (618, 0.36863834),\n",
              " (724, 0.367508),\n",
              " (5555, 0.3607438),\n",
              " (434, 0.36014432),\n",
              " (358, 0.3547847),\n",
              " (944, 0.3526716)]"
            ]
          },
          "metadata": {
            "tags": []
          },
          "execution_count": 30
        }
      ]
    },
    {
      "cell_type": "code",
      "metadata": {
        "id": "1bMuLUjjeRh9",
        "colab_type": "code",
        "colab": {
          "base_uri": "https://localhost:8080/",
          "height": 379
        },
        "outputId": "c95de6ad-a082-4981-8452-0925883d6702"
      },
      "source": [
        "[idx_to_artist[i[0]] for i in artist_recommended]"
      ],
      "execution_count": 31,
      "outputs": [
        {
          "output_type": "execute_result",
          "data": {
            "text/plain": [
              "['justin timberlake',\n",
              " 'rihanna',\n",
              " 'britney spears',\n",
              " 'michael jackson',\n",
              " 'madonna',\n",
              " 'lady gaga',\n",
              " 'nelly furtado',\n",
              " 'katy perry',\n",
              " 'maroon 5',\n",
              " 'christina aguilera',\n",
              " 'pink',\n",
              " 'kanye west',\n",
              " 'mika',\n",
              " 'amy winehouse',\n",
              " 'the pussycat dolls',\n",
              " 'lily allen',\n",
              " 'timbaland',\n",
              " 'eminem',\n",
              " 'kelly clarkson',\n",
              " 'avril lavigne']"
            ]
          },
          "metadata": {
            "tags": []
          },
          "execution_count": 31
        }
      ]
    },
    {
      "cell_type": "code",
      "metadata": {
        "id": "KPPqwRYzeX9B",
        "colab_type": "code",
        "colab": {}
      },
      "source": [
        "rihanna = artist_to_idx['rihanna']\n",
        "explain = als_model.explain(user, csr_data, itemid=rihanna)"
      ],
      "execution_count": 33,
      "outputs": []
    },
    {
      "cell_type": "code",
      "metadata": {
        "id": "H40FgnF6eeBn",
        "colab_type": "code",
        "colab": {
          "base_uri": "https://localhost:8080/",
          "height": 107
        },
        "outputId": "c82dce6a-80f5-4404-c5a3-948ca3b9e130"
      },
      "source": [
        "[(idx_to_artist[i[0]], i[1]) for i in explain[1]]"
      ],
      "execution_count": 34,
      "outputs": [
        {
          "output_type": "execute_result",
          "data": {
            "text/plain": [
              "[('beyoncé', 0.22777998754259854),\n",
              " ('black eyed peas', 0.12814492783623624),\n",
              " ('jason mraz', 0.05616679703758682),\n",
              " ('coldplay', 0.04588250489744601),\n",
              " ('maroon5', -0.00012316319740038816)]"
            ]
          },
          "metadata": {
            "tags": []
          },
          "execution_count": 34
        }
      ]
    },
    {
      "cell_type": "markdown",
      "metadata": {
        "id": "ioHP-Ouce4h9",
        "colab_type": "text"
      },
      "source": [
        "# Movielens"
      ]
    },
    {
      "cell_type": "code",
      "metadata": {
        "id": "f4dLnBewe4DC",
        "colab_type": "code",
        "colab": {
          "base_uri": "https://localhost:8080/",
          "height": 216
        },
        "outputId": "6189481f-b536-42a6-e677-3bd9ac481393"
      },
      "source": [
        "! wget http://files.grouplens.org/datasets/movielens/ml-1m.zip"
      ],
      "execution_count": 35,
      "outputs": [
        {
          "output_type": "stream",
          "text": [
            "--2020-08-20 06:08:48--  http://files.grouplens.org/datasets/movielens/ml-1m.zip\n",
            "Resolving files.grouplens.org (files.grouplens.org)... 128.101.65.152\n",
            "Connecting to files.grouplens.org (files.grouplens.org)|128.101.65.152|:80... connected.\n",
            "HTTP request sent, awaiting response... 200 OK\n",
            "Length: 5917549 (5.6M) [application/zip]\n",
            "Saving to: ‘ml-1m.zip’\n",
            "\n",
            "ml-1m.zip           100%[===================>]   5.64M  4.22MB/s    in 1.3s    \n",
            "\n",
            "2020-08-20 06:08:50 (4.22 MB/s) - ‘ml-1m.zip’ saved [5917549/5917549]\n",
            "\n"
          ],
          "name": "stdout"
        }
      ]
    },
    {
      "cell_type": "code",
      "metadata": {
        "id": "GTJ1HRoge-p9",
        "colab_type": "code",
        "colab": {}
      },
      "source": [
        "import zipfile\n",
        "\n",
        "dst = '/content/movie'\n",
        "dst_file = '/content/ml-1m.zip'\n",
        "\n",
        "if not os.path.exists(dst):\n",
        "    os.makedirs(dst)\n",
        "\n",
        "\n",
        "with zipfile.ZipFile(dst_file,mode='r') as file:\n",
        "    file.extractall(dst)    "
      ],
      "execution_count": 41,
      "outputs": []
    },
    {
      "cell_type": "code",
      "metadata": {
        "id": "sTNHMrJYfJcG",
        "colab_type": "code",
        "colab": {
          "base_uri": "https://localhost:8080/",
          "height": 144
        },
        "outputId": "74fd4771-ff1a-48a5-9b91-faf8ee37e768"
      },
      "source": [
        "rating_file_path = '/content/movie/ml-1m/ratings.dat'\n",
        "ratings_cols = ['user_id', 'movie_id', 'rating', 'timestamp']\n",
        "ratings = pd.read_csv(rating_file_path, sep='::', names=ratings_cols, engine='python')\n",
        "orginal_data_size = len(ratings)\n",
        "print(ratings.head())\n",
        "print(orginal_data_size)"
      ],
      "execution_count": 174,
      "outputs": [
        {
          "output_type": "stream",
          "text": [
            "   user_id  movie_id  rating  timestamp\n",
            "0        1      1193       5  978300760\n",
            "1        1       661       3  978302109\n",
            "2        1       914       3  978301968\n",
            "3        1      3408       4  978300275\n",
            "4        1      2355       5  978824291\n",
            "1000209\n"
          ],
          "name": "stdout"
        }
      ]
    },
    {
      "cell_type": "code",
      "metadata": {
        "id": "0iLliz_rfxfj",
        "colab_type": "code",
        "colab": {
          "base_uri": "https://localhost:8080/",
          "height": 53
        },
        "outputId": "154d6eee-0dc6-4a01-ca74-94aa37b13c09"
      },
      "source": [
        "ratings = ratings[ratings['rating']>=3]\n",
        "filtered_data_size = len(ratings)\n",
        "\n",
        "print(f'orginal_data_size: {orginal_data_size}, filtered_data_size: {filtered_data_size}')\n",
        "print(f'Ratio of Remaining Data is {filtered_data_size / orginal_data_size:.2%}')"
      ],
      "execution_count": 176,
      "outputs": [
        {
          "output_type": "stream",
          "text": [
            "orginal_data_size: 1000209, filtered_data_size: 836478\n",
            "Ratio of Remaining Data is 83.63%\n"
          ],
          "name": "stdout"
        }
      ]
    },
    {
      "cell_type": "code",
      "metadata": {
        "id": "RO1qMvgFf0db",
        "colab_type": "code",
        "colab": {
          "base_uri": "https://localhost:8080/",
          "height": 203
        },
        "outputId": "4bd0a565-3825-4dd8-8e81-b317d07c0942"
      },
      "source": [
        "ratings.rename(columns={'rating':'star'}, inplace=True)\n",
        "ratings = pd.DataFrame(ratings)\n",
        "ratings.head()"
      ],
      "execution_count": 177,
      "outputs": [
        {
          "output_type": "execute_result",
          "data": {
            "text/html": [
              "<div>\n",
              "<style scoped>\n",
              "    .dataframe tbody tr th:only-of-type {\n",
              "        vertical-align: middle;\n",
              "    }\n",
              "\n",
              "    .dataframe tbody tr th {\n",
              "        vertical-align: top;\n",
              "    }\n",
              "\n",
              "    .dataframe thead th {\n",
              "        text-align: right;\n",
              "    }\n",
              "</style>\n",
              "<table border=\"1\" class=\"dataframe\">\n",
              "  <thead>\n",
              "    <tr style=\"text-align: right;\">\n",
              "      <th></th>\n",
              "      <th>user_id</th>\n",
              "      <th>movie_id</th>\n",
              "      <th>star</th>\n",
              "      <th>timestamp</th>\n",
              "    </tr>\n",
              "  </thead>\n",
              "  <tbody>\n",
              "    <tr>\n",
              "      <th>0</th>\n",
              "      <td>1</td>\n",
              "      <td>1193</td>\n",
              "      <td>5</td>\n",
              "      <td>978300760</td>\n",
              "    </tr>\n",
              "    <tr>\n",
              "      <th>1</th>\n",
              "      <td>1</td>\n",
              "      <td>661</td>\n",
              "      <td>3</td>\n",
              "      <td>978302109</td>\n",
              "    </tr>\n",
              "    <tr>\n",
              "      <th>2</th>\n",
              "      <td>1</td>\n",
              "      <td>914</td>\n",
              "      <td>3</td>\n",
              "      <td>978301968</td>\n",
              "    </tr>\n",
              "    <tr>\n",
              "      <th>3</th>\n",
              "      <td>1</td>\n",
              "      <td>3408</td>\n",
              "      <td>4</td>\n",
              "      <td>978300275</td>\n",
              "    </tr>\n",
              "    <tr>\n",
              "      <th>4</th>\n",
              "      <td>1</td>\n",
              "      <td>2355</td>\n",
              "      <td>5</td>\n",
              "      <td>978824291</td>\n",
              "    </tr>\n",
              "  </tbody>\n",
              "</table>\n",
              "</div>"
            ],
            "text/plain": [
              "   user_id  movie_id  star  timestamp\n",
              "0        1      1193     5  978300760\n",
              "1        1       661     3  978302109\n",
              "2        1       914     3  978301968\n",
              "3        1      3408     4  978300275\n",
              "4        1      2355     5  978824291"
            ]
          },
          "metadata": {
            "tags": []
          },
          "execution_count": 177
        }
      ]
    },
    {
      "cell_type": "code",
      "metadata": {
        "id": "hkECgZHhf40t",
        "colab_type": "code",
        "colab": {
          "base_uri": "https://localhost:8080/",
          "height": 203
        },
        "outputId": "c44dbdac-2cbc-4e5b-bb38-b491620d48f0"
      },
      "source": [
        "# 영화 제목을 보기 위해 메타 데이터를 읽어옵니다.\n",
        "movie_file_path = '/content/movie/ml-1m/movies.dat'\n",
        "cols = ['movie_id', 'title', 'genre'] \n",
        "movies = pd.read_csv(movie_file_path, sep='::', names=cols, engine='python')\n",
        "movies.head()"
      ],
      "execution_count": 178,
      "outputs": [
        {
          "output_type": "execute_result",
          "data": {
            "text/html": [
              "<div>\n",
              "<style scoped>\n",
              "    .dataframe tbody tr th:only-of-type {\n",
              "        vertical-align: middle;\n",
              "    }\n",
              "\n",
              "    .dataframe tbody tr th {\n",
              "        vertical-align: top;\n",
              "    }\n",
              "\n",
              "    .dataframe thead th {\n",
              "        text-align: right;\n",
              "    }\n",
              "</style>\n",
              "<table border=\"1\" class=\"dataframe\">\n",
              "  <thead>\n",
              "    <tr style=\"text-align: right;\">\n",
              "      <th></th>\n",
              "      <th>movie_id</th>\n",
              "      <th>title</th>\n",
              "      <th>genre</th>\n",
              "    </tr>\n",
              "  </thead>\n",
              "  <tbody>\n",
              "    <tr>\n",
              "      <th>0</th>\n",
              "      <td>1</td>\n",
              "      <td>Toy Story (1995)</td>\n",
              "      <td>Animation|Children's|Comedy</td>\n",
              "    </tr>\n",
              "    <tr>\n",
              "      <th>1</th>\n",
              "      <td>2</td>\n",
              "      <td>Jumanji (1995)</td>\n",
              "      <td>Adventure|Children's|Fantasy</td>\n",
              "    </tr>\n",
              "    <tr>\n",
              "      <th>2</th>\n",
              "      <td>3</td>\n",
              "      <td>Grumpier Old Men (1995)</td>\n",
              "      <td>Comedy|Romance</td>\n",
              "    </tr>\n",
              "    <tr>\n",
              "      <th>3</th>\n",
              "      <td>4</td>\n",
              "      <td>Waiting to Exhale (1995)</td>\n",
              "      <td>Comedy|Drama</td>\n",
              "    </tr>\n",
              "    <tr>\n",
              "      <th>4</th>\n",
              "      <td>5</td>\n",
              "      <td>Father of the Bride Part II (1995)</td>\n",
              "      <td>Comedy</td>\n",
              "    </tr>\n",
              "  </tbody>\n",
              "</table>\n",
              "</div>"
            ],
            "text/plain": [
              "   movie_id                               title                         genre\n",
              "0         1                    Toy Story (1995)   Animation|Children's|Comedy\n",
              "1         2                      Jumanji (1995)  Adventure|Children's|Fantasy\n",
              "2         3             Grumpier Old Men (1995)                Comedy|Romance\n",
              "3         4            Waiting to Exhale (1995)                  Comedy|Drama\n",
              "4         5  Father of the Bride Part II (1995)                        Comedy"
            ]
          },
          "metadata": {
            "tags": []
          },
          "execution_count": 178
        }
      ]
    },
    {
      "cell_type": "code",
      "metadata": {
        "id": "ok2_nuVCgFek",
        "colab_type": "code",
        "colab": {
          "base_uri": "https://localhost:8080/",
          "height": 203
        },
        "outputId": "024abe71-06d0-46d5-a885-8f8c43675596"
      },
      "source": [
        "# 사용자들을 보기 위해 메타 데이터를 읽어옵니다.\n",
        "users_file_path = '/content/movie/ml-1m/users.dat' \n",
        "cols = ['user_id','Gender','age','occupation','zip_code']\n",
        "users = pd.read_csv(users_file_path, sep='::',names=cols, engine='python')\n",
        "users.head()"
      ],
      "execution_count": 179,
      "outputs": [
        {
          "output_type": "execute_result",
          "data": {
            "text/html": [
              "<div>\n",
              "<style scoped>\n",
              "    .dataframe tbody tr th:only-of-type {\n",
              "        vertical-align: middle;\n",
              "    }\n",
              "\n",
              "    .dataframe tbody tr th {\n",
              "        vertical-align: top;\n",
              "    }\n",
              "\n",
              "    .dataframe thead th {\n",
              "        text-align: right;\n",
              "    }\n",
              "</style>\n",
              "<table border=\"1\" class=\"dataframe\">\n",
              "  <thead>\n",
              "    <tr style=\"text-align: right;\">\n",
              "      <th></th>\n",
              "      <th>user_id</th>\n",
              "      <th>Gender</th>\n",
              "      <th>age</th>\n",
              "      <th>occupation</th>\n",
              "      <th>zip_code</th>\n",
              "    </tr>\n",
              "  </thead>\n",
              "  <tbody>\n",
              "    <tr>\n",
              "      <th>0</th>\n",
              "      <td>1</td>\n",
              "      <td>F</td>\n",
              "      <td>1</td>\n",
              "      <td>10</td>\n",
              "      <td>48067</td>\n",
              "    </tr>\n",
              "    <tr>\n",
              "      <th>1</th>\n",
              "      <td>2</td>\n",
              "      <td>M</td>\n",
              "      <td>56</td>\n",
              "      <td>16</td>\n",
              "      <td>70072</td>\n",
              "    </tr>\n",
              "    <tr>\n",
              "      <th>2</th>\n",
              "      <td>3</td>\n",
              "      <td>M</td>\n",
              "      <td>25</td>\n",
              "      <td>15</td>\n",
              "      <td>55117</td>\n",
              "    </tr>\n",
              "    <tr>\n",
              "      <th>3</th>\n",
              "      <td>4</td>\n",
              "      <td>M</td>\n",
              "      <td>45</td>\n",
              "      <td>7</td>\n",
              "      <td>02460</td>\n",
              "    </tr>\n",
              "    <tr>\n",
              "      <th>4</th>\n",
              "      <td>5</td>\n",
              "      <td>M</td>\n",
              "      <td>25</td>\n",
              "      <td>20</td>\n",
              "      <td>55455</td>\n",
              "    </tr>\n",
              "  </tbody>\n",
              "</table>\n",
              "</div>"
            ],
            "text/plain": [
              "   user_id Gender  age  occupation zip_code\n",
              "0        1      F    1          10    48067\n",
              "1        2      M   56          16    70072\n",
              "2        3      M   25          15    55117\n",
              "3        4      M   45           7    02460\n",
              "4        5      M   25          20    55455"
            ]
          },
          "metadata": {
            "tags": []
          },
          "execution_count": 179
        }
      ]
    },
    {
      "cell_type": "code",
      "metadata": {
        "id": "v6tMn2q2gRnv",
        "colab_type": "code",
        "colab": {
          "base_uri": "https://localhost:8080/",
          "height": 203
        },
        "outputId": "279fc9bd-7c85-423c-cf40-48c345be9e08"
      },
      "source": [
        "# 데이터셋 merge 과정\n",
        "dataset = pd.merge(ratings, movies, how='left')\n",
        "dataset = pd.merge(dataset, users, how='left')\n",
        "dataset.head()"
      ],
      "execution_count": 180,
      "outputs": [
        {
          "output_type": "execute_result",
          "data": {
            "text/html": [
              "<div>\n",
              "<style scoped>\n",
              "    .dataframe tbody tr th:only-of-type {\n",
              "        vertical-align: middle;\n",
              "    }\n",
              "\n",
              "    .dataframe tbody tr th {\n",
              "        vertical-align: top;\n",
              "    }\n",
              "\n",
              "    .dataframe thead th {\n",
              "        text-align: right;\n",
              "    }\n",
              "</style>\n",
              "<table border=\"1\" class=\"dataframe\">\n",
              "  <thead>\n",
              "    <tr style=\"text-align: right;\">\n",
              "      <th></th>\n",
              "      <th>user_id</th>\n",
              "      <th>movie_id</th>\n",
              "      <th>star</th>\n",
              "      <th>timestamp</th>\n",
              "      <th>title</th>\n",
              "      <th>genre</th>\n",
              "      <th>Gender</th>\n",
              "      <th>age</th>\n",
              "      <th>occupation</th>\n",
              "      <th>zip_code</th>\n",
              "    </tr>\n",
              "  </thead>\n",
              "  <tbody>\n",
              "    <tr>\n",
              "      <th>0</th>\n",
              "      <td>1</td>\n",
              "      <td>1193</td>\n",
              "      <td>5</td>\n",
              "      <td>978300760</td>\n",
              "      <td>One Flew Over the Cuckoo's Nest (1975)</td>\n",
              "      <td>Drama</td>\n",
              "      <td>F</td>\n",
              "      <td>1</td>\n",
              "      <td>10</td>\n",
              "      <td>48067</td>\n",
              "    </tr>\n",
              "    <tr>\n",
              "      <th>1</th>\n",
              "      <td>1</td>\n",
              "      <td>661</td>\n",
              "      <td>3</td>\n",
              "      <td>978302109</td>\n",
              "      <td>James and the Giant Peach (1996)</td>\n",
              "      <td>Animation|Children's|Musical</td>\n",
              "      <td>F</td>\n",
              "      <td>1</td>\n",
              "      <td>10</td>\n",
              "      <td>48067</td>\n",
              "    </tr>\n",
              "    <tr>\n",
              "      <th>2</th>\n",
              "      <td>1</td>\n",
              "      <td>914</td>\n",
              "      <td>3</td>\n",
              "      <td>978301968</td>\n",
              "      <td>My Fair Lady (1964)</td>\n",
              "      <td>Musical|Romance</td>\n",
              "      <td>F</td>\n",
              "      <td>1</td>\n",
              "      <td>10</td>\n",
              "      <td>48067</td>\n",
              "    </tr>\n",
              "    <tr>\n",
              "      <th>3</th>\n",
              "      <td>1</td>\n",
              "      <td>3408</td>\n",
              "      <td>4</td>\n",
              "      <td>978300275</td>\n",
              "      <td>Erin Brockovich (2000)</td>\n",
              "      <td>Drama</td>\n",
              "      <td>F</td>\n",
              "      <td>1</td>\n",
              "      <td>10</td>\n",
              "      <td>48067</td>\n",
              "    </tr>\n",
              "    <tr>\n",
              "      <th>4</th>\n",
              "      <td>1</td>\n",
              "      <td>2355</td>\n",
              "      <td>5</td>\n",
              "      <td>978824291</td>\n",
              "      <td>Bug's Life, A (1998)</td>\n",
              "      <td>Animation|Children's|Comedy</td>\n",
              "      <td>F</td>\n",
              "      <td>1</td>\n",
              "      <td>10</td>\n",
              "      <td>48067</td>\n",
              "    </tr>\n",
              "  </tbody>\n",
              "</table>\n",
              "</div>"
            ],
            "text/plain": [
              "   user_id  movie_id  star  timestamp  ... Gender age occupation  zip_code\n",
              "0        1      1193     5  978300760  ...      F   1         10     48067\n",
              "1        1       661     3  978302109  ...      F   1         10     48067\n",
              "2        1       914     3  978301968  ...      F   1         10     48067\n",
              "3        1      3408     4  978300275  ...      F   1         10     48067\n",
              "4        1      2355     5  978824291  ...      F   1         10     48067\n",
              "\n",
              "[5 rows x 10 columns]"
            ]
          },
          "metadata": {
            "tags": []
          },
          "execution_count": 180
        }
      ]
    },
    {
      "cell_type": "code",
      "metadata": {
        "id": "VF1z1kYAihPc",
        "colab_type": "code",
        "colab": {
          "base_uri": "https://localhost:8080/",
          "height": 49
        },
        "outputId": "fbda9eb6-3da4-4bcf-cc82-7eefa0d2c443"
      },
      "source": [
        "#결측치 확인 \n",
        "dataset[dataset.isnull().any(axis=1)]"
      ],
      "execution_count": 181,
      "outputs": [
        {
          "output_type": "execute_result",
          "data": {
            "text/html": [
              "<div>\n",
              "<style scoped>\n",
              "    .dataframe tbody tr th:only-of-type {\n",
              "        vertical-align: middle;\n",
              "    }\n",
              "\n",
              "    .dataframe tbody tr th {\n",
              "        vertical-align: top;\n",
              "    }\n",
              "\n",
              "    .dataframe thead th {\n",
              "        text-align: right;\n",
              "    }\n",
              "</style>\n",
              "<table border=\"1\" class=\"dataframe\">\n",
              "  <thead>\n",
              "    <tr style=\"text-align: right;\">\n",
              "      <th></th>\n",
              "      <th>user_id</th>\n",
              "      <th>movie_id</th>\n",
              "      <th>star</th>\n",
              "      <th>timestamp</th>\n",
              "      <th>title</th>\n",
              "      <th>genre</th>\n",
              "      <th>Gender</th>\n",
              "      <th>age</th>\n",
              "      <th>occupation</th>\n",
              "      <th>zip_code</th>\n",
              "    </tr>\n",
              "  </thead>\n",
              "  <tbody>\n",
              "  </tbody>\n",
              "</table>\n",
              "</div>"
            ],
            "text/plain": [
              "Empty DataFrame\n",
              "Columns: [user_id, movie_id, star, timestamp, title, genre, Gender, age, occupation, zip_code]\n",
              "Index: []"
            ]
          },
          "metadata": {
            "tags": []
          },
          "execution_count": 181
        }
      ]
    },
    {
      "cell_type": "code",
      "metadata": {
        "id": "6Pfah0Fej6Oi",
        "colab_type": "code",
        "colab": {
          "base_uri": "https://localhost:8080/",
          "height": 633
        },
        "outputId": "b4a3d9f4-e0ea-459e-9e02-d4f1905ec704"
      },
      "source": [
        "print('ratings에 있는 유니크한 영화 개수',dataset['user_id'].nunique())\n",
        "print('ratings에 있는 유니크한 사용자 수',dataset['movie_id'].nunique())\n",
        "\n",
        "# 인기 많은 영화\n",
        "favorite_movie = dataset.groupby('title')['user_id'].count()\n",
        "top_30=favorite_movie.sort_values(ascending=False).head(30)\n",
        "print('가장 인기있는 영화 30개',top_30)"
      ],
      "execution_count": 182,
      "outputs": [
        {
          "output_type": "stream",
          "text": [
            "ratings에 있는 유니크한 영화 개수 6039\n",
            "ratings에 있는 유니크한 사용자 수 3628\n",
            "가장 인기있는 영화 30개 title\n",
            "American Beauty (1999)                                   3211\n",
            "Star Wars: Episode IV - A New Hope (1977)                2910\n",
            "Star Wars: Episode V - The Empire Strikes Back (1980)    2885\n",
            "Star Wars: Episode VI - Return of the Jedi (1983)        2716\n",
            "Saving Private Ryan (1998)                               2561\n",
            "Terminator 2: Judgment Day (1991)                        2509\n",
            "Silence of the Lambs, The (1991)                         2498\n",
            "Raiders of the Lost Ark (1981)                           2473\n",
            "Back to the Future (1985)                                2460\n",
            "Matrix, The (1999)                                       2434\n",
            "Jurassic Park (1993)                                     2413\n",
            "Sixth Sense, The (1999)                                  2385\n",
            "Fargo (1996)                                             2371\n",
            "Braveheart (1995)                                        2314\n",
            "Men in Black (1997)                                      2297\n",
            "Schindler's List (1993)                                  2257\n",
            "Princess Bride, The (1987)                               2252\n",
            "Shakespeare in Love (1998)                               2213\n",
            "L.A. Confidential (1997)                                 2210\n",
            "Shawshank Redemption, The (1994)                         2194\n",
            "Godfather, The (1972)                                    2167\n",
            "Groundhog Day (1993)                                     2121\n",
            "E.T. the Extra-Terrestrial (1982)                        2102\n",
            "Being John Malkovich (1999)                              2066\n",
            "Ghostbusters (1984)                                      2051\n",
            "Pulp Fiction (1994)                                      2030\n",
            "Forrest Gump (1994)                                      2022\n",
            "Terminator, The (1984)                                   2019\n",
            "Toy Story (1995)                                         2000\n",
            "Fugitive, The (1993)                                     1941\n",
            "Name: user_id, dtype: int64\n"
          ],
          "name": "stdout"
        }
      ]
    },
    {
      "cell_type": "markdown",
      "metadata": {
        "id": "7l4YV6KGuPHO",
        "colab_type": "text"
      },
      "source": [
        "## Preprocessing"
      ]
    },
    {
      "cell_type": "code",
      "metadata": {
        "id": "MTi2rKXmtstS",
        "colab_type": "code",
        "colab": {}
      },
      "source": [
        "# 고유한 유저, 아티스트를 찾아내는 코드\n",
        "user_unique = dataset['user_id'].unique()\n",
        "title_unique = dataset['title'].unique()\n",
        "\n",
        "# 유저, 아티스트 indexing 하는 코드 idx는 index의 약자입니다.\n",
        "user_to_idx = {v:k for k,v in enumerate(user_unique)}\n",
        "title_to_idx = {v:k for k,v in enumerate(title_unique)}"
      ],
      "execution_count": 183,
      "outputs": []
    },
    {
      "cell_type": "code",
      "metadata": {
        "id": "zvS0wS1i1niY",
        "colab_type": "code",
        "colab": {
          "base_uri": "https://localhost:8080/",
          "height": 203
        },
        "outputId": "43a67c60-2603-465d-d81b-266118e401b5"
      },
      "source": [
        "dataset.head()"
      ],
      "execution_count": 184,
      "outputs": [
        {
          "output_type": "execute_result",
          "data": {
            "text/html": [
              "<div>\n",
              "<style scoped>\n",
              "    .dataframe tbody tr th:only-of-type {\n",
              "        vertical-align: middle;\n",
              "    }\n",
              "\n",
              "    .dataframe tbody tr th {\n",
              "        vertical-align: top;\n",
              "    }\n",
              "\n",
              "    .dataframe thead th {\n",
              "        text-align: right;\n",
              "    }\n",
              "</style>\n",
              "<table border=\"1\" class=\"dataframe\">\n",
              "  <thead>\n",
              "    <tr style=\"text-align: right;\">\n",
              "      <th></th>\n",
              "      <th>user_id</th>\n",
              "      <th>movie_id</th>\n",
              "      <th>star</th>\n",
              "      <th>timestamp</th>\n",
              "      <th>title</th>\n",
              "      <th>genre</th>\n",
              "      <th>Gender</th>\n",
              "      <th>age</th>\n",
              "      <th>occupation</th>\n",
              "      <th>zip_code</th>\n",
              "    </tr>\n",
              "  </thead>\n",
              "  <tbody>\n",
              "    <tr>\n",
              "      <th>0</th>\n",
              "      <td>1</td>\n",
              "      <td>1193</td>\n",
              "      <td>5</td>\n",
              "      <td>978300760</td>\n",
              "      <td>One Flew Over the Cuckoo's Nest (1975)</td>\n",
              "      <td>Drama</td>\n",
              "      <td>F</td>\n",
              "      <td>1</td>\n",
              "      <td>10</td>\n",
              "      <td>48067</td>\n",
              "    </tr>\n",
              "    <tr>\n",
              "      <th>1</th>\n",
              "      <td>1</td>\n",
              "      <td>661</td>\n",
              "      <td>3</td>\n",
              "      <td>978302109</td>\n",
              "      <td>James and the Giant Peach (1996)</td>\n",
              "      <td>Animation|Children's|Musical</td>\n",
              "      <td>F</td>\n",
              "      <td>1</td>\n",
              "      <td>10</td>\n",
              "      <td>48067</td>\n",
              "    </tr>\n",
              "    <tr>\n",
              "      <th>2</th>\n",
              "      <td>1</td>\n",
              "      <td>914</td>\n",
              "      <td>3</td>\n",
              "      <td>978301968</td>\n",
              "      <td>My Fair Lady (1964)</td>\n",
              "      <td>Musical|Romance</td>\n",
              "      <td>F</td>\n",
              "      <td>1</td>\n",
              "      <td>10</td>\n",
              "      <td>48067</td>\n",
              "    </tr>\n",
              "    <tr>\n",
              "      <th>3</th>\n",
              "      <td>1</td>\n",
              "      <td>3408</td>\n",
              "      <td>4</td>\n",
              "      <td>978300275</td>\n",
              "      <td>Erin Brockovich (2000)</td>\n",
              "      <td>Drama</td>\n",
              "      <td>F</td>\n",
              "      <td>1</td>\n",
              "      <td>10</td>\n",
              "      <td>48067</td>\n",
              "    </tr>\n",
              "    <tr>\n",
              "      <th>4</th>\n",
              "      <td>1</td>\n",
              "      <td>2355</td>\n",
              "      <td>5</td>\n",
              "      <td>978824291</td>\n",
              "      <td>Bug's Life, A (1998)</td>\n",
              "      <td>Animation|Children's|Comedy</td>\n",
              "      <td>F</td>\n",
              "      <td>1</td>\n",
              "      <td>10</td>\n",
              "      <td>48067</td>\n",
              "    </tr>\n",
              "  </tbody>\n",
              "</table>\n",
              "</div>"
            ],
            "text/plain": [
              "   user_id  movie_id  star  timestamp  ... Gender age occupation  zip_code\n",
              "0        1      1193     5  978300760  ...      F   1         10     48067\n",
              "1        1       661     3  978302109  ...      F   1         10     48067\n",
              "2        1       914     3  978301968  ...      F   1         10     48067\n",
              "3        1      3408     4  978300275  ...      F   1         10     48067\n",
              "4        1      2355     5  978824291  ...      F   1         10     48067\n",
              "\n",
              "[5 rows x 10 columns]"
            ]
          },
          "metadata": {
            "tags": []
          },
          "execution_count": 184
        }
      ]
    },
    {
      "cell_type": "code",
      "metadata": {
        "id": "WAEMUjVStxrQ",
        "colab_type": "code",
        "colab": {
          "base_uri": "https://localhost:8080/",
          "height": 455
        },
        "outputId": "81f9aa96-58ef-41c0-e975-22c6a81da424"
      },
      "source": [
        "# indexing을 통해 데이터 컬럼 내 값을 바꾸는 코드\n",
        "# dictionary 자료형의 get 함수는 https://wikidocs.net/16 을 참고하세요.\n",
        "\n",
        "# user_to_idx.get을 통해 user_id 컬럼의 모든 값을 인덱싱한 Series를 구해 봅시다. \n",
        "# 혹시 정상적으로 인덱싱되지 않은 row가 있다면 인덱스가 NaN이 될 테니 dropna()로 제거합니다. \n",
        "temp_user_data = dataset['user_id'].map(user_to_idx.get).dropna()\n",
        "if len(temp_user_data) == len(dataset):   # 모든 row가 정상적으로 인덱싱되었다면\n",
        "    print('user_id column indexing OK!!')\n",
        "    dataset['user_id'] = temp_user_data   # data['user_id']을 인덱싱된 Series로 교체해 줍니다. \n",
        "else:\n",
        "    print('user_id column indexing Fail!!')\n",
        "\n",
        "# title_to_idx을 통해 title 컬럼도 동일한 방식으로 인덱싱해 줍니다. \n",
        "temp_title_data = dataset['title'].map(title_to_idx.get).dropna()\n",
        "if len(temp_title_data) == len(dataset):\n",
        "    print('title column indexing OK!!')\n",
        "    dataset['title'] = temp_title_data\n",
        "else:\n",
        "    print('title column indexing Fail!!')\n",
        "\n",
        "dataset"
      ],
      "execution_count": 185,
      "outputs": [
        {
          "output_type": "stream",
          "text": [
            "user_id column indexing OK!!\n",
            "title column indexing OK!!\n"
          ],
          "name": "stdout"
        },
        {
          "output_type": "execute_result",
          "data": {
            "text/html": [
              "<div>\n",
              "<style scoped>\n",
              "    .dataframe tbody tr th:only-of-type {\n",
              "        vertical-align: middle;\n",
              "    }\n",
              "\n",
              "    .dataframe tbody tr th {\n",
              "        vertical-align: top;\n",
              "    }\n",
              "\n",
              "    .dataframe thead th {\n",
              "        text-align: right;\n",
              "    }\n",
              "</style>\n",
              "<table border=\"1\" class=\"dataframe\">\n",
              "  <thead>\n",
              "    <tr style=\"text-align: right;\">\n",
              "      <th></th>\n",
              "      <th>user_id</th>\n",
              "      <th>movie_id</th>\n",
              "      <th>star</th>\n",
              "      <th>timestamp</th>\n",
              "      <th>title</th>\n",
              "      <th>genre</th>\n",
              "      <th>Gender</th>\n",
              "      <th>age</th>\n",
              "      <th>occupation</th>\n",
              "      <th>zip_code</th>\n",
              "    </tr>\n",
              "  </thead>\n",
              "  <tbody>\n",
              "    <tr>\n",
              "      <th>0</th>\n",
              "      <td>0</td>\n",
              "      <td>1193</td>\n",
              "      <td>5</td>\n",
              "      <td>978300760</td>\n",
              "      <td>0</td>\n",
              "      <td>Drama</td>\n",
              "      <td>F</td>\n",
              "      <td>1</td>\n",
              "      <td>10</td>\n",
              "      <td>48067</td>\n",
              "    </tr>\n",
              "    <tr>\n",
              "      <th>1</th>\n",
              "      <td>0</td>\n",
              "      <td>661</td>\n",
              "      <td>3</td>\n",
              "      <td>978302109</td>\n",
              "      <td>1</td>\n",
              "      <td>Animation|Children's|Musical</td>\n",
              "      <td>F</td>\n",
              "      <td>1</td>\n",
              "      <td>10</td>\n",
              "      <td>48067</td>\n",
              "    </tr>\n",
              "    <tr>\n",
              "      <th>2</th>\n",
              "      <td>0</td>\n",
              "      <td>914</td>\n",
              "      <td>3</td>\n",
              "      <td>978301968</td>\n",
              "      <td>2</td>\n",
              "      <td>Musical|Romance</td>\n",
              "      <td>F</td>\n",
              "      <td>1</td>\n",
              "      <td>10</td>\n",
              "      <td>48067</td>\n",
              "    </tr>\n",
              "    <tr>\n",
              "      <th>3</th>\n",
              "      <td>0</td>\n",
              "      <td>3408</td>\n",
              "      <td>4</td>\n",
              "      <td>978300275</td>\n",
              "      <td>3</td>\n",
              "      <td>Drama</td>\n",
              "      <td>F</td>\n",
              "      <td>1</td>\n",
              "      <td>10</td>\n",
              "      <td>48067</td>\n",
              "    </tr>\n",
              "    <tr>\n",
              "      <th>4</th>\n",
              "      <td>0</td>\n",
              "      <td>2355</td>\n",
              "      <td>5</td>\n",
              "      <td>978824291</td>\n",
              "      <td>4</td>\n",
              "      <td>Animation|Children's|Comedy</td>\n",
              "      <td>F</td>\n",
              "      <td>1</td>\n",
              "      <td>10</td>\n",
              "      <td>48067</td>\n",
              "    </tr>\n",
              "    <tr>\n",
              "      <th>...</th>\n",
              "      <td>...</td>\n",
              "      <td>...</td>\n",
              "      <td>...</td>\n",
              "      <td>...</td>\n",
              "      <td>...</td>\n",
              "      <td>...</td>\n",
              "      <td>...</td>\n",
              "      <td>...</td>\n",
              "      <td>...</td>\n",
              "      <td>...</td>\n",
              "    </tr>\n",
              "    <tr>\n",
              "      <th>836473</th>\n",
              "      <td>6038</td>\n",
              "      <td>1090</td>\n",
              "      <td>3</td>\n",
              "      <td>956715518</td>\n",
              "      <td>1030</td>\n",
              "      <td>Drama|War</td>\n",
              "      <td>M</td>\n",
              "      <td>25</td>\n",
              "      <td>6</td>\n",
              "      <td>11106</td>\n",
              "    </tr>\n",
              "    <tr>\n",
              "      <th>836474</th>\n",
              "      <td>6038</td>\n",
              "      <td>1094</td>\n",
              "      <td>5</td>\n",
              "      <td>956704887</td>\n",
              "      <td>986</td>\n",
              "      <td>Drama|Romance|War</td>\n",
              "      <td>M</td>\n",
              "      <td>25</td>\n",
              "      <td>6</td>\n",
              "      <td>11106</td>\n",
              "    </tr>\n",
              "    <tr>\n",
              "      <th>836475</th>\n",
              "      <td>6038</td>\n",
              "      <td>562</td>\n",
              "      <td>5</td>\n",
              "      <td>956704746</td>\n",
              "      <td>311</td>\n",
              "      <td>Comedy|Drama</td>\n",
              "      <td>M</td>\n",
              "      <td>25</td>\n",
              "      <td>6</td>\n",
              "      <td>11106</td>\n",
              "    </tr>\n",
              "    <tr>\n",
              "      <th>836476</th>\n",
              "      <td>6038</td>\n",
              "      <td>1096</td>\n",
              "      <td>4</td>\n",
              "      <td>956715648</td>\n",
              "      <td>142</td>\n",
              "      <td>Drama</td>\n",
              "      <td>M</td>\n",
              "      <td>25</td>\n",
              "      <td>6</td>\n",
              "      <td>11106</td>\n",
              "    </tr>\n",
              "    <tr>\n",
              "      <th>836477</th>\n",
              "      <td>6038</td>\n",
              "      <td>1097</td>\n",
              "      <td>4</td>\n",
              "      <td>956715569</td>\n",
              "      <td>26</td>\n",
              "      <td>Children's|Drama|Fantasy|Sci-Fi</td>\n",
              "      <td>M</td>\n",
              "      <td>25</td>\n",
              "      <td>6</td>\n",
              "      <td>11106</td>\n",
              "    </tr>\n",
              "  </tbody>\n",
              "</table>\n",
              "<p>836478 rows × 10 columns</p>\n",
              "</div>"
            ],
            "text/plain": [
              "        user_id  movie_id  star  timestamp  ...  Gender age occupation  zip_code\n",
              "0             0      1193     5  978300760  ...       F   1         10     48067\n",
              "1             0       661     3  978302109  ...       F   1         10     48067\n",
              "2             0       914     3  978301968  ...       F   1         10     48067\n",
              "3             0      3408     4  978300275  ...       F   1         10     48067\n",
              "4             0      2355     5  978824291  ...       F   1         10     48067\n",
              "...         ...       ...   ...        ...  ...     ...  ..        ...       ...\n",
              "836473     6038      1090     3  956715518  ...       M  25          6     11106\n",
              "836474     6038      1094     5  956704887  ...       M  25          6     11106\n",
              "836475     6038       562     5  956704746  ...       M  25          6     11106\n",
              "836476     6038      1096     4  956715648  ...       M  25          6     11106\n",
              "836477     6038      1097     4  956715569  ...       M  25          6     11106\n",
              "\n",
              "[836478 rows x 10 columns]"
            ]
          },
          "metadata": {
            "tags": []
          },
          "execution_count": 185
        }
      ]
    },
    {
      "cell_type": "code",
      "metadata": {
        "id": "m52K6vBmu1zm",
        "colab_type": "code",
        "colab": {
          "base_uri": "https://localhost:8080/",
          "height": 53
        },
        "outputId": "04710f3a-21b1-4aa8-bd28-9a6fb4f20e27"
      },
      "source": [
        "# 실습 위에 설명보고 이해해서 만들어보기\n",
        "from scipy.sparse import csr_matrix\n",
        "\n",
        "csr_dataset = dataset[['user_id','star','title']]\n",
        "\n",
        "num_user = csr_dataset['user_id'].nunique()\n",
        "num_movie = csr_dataset['title'].nunique()\n",
        "\n",
        "csr_data = csr_matrix((csr_dataset.star, (csr_dataset.user_id, csr_dataset.title)), shape=(num_user, num_movie))\n",
        "csr_data"
      ],
      "execution_count": 187,
      "outputs": [
        {
          "output_type": "execute_result",
          "data": {
            "text/plain": [
              "<6039x3628 sparse matrix of type '<class 'numpy.longlong'>'\n",
              "\twith 836478 stored elements in Compressed Sparse Row format>"
            ]
          },
          "metadata": {
            "tags": []
          },
          "execution_count": 187
        }
      ]
    },
    {
      "cell_type": "code",
      "metadata": {
        "id": "HHwfKpyjyKL8",
        "colab_type": "code",
        "colab": {}
      },
      "source": [
        "import os\n",
        "from implicit.als import AlternatingLeastSquares\n",
        "import numpy as np\n",
        "\n",
        "# implicit 라이브러리에서 권장하고 있는 부분입니다. 학습 내용과는 무관합니다.\n",
        "os.environ['OPENBLAS_NUM_THREADS']='1'\n",
        "os.environ['KMP_DUPLICATE_LIB_OK']='True'\n",
        "os.environ['MKL_NUM_THREADS']='1'"
      ],
      "execution_count": 188,
      "outputs": []
    },
    {
      "cell_type": "code",
      "metadata": {
        "id": "ZMg6TPCEyECV",
        "colab_type": "code",
        "colab": {
          "base_uri": "https://localhost:8080/",
          "height": 53
        },
        "outputId": "6795c0f3-ada9-450d-cb34-f04a09e3d7a0"
      },
      "source": [
        "# Implicit AlternatingLeastSquares 모델의 선언\n",
        "als_model = AlternatingLeastSquares(factors=100, regularization=0.01, use_gpu=False, iterations=15, dtype=np.float32)\n",
        "# 1. factors : 유저와 아이템의 벡터를 몇 차원으로 할 것인지 2. regularization : 과적합을 방지하기 위해 정규화 값을 얼마나 사용할 것인지 3. use_gpu : GPU를 사용할 것인지 4. iterations : epochs와 같은 의미입니다.\n",
        "# als 모델은 input으로 (item X user 꼴의 matrix를 받기 때문에 Transpose해줍니다.)\n",
        "csr_data_transpose = csr_data.T\n",
        "csr_data_transpose"
      ],
      "execution_count": 189,
      "outputs": [
        {
          "output_type": "execute_result",
          "data": {
            "text/plain": [
              "<3628x6039 sparse matrix of type '<class 'numpy.longlong'>'\n",
              "\twith 836478 stored elements in Compressed Sparse Column format>"
            ]
          },
          "metadata": {
            "tags": []
          },
          "execution_count": 189
        }
      ]
    },
    {
      "cell_type": "code",
      "metadata": {
        "id": "W-PpWk8-zUPi",
        "colab_type": "code",
        "colab": {
          "base_uri": "https://localhost:8080/",
          "height": 67,
          "referenced_widgets": [
            "5a448b65e5e042c9b1785b9834322ca9",
            "7e7c6b4aaca74e9d8c0b0d87a73b6d18",
            "feb111ce888244d5808db6bacba0dbee",
            "6643110db345460aa3c3b4b99e7e8b4d",
            "42df80e1ef4f4684a90b4ff191798a7b",
            "2cdd6dcbe868448697551df64e38bdd9",
            "fdab0586bb854019b7580a29c5df7832",
            "cfb6ac20812a4abd8b5872c85ab615ab"
          ]
        },
        "outputId": "a02304b1-ea9c-49a8-d2a9-9de09c171d89"
      },
      "source": [
        "# 모델 훈련\n",
        "als_model.fit(csr_data_transpose)"
      ],
      "execution_count": 190,
      "outputs": [
        {
          "output_type": "display_data",
          "data": {
            "application/vnd.jupyter.widget-view+json": {
              "model_id": "5a448b65e5e042c9b1785b9834322ca9",
              "version_minor": 0,
              "version_major": 2
            },
            "text/plain": [
              "HBox(children=(FloatProgress(value=0.0, max=15.0), HTML(value='')))"
            ]
          },
          "metadata": {
            "tags": []
          }
        },
        {
          "output_type": "stream",
          "text": [
            "\n"
          ],
          "name": "stdout"
        }
      ]
    },
    {
      "cell_type": "code",
      "metadata": {
        "id": "cq5Druv421OB",
        "colab_type": "code",
        "colab": {
          "base_uri": "https://localhost:8080/",
          "height": 289
        },
        "outputId": "8b37cdd7-ad4b-47c1-dd51-aa00daeba544"
      },
      "source": [
        "favorite_movie = 'Fargo (1996)'\n",
        "movie_id = title_to_idx[favorite_movie]\n",
        "similar_movie = als_model.similar_items(artist_id, N=15)\n",
        "similar_movie"
      ],
      "execution_count": 192,
      "outputs": [
        {
          "output_type": "execute_result",
          "data": {
            "text/plain": [
              "[(62, 0.16536102),\n",
              " (92, 0.11321801),\n",
              " (124, 0.1123961),\n",
              " (375, 0.09795973),\n",
              " (145, 0.096002765),\n",
              " (175, 0.0958359),\n",
              " (107, 0.09104499),\n",
              " (179, 0.09010607),\n",
              " (200, 0.084076986),\n",
              " (75, 0.08382361),\n",
              " (141, 0.07814191),\n",
              " (713, 0.07601207),\n",
              " (865, 0.074545786),\n",
              " (377, 0.06985092),\n",
              " (138, 0.068464205)]"
            ]
          },
          "metadata": {
            "tags": []
          },
          "execution_count": 192
        }
      ]
    },
    {
      "cell_type": "code",
      "metadata": {
        "id": "3jpN3YlS4s4o",
        "colab_type": "code",
        "colab": {
          "base_uri": "https://localhost:8080/",
          "height": 289
        },
        "outputId": "478b4ae6-d11c-47f0-c424-bde2cbe7f91c"
      },
      "source": [
        "idx_to_movie = {v:k for k,v in title_to_idx.items()}\n",
        "[idx_to_movie[i[0]] for i in similar_movie]"
      ],
      "execution_count": 205,
      "outputs": [
        {
          "output_type": "execute_result",
          "data": {
            "text/plain": [
              "['Total Recall (1990)',\n",
              " 'Terminator 2: Judgment Day (1991)',\n",
              " 'Matrix, The (1999)',\n",
              " 'Face/Off (1997)',\n",
              " 'Fifth Element, The (1997)',\n",
              " 'Men in Black (1997)',\n",
              " 'Jurassic Park (1993)',\n",
              " 'Rock, The (1996)',\n",
              " 'Terminator, The (1984)',\n",
              " 'Hunt for Red October, The (1990)',\n",
              " 'Fugitive, The (1993)',\n",
              " 'Starship Troopers (1997)',\n",
              " 'Predator (1987)',\n",
              " 'In the Line of Fire (1993)',\n",
              " 'True Lies (1994)']"
            ]
          },
          "metadata": {
            "tags": []
          },
          "execution_count": 205
        }
      ]
    },
    {
      "cell_type": "code",
      "metadata": {
        "id": "huT5AT-b3OJd",
        "colab_type": "code",
        "colab": {}
      },
      "source": [
        "def get_similar_movie(movie_title: str):\n",
        "    movie_id = title_to_idx[movie_title]\n",
        "    similar_movie = als_model.similar_items(movie_id)\n",
        "    similar_movie = [idx_to_movie[i[0]] for i in similar_movie]\n",
        "    return similar_movie"
      ],
      "execution_count": 206,
      "outputs": []
    },
    {
      "cell_type": "code",
      "metadata": {
        "id": "IATFH5SI3c8g",
        "colab_type": "code",
        "colab": {
          "base_uri": "https://localhost:8080/",
          "height": 198
        },
        "outputId": "4591b3e4-2a4c-4155-dd38-45398df52800"
      },
      "source": [
        "get_similar_movie('My Fair Lady (1964)')"
      ],
      "execution_count": 207,
      "outputs": [
        {
          "output_type": "execute_result",
          "data": {
            "text/plain": [
              "['My Fair Lady (1964)',\n",
              " 'West Side Story (1961)',\n",
              " 'King and I, The (1956)',\n",
              " \"Singin' in the Rain (1952)\",\n",
              " 'Oliver! (1968)',\n",
              " 'American in Paris, An (1951)',\n",
              " 'Gigi (1958)',\n",
              " 'Sound of Music, The (1965)',\n",
              " 'Romeo and Juliet (1968)',\n",
              " 'South Pacific (1958)']"
            ]
          },
          "metadata": {
            "tags": []
          },
          "execution_count": 207
        }
      ]
    },
    {
      "cell_type": "code",
      "metadata": {
        "id": "mKccEpxX4XvC",
        "colab_type": "code",
        "colab": {
          "base_uri": "https://localhost:8080/",
          "height": 379
        },
        "outputId": "737f5b38-504d-453d-a352-4665a03bf581"
      },
      "source": [
        "user = user_to_idx[6038]\n",
        "# recommend에서는 user*item CSR Matrix를 받습니다.\n",
        "movie_recommended = als_model.recommend(user, csr_data, N=20, filter_already_liked_items=True)\n",
        "movie_recommended\n",
        "[idx_to_movie[i[0]] for i in movie_recommended]"
      ],
      "execution_count": 209,
      "outputs": [
        {
          "output_type": "execute_result",
          "data": {
            "text/plain": [
              "['Close Shave, A (1995)',\n",
              " 'Back to the Future (1985)',\n",
              " 'M*A*S*H (1970)',\n",
              " 'When Harry Met Sally... (1989)',\n",
              " 'Moonstruck (1987)',\n",
              " 'Star Wars: Episode V - The Empire Strikes Back (1980)',\n",
              " 'Wallace & Gromit: The Best of Aardman Animation (1996)',\n",
              " 'Young Frankenstein (1974)',\n",
              " 'Creature Comforts (1990)',\n",
              " 'Blazing Saddles (1974)',\n",
              " 'Shakespeare in Love (1998)',\n",
              " 'Chicken Run (2000)',\n",
              " 'Doctor Zhivago (1965)',\n",
              " 'Bull Durham (1988)',\n",
              " 'Toy Story (1995)',\n",
              " 'Groundhog Day (1993)',\n",
              " \"Ferris Bueller's Day Off (1986)\",\n",
              " \"Monty Python's Life of Brian (1979)\",\n",
              " 'Raising Arizona (1987)',\n",
              " 'Cinema Paradiso (1988)']"
            ]
          },
          "metadata": {
            "tags": []
          },
          "execution_count": 209
        }
      ]
    },
    {
      "cell_type": "code",
      "metadata": {
        "id": "M4I79vKe5K8K",
        "colab_type": "code",
        "colab": {
          "base_uri": "https://localhost:8080/",
          "height": 198
        },
        "outputId": "a5a5036c-1e69-4a11-b4e3-999527152649"
      },
      "source": [
        "movie_rem = title_to_idx['Close Shave, A (1995)']\n",
        "explain = als_model.explain(user, csr_data, itemid=movie_rem)\n",
        "[(idx_to_artist[i[0]], i[1]) for i in explain[1]]"
      ],
      "execution_count": 213,
      "outputs": [
        {
          "output_type": "execute_result",
          "data": {
            "text/plain": [
              "[('säkert!', 0.36128644616142414),\n",
              " ('tegan and sara', 0.3036157987751639),\n",
              " ('kristian anttila', 0.024070363453016747),\n",
              " ('the sundays', 0.014225588789341485),\n",
              " ('jim sturgess', 0.011104536321737074),\n",
              " ('kid cudi', 0.011093498347061775),\n",
              " ('hausmarke', 0.009538576621950423),\n",
              " ('yeah yeah yeahs', 0.00524034391678608),\n",
              " ('a-ha', 0.0022556272509832004),\n",
              " ('schneider tm', 0.000886014971065224)]"
            ]
          },
          "metadata": {
            "tags": []
          },
          "execution_count": 213
        }
      ]
    }
  ]
}