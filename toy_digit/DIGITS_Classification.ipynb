{
  "nbformat": 4,
  "nbformat_minor": 0,
  "metadata": {
    "colab": {
      "name": "DIGITS_Classification.ipynb",
      "provenance": [],
      "collapsed_sections": []
    },
    "kernelspec": {
      "name": "python3",
      "display_name": "Python 3"
    }
  },
  "cells": [
    {
      "cell_type": "markdown",
      "metadata": {
        "id": "kx27GW1COvls",
        "colab_type": "text"
      },
      "source": [
        "# ***DIGITS_CLASSIFICATION*** \n"
      ]
    },
    {
      "cell_type": "code",
      "metadata": {
        "id": "NpVJ1fj_Ofe6",
        "colab_type": "code",
        "colab": {}
      },
      "source": [
        "from sklearn.datasets import load_digits\n",
        "from sklearn.model_selection import train_test_split\n",
        "from sklearn.metrics import classification_report\n",
        "\n",
        "from sklearn.tree import DecisionTreeClassifier\n",
        "from sklearn.metrics import accuracy_score"
      ],
      "execution_count": 37,
      "outputs": []
    },
    {
      "cell_type": "markdown",
      "metadata": {
        "id": "YDwbMzAYO7R8",
        "colab_type": "text"
      },
      "source": [
        "## ***Overview Dataset_digits***"
      ]
    },
    {
      "cell_type": "code",
      "metadata": {
        "id": "96jJmsDlO59t",
        "colab_type": "code",
        "colab": {
          "base_uri": "https://localhost:8080/",
          "height": 35
        },
        "outputId": "ce536b4a-7110-4684-8bcd-a5c73f750e4d"
      },
      "source": [
        "#load digits dataset\n",
        "digits = load_digits()\n",
        "type(dir(digits))"
      ],
      "execution_count": 5,
      "outputs": [
        {
          "output_type": "execute_result",
          "data": {
            "text/plain": [
              "list"
            ]
          },
          "metadata": {
            "tags": []
          },
          "execution_count": 5
        }
      ]
    },
    {
      "cell_type": "code",
      "metadata": {
        "id": "GNN49ifrPJ0n",
        "colab_type": "code",
        "colab": {
          "base_uri": "https://localhost:8080/",
          "height": 35
        },
        "outputId": "a2cbdbe1-92c4-4115-90e2-18ca13471f48"
      },
      "source": [
        "digits.keys()"
      ],
      "execution_count": 6,
      "outputs": [
        {
          "output_type": "execute_result",
          "data": {
            "text/plain": [
              "dict_keys(['data', 'target', 'target_names', 'images', 'DESCR'])"
            ]
          },
          "metadata": {
            "tags": []
          },
          "execution_count": 6
        }
      ]
    },
    {
      "cell_type": "code",
      "metadata": {
        "id": "jzrirpJYPXsS",
        "colab_type": "code",
        "colab": {
          "base_uri": "https://localhost:8080/",
          "height": 142
        },
        "outputId": "ecd8c0de-2ba3-4c41-b6bf-c9b82a12932a"
      },
      "source": [
        "#description of digits dataset\n",
        "digits.DESCR"
      ],
      "execution_count": 7,
      "outputs": [
        {
          "output_type": "execute_result",
          "data": {
            "application/vnd.google.colaboratory.intrinsic+json": {
              "type": "string"
            },
            "text/plain": [
              "\".. _digits_dataset:\\n\\nOptical recognition of handwritten digits dataset\\n--------------------------------------------------\\n\\n**Data Set Characteristics:**\\n\\n    :Number of Instances: 5620\\n    :Number of Attributes: 64\\n    :Attribute Information: 8x8 image of integer pixels in the range 0..16.\\n    :Missing Attribute Values: None\\n    :Creator: E. Alpaydin (alpaydin '@' boun.edu.tr)\\n    :Date: July; 1998\\n\\nThis is a copy of the test set of the UCI ML hand-written digits datasets\\nhttps://archive.ics.uci.edu/ml/datasets/Optical+Recognition+of+Handwritten+Digits\\n\\nThe data set contains images of hand-written digits: 10 classes where\\neach class refers to a digit.\\n\\nPreprocessing programs made available by NIST were used to extract\\nnormalized bitmaps of handwritten digits from a preprinted form. From a\\ntotal of 43 people, 30 contributed to the training set and different 13\\nto the test set. 32x32 bitmaps are divided into nonoverlapping blocks of\\n4x4 and the number of on pixels are counted in each block. This generates\\nan input matrix of 8x8 where each element is an integer in the range\\n0..16. This reduces dimensionality and gives invariance to small\\ndistortions.\\n\\nFor info on NIST preprocessing routines, see M. D. Garris, J. L. Blue, G.\\nT. Candela, D. L. Dimmick, J. Geist, P. J. Grother, S. A. Janet, and C.\\nL. Wilson, NIST Form-Based Handprint Recognition System, NISTIR 5469,\\n1994.\\n\\n.. topic:: References\\n\\n  - C. Kaynak (1995) Methods of Combining Multiple Classifiers and Their\\n    Applications to Handwritten Digit Recognition, MSc Thesis, Institute of\\n    Graduate Studies in Science and Engineering, Bogazici University.\\n  - E. Alpaydin, C. Kaynak (1998) Cascading Classifiers, Kybernetika.\\n  - Ken Tang and Ponnuthurai N. Suganthan and Xi Yao and A. Kai Qin.\\n    Linear dimensionalityreduction using relevance weighted LDA. School of\\n    Electrical and Electronic Engineering Nanyang Technological University.\\n    2005.\\n  - Claudio Gentile. A New Approximate Maximal Margin Classification\\n    Algorithm. NIPS. 2000.\""
            ]
          },
          "metadata": {
            "tags": []
          },
          "execution_count": 7
        }
      ]
    },
    {
      "cell_type": "code",
      "metadata": {
        "id": "l33fcwdzWiUu",
        "colab_type": "code",
        "colab": {
          "base_uri": "https://localhost:8080/",
          "height": 35
        },
        "outputId": "22c24537-8baf-4c15-df61-68e3fc68b9c8"
      },
      "source": [
        "digits.data[0]\n",
        "print(\"각 데이터는 {0}개의 숫자로 이루어져있습니다\".format(len(digits.data[0])))"
      ],
      "execution_count": 25,
      "outputs": [
        {
          "output_type": "stream",
          "text": [
            "각 데이터는 64개의 숫자로 이루어져있습니다\n"
          ],
          "name": "stdout"
        }
      ]
    },
    {
      "cell_type": "code",
      "metadata": {
        "id": "OG5kbjzIPaGX",
        "colab_type": "code",
        "colab": {
          "base_uri": "https://localhost:8080/",
          "height": 70
        },
        "outputId": "be6d628d-8f83-471c-d16c-629e61fb3e1a"
      },
      "source": [
        "digits_data=digits.data\n",
        "digits_label=digits.target\n",
        "digits_target_names=digits.target_names\n",
        "\n",
        "print(\"Dataset의 shape는 {0}이다\".format(digits_data.shape))\n",
        "print(\"Dataset target의 shape는 {0}이다\".format(digits_label.shape))\n",
        "print(\"Dataset의 target 구성은 {0}이다\".format(digits_target_names))"
      ],
      "execution_count": 30,
      "outputs": [
        {
          "output_type": "stream",
          "text": [
            "Dataset의 shape는 (1797, 64)이다\n",
            "Dataset target의 shape는 (1797,)이다\n",
            "Dataset의 target 구성은 [0 1 2 3 4 5 6 7 8 9]이다\n"
          ],
          "name": "stdout"
        }
      ]
    },
    {
      "cell_type": "markdown",
      "metadata": {
        "id": "T9MxtL0JVrDt",
        "colab_type": "text"
      },
      "source": [
        "## ***Preprocessing_Dataset***"
      ]
    },
    {
      "cell_type": "code",
      "metadata": {
        "id": "IrYqrnZEWPs7",
        "colab_type": "code",
        "colab": {
          "base_uri": "https://localhost:8080/",
          "height": 248
        },
        "outputId": "47fc90d6-3df4-4809-de5d-98264f3e40d6"
      },
      "source": [
        "import matplotlib.pyplot as plt\n",
        "%matplotlib inline\n",
        "\n",
        "plt.imshow(digits.data[0].reshape(8, 8), cmap='gray')\n",
        "plt.axis('off')\n",
        "plt.show()"
      ],
      "execution_count": 16,
      "outputs": [
        {
          "output_type": "display_data",
          "data": {
            "image/png": "[encoded data removed]",
            "text/plain": [
              "<Figure size 432x288 with 1 Axes>"
            ]
          },
          "metadata": {
            "tags": [],
            "needs_background": "light"
          }
        }
      ]
    },
    {
      "cell_type": "code",
      "metadata": {
        "id": "Ys2D21qRWSeC",
        "colab_type": "code",
        "colab": {
          "base_uri": "https://localhost:8080/",
          "height": 207
        },
        "outputId": "98578e28-c342-436e-9bd1-3de61402f89f"
      },
      "source": [
        "for i in range(10):\n",
        "    plt.subplot(2, 5, i+1)\n",
        "    plt.imshow(digits.data[i].reshape(8, 8), cmap='gray')\n",
        "    plt.axis('off')\n",
        "plt.show()"
      ],
      "execution_count": 17,
      "outputs": [
        {
          "output_type": "display_data",
          "data": {
            "image/png": "[encoded data removed]",
            "text/plain": [
              "<Figure size 432x288 with 10 Axes>"
            ]
          },
          "metadata": {
            "tags": [],
            "needs_background": "light"
          }
        }
      ]
    },
    {
      "cell_type": "markdown",
      "metadata": {
        "id": "M0ddxdPpYhCT",
        "colab_type": "text"
      },
      "source": [
        "### **Split Train&Test set**"
      ]
    },
    {
      "cell_type": "code",
      "metadata": {
        "id": "ShSJaM9bUatj",
        "colab_type": "code",
        "colab": {
          "base_uri": "https://localhost:8080/",
          "height": 52
        },
        "outputId": "19657470-1069-4a3d-b9c0-69fad2f02c44"
      },
      "source": [
        "X_train, X_test, y_train, y_test = train_test_split(digits_data,\n",
        "                                                    digits_label,\n",
        "                                                    test_size=0.3,\n",
        "                                                    random_state=15)\n",
        "\n",
        "print('X_train 개수: ', len(X_train), ', X_test 개수: ', len(X_test))\n",
        "print('y_train 개수: ', len(y_train), ', y_test 개수: ', len(y_test))"
      ],
      "execution_count": 33,
      "outputs": [
        {
          "output_type": "stream",
          "text": [
            "X_train 개수:  1257 , X_test 개수:  540\n",
            "y_train 개수:  1257 , y_test 개수:  540\n"
          ],
          "name": "stdout"
        }
      ]
    },
    {
      "cell_type": "markdown",
      "metadata": {
        "id": "wmzlwYfKY39g",
        "colab_type": "text"
      },
      "source": [
        "## ***Training with various models***"
      ]
    },
    {
      "cell_type": "markdown",
      "metadata": {
        "id": "xzXbhXHGY-HV",
        "colab_type": "text"
      },
      "source": [
        "### **DecisionTree**"
      ]
    },
    {
      "cell_type": "markdown",
      "metadata": {
        "id": "MY8wS6kRbTRo",
        "colab_type": "text"
      },
      "source": [
        "https://scikit-learn.org/stable/modules/generated/sklearn.tree.DecisionTreeClassifier.html"
      ]
    },
    {
      "cell_type": "code",
      "metadata": {
        "id": "ho-JcpkRXyoj",
        "colab_type": "code",
        "colab": {
          "base_uri": "https://localhost:8080/",
          "height": 319
        },
        "outputId": "e0553e45-7ef8-4b7f-a1b0-bf8638e10acb"
      },
      "source": [
        "decision_tree = DecisionTreeClassifier(random_state=15)\n",
        "decision_tree.fit(X_train, y_train)\n",
        "y_pred = decision_tree.predict(X_test)\n",
        "\n",
        "print(classification_report(y_test, y_pred))"
      ],
      "execution_count": 39,
      "outputs": [
        {
          "output_type": "stream",
          "text": [
            "              precision    recall  f1-score   support\n",
            "\n",
            "           0       0.91      0.93      0.92        45\n",
            "           1       0.73      0.80      0.77        61\n",
            "           2       0.88      0.91      0.89        56\n",
            "           3       0.70      0.79      0.74        42\n",
            "           4       0.90      0.71      0.79        65\n",
            "           5       0.85      0.96      0.91        55\n",
            "           6       0.94      0.91      0.92        53\n",
            "           7       0.86      0.89      0.88        57\n",
            "           8       0.71      0.76      0.74        42\n",
            "           9       0.87      0.73      0.80        64\n",
            "\n",
            "    accuracy                           0.84       540\n",
            "   macro avg       0.84      0.84      0.84       540\n",
            "weighted avg       0.84      0.84      0.84       540\n",
            "\n"
          ],
          "name": "stdout"
        }
      ]
    },
    {
      "cell_type": "code",
      "metadata": {
        "id": "cNq0N-zCe202",
        "colab_type": "code",
        "colab": {
          "base_uri": "https://localhost:8080/",
          "height": 195
        },
        "outputId": "88e591d3-7967-4461-90ef-bedf18973652"
      },
      "source": [
        "from mlxtend.evaluate import confusion_matrix\n",
        "cm = confusion_matrix(y_test,y_pred,binary=False)\n",
        "\n",
        "cm"
      ],
      "execution_count": 42,
      "outputs": [
        {
          "output_type": "execute_result",
          "data": {
            "text/plain": [
              "array([[42,  0,  0,  0,  0,  0,  1,  0,  2,  0],\n",
              "       [ 0, 49,  0,  1,  2,  0,  0,  4,  3,  2],\n",
              "       [ 0,  4, 51,  1,  0,  0,  0,  0,  0,  0],\n",
              "       [ 0,  0,  2, 33,  0,  1,  0,  1,  5,  0],\n",
              "       [ 3,  3,  1,  2, 46,  2,  2,  2,  1,  3],\n",
              "       [ 1,  0,  0,  0,  0, 53,  0,  0,  0,  1],\n",
              "       [ 0,  2,  2,  0,  1,  0, 48,  0,  0,  0],\n",
              "       [ 0,  2,  0,  3,  0,  0,  0, 51,  0,  1],\n",
              "       [ 0,  4,  2,  3,  0,  1,  0,  0, 32,  0],\n",
              "       [ 0,  3,  0,  4,  2,  5,  0,  1,  2, 47]])"
            ]
          },
          "metadata": {
            "tags": []
          },
          "execution_count": 42
        }
      ]
    },
    {
      "cell_type": "code",
      "metadata": {
        "id": "bNsUvwbKetLf",
        "colab_type": "code",
        "colab": {
          "base_uri": "https://localhost:8080/",
          "height": 295
        },
        "outputId": "9b17f867-458e-4067-9eb7-7779828a7e74"
      },
      "source": [
        "from sklearn.metrics import plot_confusion_matrix\n",
        "\n",
        "disp = plot_confusion_matrix(decision_tree, X_test, y_test,\n",
        "                             display_labels=digits_target_names,\n",
        "                             cmap=plt.cm.Blues)\n",
        "disp.ax_.set_title(\"DIGIT_CLASSIFIER_CM\")\n",
        "plt.show()"
      ],
      "execution_count": 54,
      "outputs": [
        {
          "output_type": "display_data",
          "data": {
            "image/png": "[encoded data removed]",
            "text/plain": [
              "<Figure size 432x288 with 2 Axes>"
            ]
          },
          "metadata": {
            "tags": [],
            "needs_background": "light"
          }
        }
      ]
    },
    {
      "cell_type": "markdown",
      "metadata": {
        "id": "8mxueQabY-gF",
        "colab_type": "text"
      },
      "source": [
        "### **RandomForset**"
      ]
    },
    {
      "cell_type": "code",
      "metadata": {
        "id": "QqOQOsgRhJSH",
        "colab_type": "code",
        "colab": {
          "base_uri": "https://localhost:8080/",
          "height": 319
        },
        "outputId": "37184ea0-fbef-4341-81e7-98c420bba4bb"
      },
      "source": [
        "from sklearn.ensemble import RandomForestClassifier\n",
        "\n",
        "random_forest = RandomForestClassifier(random_state=32)\n",
        "random_forest.fit(X_train, y_train)\n",
        "y_pred = random_forest.predict(X_test)\n",
        "\n",
        "print(classification_report(y_test, y_pred))"
      ],
      "execution_count": 57,
      "outputs": [
        {
          "output_type": "stream",
          "text": [
            "              precision    recall  f1-score   support\n",
            "\n",
            "           0       0.98      0.96      0.97        45\n",
            "           1       0.97      1.00      0.98        61\n",
            "           2       1.00      0.98      0.99        56\n",
            "           3       0.98      0.98      0.98        42\n",
            "           4       0.97      0.95      0.96        65\n",
            "           5       1.00      1.00      1.00        55\n",
            "           6       1.00      0.98      0.99        53\n",
            "           7       0.97      1.00      0.98        57\n",
            "           8       0.93      0.95      0.94        42\n",
            "           9       0.97      0.95      0.96        64\n",
            "\n",
            "    accuracy                           0.98       540\n",
            "   macro avg       0.98      0.98      0.98       540\n",
            "weighted avg       0.98      0.98      0.98       540\n",
            "\n"
          ],
          "name": "stdout"
        }
      ]
    },
    {
      "cell_type": "code",
      "metadata": {
        "id": "GTqdwZZfhSab",
        "colab_type": "code",
        "colab": {
          "base_uri": "https://localhost:8080/",
          "height": 195
        },
        "outputId": "1bcf52dc-d7ed-48f2-ca45-1e5fcaa8ed2b"
      },
      "source": [
        "from mlxtend.evaluate import confusion_matrix\n",
        "cm = confusion_matrix(y_test,y_pred,binary=False)\n",
        "\n",
        "cm"
      ],
      "execution_count": 58,
      "outputs": [
        {
          "output_type": "execute_result",
          "data": {
            "text/plain": [
              "array([[43,  0,  0,  0,  2,  0,  0,  0,  0,  0],\n",
              "       [ 0, 61,  0,  0,  0,  0,  0,  0,  0,  0],\n",
              "       [ 0,  1, 55,  0,  0,  0,  0,  0,  0,  0],\n",
              "       [ 0,  0,  0, 41,  0,  0,  0,  0,  1,  0],\n",
              "       [ 0,  0,  0,  0, 62,  0,  0,  2,  0,  1],\n",
              "       [ 0,  0,  0,  0,  0, 55,  0,  0,  0,  0],\n",
              "       [ 1,  0,  0,  0,  0,  0, 52,  0,  0,  0],\n",
              "       [ 0,  0,  0,  0,  0,  0,  0, 57,  0,  0],\n",
              "       [ 0,  1,  0,  0,  0,  0,  0,  0, 40,  1],\n",
              "       [ 0,  0,  0,  1,  0,  0,  0,  0,  2, 61]])"
            ]
          },
          "metadata": {
            "tags": []
          },
          "execution_count": 58
        }
      ]
    },
    {
      "cell_type": "code",
      "metadata": {
        "id": "Ojt1Cr8ahSp_",
        "colab_type": "code",
        "colab": {
          "base_uri": "https://localhost:8080/",
          "height": 295
        },
        "outputId": "1c3d1502-2fdc-4c45-ebd0-fd8e8e2019a4"
      },
      "source": [
        "disp = plot_confusion_matrix(random_forest, X_test, y_test,\n",
        "                             display_labels=digits_target_names,\n",
        "                             cmap=plt.cm.Blues)\n",
        "disp.ax_.set_title(\"DIGIT_CLASSIFIER_CM\")\n",
        "plt.show()"
      ],
      "execution_count": 59,
      "outputs": [
        {
          "output_type": "display_data",
          "data": {
            "image/png": "[encoded data removed]",
            "text/plain": [
              "<Figure size 432x288 with 2 Axes>"
            ]
          },
          "metadata": {
            "tags": [],
            "needs_background": "light"
          }
        }
      ]
    },
    {
      "cell_type": "markdown",
      "metadata": {
        "id": "TA7mKCBoY-yn",
        "colab_type": "text"
      },
      "source": [
        "### **SVM**"
      ]
    },
    {
      "cell_type": "code",
      "metadata": {
        "id": "tscffS95iBP8",
        "colab_type": "code",
        "colab": {
          "base_uri": "https://localhost:8080/",
          "height": 319
        },
        "outputId": "2c39bae5-99ef-4d7f-d7f8-99cf41c25f73"
      },
      "source": [
        "from sklearn import svm\n",
        "svm_model = svm.SVC()\n",
        "svm_model.fit(X_train, y_train)\n",
        "y_pred = svm_model.predict(X_test)\n",
        "\n",
        "print(classification_report(y_test, y_pred))"
      ],
      "execution_count": 60,
      "outputs": [
        {
          "output_type": "stream",
          "text": [
            "              precision    recall  f1-score   support\n",
            "\n",
            "           0       1.00      0.98      0.99        45\n",
            "           1       0.98      1.00      0.99        61\n",
            "           2       1.00      1.00      1.00        56\n",
            "           3       0.98      0.98      0.98        42\n",
            "           4       0.98      0.97      0.98        65\n",
            "           5       1.00      1.00      1.00        55\n",
            "           6       1.00      1.00      1.00        53\n",
            "           7       0.98      1.00      0.99        57\n",
            "           8       0.95      0.98      0.96        42\n",
            "           9       0.98      0.97      0.98        64\n",
            "\n",
            "    accuracy                           0.99       540\n",
            "   macro avg       0.99      0.99      0.99       540\n",
            "weighted avg       0.99      0.99      0.99       540\n",
            "\n"
          ],
          "name": "stdout"
        }
      ]
    },
    {
      "cell_type": "code",
      "metadata": {
        "id": "hTTN8QcCipUk",
        "colab_type": "code",
        "colab": {
          "base_uri": "https://localhost:8080/",
          "height": 295
        },
        "outputId": "dfd65179-0929-49ac-ecd2-5b852faa6595"
      },
      "source": [
        "disp = plot_confusion_matrix(svm_model, X_test, y_test,\n",
        "                             display_labels=digits_target_names,\n",
        "                             cmap=plt.cm.Blues)\n",
        "disp.ax_.set_title(\"DIGIT_CLASSIFIER_CM\")\n",
        "plt.show()"
      ],
      "execution_count": 62,
      "outputs": [
        {
          "output_type": "display_data",
          "data": {
            "image/png": "[encoded data removed]",
            "text/plain": [
              "<Figure size 432x288 with 2 Axes>"
            ]
          },
          "metadata": {
            "tags": [],
            "needs_background": "light"
          }
        }
      ]
    },
    {
      "cell_type": "markdown",
      "metadata": {
        "id": "yR-yXondY_ES",
        "colab_type": "text"
      },
      "source": [
        "### **SGD**"
      ]
    },
    {
      "cell_type": "code",
      "metadata": {
        "id": "eKhAweVLiBp3",
        "colab_type": "code",
        "colab": {
          "base_uri": "https://localhost:8080/",
          "height": 319
        },
        "outputId": "dcf39525-4e2c-488f-b5b4-ead60616dfab"
      },
      "source": [
        "from sklearn.linear_model import SGDClassifier\n",
        "sgd_model = SGDClassifier(max_iter=1000, shuffle=False)\n",
        "sgd_model.fit(X_train, y_train)\n",
        "y_pred = sgd_model.predict(X_test)\n",
        "\n",
        "print(classification_report(y_test, y_pred))"
      ],
      "execution_count": 63,
      "outputs": [
        {
          "output_type": "stream",
          "text": [
            "              precision    recall  f1-score   support\n",
            "\n",
            "           0       1.00      0.96      0.98        45\n",
            "           1       0.92      0.90      0.91        61\n",
            "           2       1.00      0.93      0.96        56\n",
            "           3       1.00      0.79      0.88        42\n",
            "           4       0.97      0.95      0.96        65\n",
            "           5       0.98      0.96      0.97        55\n",
            "           6       1.00      0.89      0.94        53\n",
            "           7       0.95      1.00      0.97        57\n",
            "           8       0.65      0.95      0.77        42\n",
            "           9       0.89      0.91      0.90        64\n",
            "\n",
            "    accuracy                           0.93       540\n",
            "   macro avg       0.94      0.92      0.92       540\n",
            "weighted avg       0.94      0.93      0.93       540\n",
            "\n"
          ],
          "name": "stdout"
        }
      ]
    },
    {
      "cell_type": "code",
      "metadata": {
        "id": "ShYTiLfOixGq",
        "colab_type": "code",
        "colab": {
          "base_uri": "https://localhost:8080/",
          "height": 295
        },
        "outputId": "aeca4b95-9057-43f7-eb3d-e40f1a0aa735"
      },
      "source": [
        "disp = plot_confusion_matrix(sgd_model, X_test, y_test,\n",
        "                             display_labels=digits_target_names,\n",
        "                             cmap=plt.cm.Blues)\n",
        "disp.ax_.set_title(\"DIGIT_CLASSIFIER_CM\")\n",
        "plt.show()"
      ],
      "execution_count": 64,
      "outputs": [
        {
          "output_type": "display_data",
          "data": {
            "image/png": "[encoded data removed]",
            "text/plain": [
              "<Figure size 432x288 with 2 Axes>"
            ]
          },
          "metadata": {
            "tags": [],
            "needs_background": "light"
          }
        }
      ]
    },
    {
      "cell_type": "markdown",
      "metadata": {
        "id": "HiTmwbwPY_V2",
        "colab_type": "text"
      },
      "source": [
        "### **LogisticClassifier**"
      ]
    },
    {
      "cell_type": "code",
      "metadata": {
        "id": "x22Y7bGFiCHG",
        "colab_type": "code",
        "colab": {
          "base_uri": "https://localhost:8080/",
          "height": 319
        },
        "outputId": "d4aeafc6-592a-4ae7-b9ac-ea5d97d98387"
      },
      "source": [
        "from sklearn.linear_model import LogisticRegression\n",
        "\n",
        "clf= LogisticRegression(random_state=0, max_iter=5000,solver='saga').fit(X_train, y_train)\n",
        "y_pred = clf.predict(X_test)\n",
        "\n",
        "print(classification_report(y_test, y_pred))"
      ],
      "execution_count": 65,
      "outputs": [
        {
          "output_type": "stream",
          "text": [
            "              precision    recall  f1-score   support\n",
            "\n",
            "           0       0.98      0.98      0.98        45\n",
            "           1       0.94      0.98      0.96        61\n",
            "           2       1.00      0.96      0.98        56\n",
            "           3       0.95      0.93      0.94        42\n",
            "           4       0.97      0.95      0.96        65\n",
            "           5       0.98      0.96      0.97        55\n",
            "           6       0.98      0.98      0.98        53\n",
            "           7       0.98      1.00      0.99        57\n",
            "           8       0.89      0.98      0.93        42\n",
            "           9       0.97      0.92      0.94        64\n",
            "\n",
            "    accuracy                           0.96       540\n",
            "   macro avg       0.96      0.97      0.96       540\n",
            "weighted avg       0.97      0.96      0.96       540\n",
            "\n"
          ],
          "name": "stdout"
        }
      ]
    },
    {
      "cell_type": "code",
      "metadata": {
        "id": "lPd1-MRYi4MU",
        "colab_type": "code",
        "colab": {
          "base_uri": "https://localhost:8080/",
          "height": 295
        },
        "outputId": "8915b9d5-e48d-424a-93a4-2bab23201368"
      },
      "source": [
        "disp = plot_confusion_matrix(clf, X_test, y_test,\n",
        "                             display_labels=digits_target_names,\n",
        "                             cmap=plt.cm.Blues)\n",
        "disp.ax_.set_title(\"DIGIT_CLASSIFIER_CM\")\n",
        "plt.show()"
      ],
      "execution_count": 67,
      "outputs": [
        {
          "output_type": "display_data",
          "data": {
            "image/png": "[encoded data removed]",
            "text/plain": [
              "<Figure size 432x288 with 2 Axes>"
            ]
          },
          "metadata": {
            "tags": [],
            "needs_background": "light"
          }
        }
      ]
    },
    {
      "cell_type": "markdown",
      "metadata": {
        "id": "tep35Q9gjIuF",
        "colab_type": "text"
      },
      "source": [
        "## ***COMMENTS*** \n",
        "\n",
        "\n"
      ]
    },
    {
      "cell_type": "markdown",
      "metadata": {
        "id": "mJBcldw6javu",
        "colab_type": "text"
      },
      "source": [
        "\n",
        "\n",
        "*   ACCURARCY가 95% 넘어가는 Model은 총 3개이다.\n",
        "> RandomForest / SVM /LogisticClassifier\n",
        "\n",
        "\n",
        "*   Precison, Recall < F-1 score에 중심을 두고 본 결과, SVM이 효과적으로 분류했다고 볼 수 있다.\n",
        "\n"
      ]
    }
  ]
}